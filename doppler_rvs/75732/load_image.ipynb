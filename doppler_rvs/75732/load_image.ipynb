{
 "metadata": {
  "name": ""
 },
 "nbformat": 3,
 "nbformat_minor": 0,
 "worksheets": [
  {
   "cells": [
    {
     "cell_type": "code",
     "collapsed": false,
     "input": [
      "from matplotlib import pyplot as plt\n",
      "%matplotlib osx\n",
      "import numpy as np\n",
      "import scipy as sp\n",
      "import glob\n",
      "from scipy import ndimage\n",
      "from skimage import filter\n",
      "import pyfits\n",
      "from PIL import Image"
     ],
     "language": "python",
     "metadata": {},
     "outputs": [],
     "prompt_number": 1
    },
    {
     "cell_type": "code",
     "collapsed": false,
     "input": [
      "\n",
      "datafile = glob.glob('/Users/lweiss/doppler_rvs/ucb-acd160.fits')\n",
      "#datafile = glob.glob('/Users/lweiss/doppler_rvs/ucb-acr151.fits')\n",
      "#flatfiles = glob.glob('/Users/lweiss/doppler_rvs/ucb-acr1[123]?.fits')\n",
      "print datafile#, flatfiles"
     ],
     "language": "python",
     "metadata": {},
     "outputs": [
      {
       "output_type": "stream",
       "stream": "stdout",
       "text": [
        "['/Users/lweiss/doppler_rvs/ucb-acd160.fits']\n"
       ]
      }
     ],
     "prompt_number": 2
    },
    {
     "cell_type": "code",
     "collapsed": false,
     "input": [
      "# load data image\n",
      "data_cube = pyfits.getdata(datafile[0],0)\n",
      "dark = data_cube.T\n",
      "type(dark)"
     ],
     "language": "python",
     "metadata": {},
     "outputs": [
      {
       "metadata": {},
       "output_type": "pyout",
       "prompt_number": 6,
       "text": [
        "<matplotlib.image.AxesImage at 0x10cf07c10>"
       ]
      }
     ],
     "prompt_number": 6
    },
    {
     "cell_type": "code",
     "collapsed": false,
     "input": [
      "plt.figure(figsize=(16,8))\n",
      "plt.subplot(111)\n",
      "plt.imshow(dark, cmap=plt.cm.jet)"
     ],
     "language": "python",
     "metadata": {},
     "outputs": [
      {
       "metadata": {},
       "output_type": "pyout",
       "prompt_number": 7,
       "text": [
        "<matplotlib.image.AxesImage at 0x10cf12850>"
       ]
      }
     ],
     "prompt_number": 7
    },
    {
     "cell_type": "code",
     "collapsed": false,
     "input": [
      "pyfits.info(datafile[0])\n",
      "hdulist = pyfits.open(datafile[0]) # open a FITS file\n",
      "prihdr = hdulist[0].header\n",
      "prihdr"
     ],
     "language": "python",
     "metadata": {},
     "outputs": [
      {
       "output_type": "stream",
       "stream": "stdout",
       "text": [
        "Filename: /Users/lweiss/doppler_rvs/ucb-acd160.fits\n",
        "No.    Name         Type      Cards   Dimensions   Format\n",
        "0    PRIMARY     PrimaryHDU     224   (2080, 4608)   int16   \n"
       ]
      },
      {
       "metadata": {},
       "output_type": "pyout",
       "prompt_number": 5,
       "text": [
        "SIMPLE  =                    T / NORMAL FITS IMAGE                              \n",
        "BITPIX  =                   16 / DATA PRECISION                                 \n",
        "NAXIS   =                    2 / NUMBER OF IMAGE DIMENSIONS                     \n",
        "NAXIS1  =                 2080 / NUMBER OF COLUMNS                              \n",
        "NAXIS2  =                 4608 / NUMBER OF ROWS                                 \n",
        "CRVAL1U =                    0 / COLUMN ORIGIN                                  \n",
        "CRVAL2U =                    0 / ROW ORIGIN                                     \n",
        "CDELT1U =                    1 / COLUMN CHANGE PER PIXEL                        \n",
        "CDELT2U =                    1 / ROW CHANGE PER PIXEL                           \n",
        "OBSNUM  =                  160 / OBSERVATION NUMBER                             \n",
        "IDNUM   =                    6 / IMAGE ID                                       \n",
        "UGEOM   =                    1 / UCAM READOUT GEOMETRY                          \n",
        "DGEOM   =                    1 / DESCRAMBLE GEOMETRY                            \n",
        "AMPSROW =                    1 / AMPLIFIERS PER ROW                             \n",
        "AMPSCOL =                    1 / AMPLIFIERS PER COLUMN                          \n",
        "OBSTYPE = 'DARK'               / IMAGE TYPE                                     \n",
        "EXPTIME =                  600 / Exp time (not counting shutter error)          \n",
        "BSCALE  =                    1 / DATA SCALE FACTOR                              \n",
        "BZERO   =                32768 / DATA ZERO POINT                                \n",
        "COMMENT    Real Value = FITS*BSCALE+BZERO                                       \n",
        "PROGRAM = 'NEWCAM'             / New Lick Camera                                \n",
        "VERSION = 'apf'                / Data acquisition version                       \n",
        "TSEC    =           1387588217 / CLOCK TICK - SECONDS                           \n",
        "TUSEC   =               224262 / CLOCK TICK - MICROSECONDS                      \n",
        "DATE    = '2013-12-21T01:10:17.22' / UT of CCD readout & descramble             \n",
        "DATASEC = '[1:2048,1:4608]'        / IRAF/NOAO-style data section               \n",
        "COMMENT End of cards hard-coded in fits_cards                                   \n",
        "COMMENT Begin of cards from other times                                         \n",
        "PHOCOUNT=                    0 / Exposure meter photon count                    \n",
        "AMIDPT  = '2013-12-21T01:00:16.854202' / Non-final photon-weighted midpoint     \n",
        "THEMIDPT= '2013-12-21T01:05:16.852182' / Final photon-weighted midpoint         \n",
        "PFREQ   =                    2 / PARALLEL CLOCK PERIOD                          \n",
        "PADDC   =                    0 / PARALLEL CLOCK CAPACITOR SELECTION             \n",
        "NSTIME  =                   32 / CONTROLS RISING TIME FOR SUBSTRATE             \n",
        "VSUBEX  =                    0 / SUBSTRATE VOLTAGE DURING EXPOSURE              \n",
        "VSUBER  =                    0 / SUBSTRATE VOLTAGE DURING ERASE                 \n",
        "NHBESP  =                   32 / BINNING FOR SPECIAL ERASE                      \n",
        "MERSP   =                    0 / CONTROLS SPECIAL ERASE MODE                    \n",
        "TCPR1   =                    4 / PRE-IMAGE SERIAL PIXELS                        \n",
        "TSPRD   =                   40 / SAMPLE TIME IN 0.1 MICROSECOND UNITS           \n",
        "TSCLEAN =                   40 / SERIAL CLEAN SAMPLE TIME                       \n",
        "SFREQ   =                    2 / SERIAL CLOCK PERIOD                            \n",
        "SADDC   =                    2 / SERIAL CLOCK CAP SELECTION                     \n",
        "REVERASE=                    0 / NUMBER OF REVERSE ERASES                       \n",
        "TCPR2   =                    4 / POST-IMAGE SERIAL PIXELS BEFORE OVERSCAN       \n",
        "ERPBIN  =                   10 / PARALLEL BINNING DURING ERASE                  \n",
        "ERASE   =                    2 / NUMBER OF ERASES                               \n",
        "PSKIP   =                    0 / CONTROLS POST-IMAGE SKIPPING                   \n",
        "CSMP    =                    0 / DCS CAP SELECTION                              \n",
        "CSELPRD =                    0 / PREREAD CLOCK SELECTION                        \n",
        "SCLEAN  =                    0 / SERIAL CLEANING CLOCK SELECTION                \n",
        "BINPRD  =                    0 / PREREAD SERIAL BINNING                         \n",
        "BINSCLN =                    0 / BINNING FOR SERIAL CLEAN                       \n",
        "PPRERD  =                   40 / PRE-IMAGE ROWS                                 \n",
        "AIRMASS =                    1 / Airmass at end of exposure                     \n",
        "OWNERID = '                  ' / OWNERID for archive data                       \n",
        "TTRUS315=       8.409999847412 / [degC] Telescope truss 10:30 surface temp      \n",
        "TTRUS225=       7.699999809265 / [degC] Telescope truss 7:30 surface temp       \n",
        "TTRUS135=       9.539999961853 / [degC] Telescope truss 4:30 surface temp       \n",
        "TTRUS045=       7.400000095367 / [degC] Telescope truss 1:30 surface temp       \n",
        "RMSOFFEL=                    0 / [arcsec] Autoguider RMS offset (el)            \n",
        "AVGOFFEL=                    0 / [arcsec] Autoguider average offset (el)        \n",
        "RMSOFFAZ=                    0 / [arcsec] Autoguider RMS offset (az)            \n",
        "AVGOFFAZ=                    0 / [arcsec] Autoguider average offset (az)        \n",
        "GPSCALE =      0.1080000028014 / [arcsec/pixel] Guide image platescale          \n",
        "RMS_FLUX=                    0 / [adu] Guide image RMS target flux              \n",
        "AVG_FLUX=                    0 / [adu] Guide image average target flux          \n",
        "RMSSTHET=                    0 / [deg] Guide image RMS centroid angle           \n",
        "AVGSTHET=                    0 / [deg] Guide image average centroid angle       \n",
        "RMS_SMIN=                    0 / [pixel] Guide image RMS semi-minor axis        \n",
        "AVG_SMIN=                    0 / [pixel] Guide image average semi-minor axis    \n",
        "RMS_SMAJ=                    0 / [pixel] Guide image RMS semi-major axis        \n",
        "AVG_SMAJ=                    0 / [pixel] Guide image average semi-major axis    \n",
        "HALOGEN2= 'Off               ' / Halogen lamp #2                                \n",
        "HALOGEN1= 'Off               ' / Halogen lamp #1                                \n",
        "DWRSTTMP=       17.20000076294 / [degC] Dewar mechanical stage temp             \n",
        "DWRMOTTP=       21.70000076294 / [degC] Motor temp for dewar focus              \n",
        "DFOCVAL =       1.539999961853 / [mm] Dewar focus position                      \n",
        "APRMOTTP=       21.60000038147 / [degC] Motor temp for aperture plate           \n",
        "ADCVAX  =                    0 / [deg] ADC correction                           \n",
        "ADCVAL  =                    0 / [mm] ADC position                              \n",
        "ADCMOTTP=       18.10000038147 / [degC] Motor temp for ADC                      \n",
        "ICELRAW =                15683 / Iodine cell load encoder                       \n",
        "DFOCRAW =                 7696 / Dewar focus load encoder                       \n",
        "DECKRRAW=               121685 / Slit/decker load encoder                       \n",
        "CSRCRAW =                41899 / Calibration source load encoder                \n",
        "ADCRAW  =                    0 / ADC load encoder                               \n",
        "METWINDD=                  309 / [deg] Weather station wind direction           \n",
        "THORIUM2= 'Off               ' / Thorium lamp #2                                \n",
        "METRAIN = 'False             ' / Weather station rain indicator                 \n",
        "ICELNAM = 'In                ' / Iodine cell position                           \n",
        "DISP0STA= 'Ready             ' / apfmot dispatcher #0 status                    \n",
        "DECKRNAM= 'W (1.00:3.0)      ' / Slit/decker position                           \n",
        "CSRCNAM = 'Halogen Sphere    ' / Calibration source position                    \n",
        "CMIRRNAM= 'Out               ' / Calibration mirror position                    \n",
        "OMEGAPOW= 'On                ' / Iodine cell Omega controller power             \n",
        "ICELCTRL= 'Ready             ' / Iodine cell Omega dispatcher status            \n",
        "TOBJECT = '<Park>            ' / Telescope target object name                   \n",
        "THORIUM1= 'Off               ' / Thorium lamp #1                                \n",
        "MAXCOUNT=            330000000 / Maximum allowed photon count                   \n",
        "EL      =       89.67430114746 / [deg] Telescope elevation                      \n",
        "AZ      =       188.5111999512 / [deg] Telescope azimuth                        \n",
        "SPEXTBTP=                    9 / [degC] Spectrograph external bottom temp       \n",
        "METRH   =                   19 / [%] Weather station relative humidity          \n",
        "RACKTTMP=                 20.5 / [degC] Electronics rack top temperature        \n",
        "RACKMTMP=       23.20000076294 / [degC] Electronics rack middle temperature     \n",
        "RACKBTMP=       24.60000038147 / [degC] Electronics rack bottom temperature     \n",
        "RACK2TMP=       26.39999961853 / [degC] Electronics rack board 2 temperature    \n",
        "RACK1TMP=       26.60000038147 / [degC] Electronics rack board 1 temperature    \n",
        "MIRMOTTP=       20.29999923706 / [degC] Motor temp for cal. mirror              \n",
        "METWINDS=       4.900000095367 / [m/s] Weather station wind speed               \n",
        "METTEMP =       6.599999904633 / [degC] Weather station temperature             \n",
        "METDEW  =      -15.69999980927 / [degC] Weather station dew point               \n",
        "IODMOTTP=       20.70000076294 / [degC] Motor temp for iodine cell              \n",
        "ICELTEMP=                   50 / [degC] Iodine cell temperature                 \n",
        "ICELSETP=                   50 / [degC] Iodine cell temperature set point       \n",
        "GFCMOTTP=       19.39999961853 / [degC] Motor temp for guide focus              \n",
        "GCXCHVLV=                    0 / [V] Glycol valve for heat exchanger            \n",
        "GCUCMVLV=                    1 / [V] Glycol valve for UCAM controller           \n",
        "GCUCMTMP=       16.20000076294 / [degC] Glycol temp leaving UCAM controller     \n",
        "GCMANTMP=       7.599999904633 / [degC] Glycol temp leaving spec. chiller       \n",
        "GCLMPVLV=                    0 / [V] Glycol valve for cal. lamp                 \n",
        "GCLMPTMP=       17.29999923706 / [degC] Glycol temp leaving cal. lamp           \n",
        "GCAMP2TP=       16.39999961853 / [degC] Guide camera port 2 temp                \n",
        "GCAMP1TP=       17.79999923706 / [degC] Guide camera port 1 temp                \n",
        "FCU3TEMP=                  8.5 / [degC] Dome fan cooling unit #3 temp           \n",
        "FCU3SETP=                  6.5 / [degC] Dome fan cooling unit #3 setpoint       \n",
        "FCU2TEMP=                  8.5 / [degC] Dome fan cooling unit #2 temp           \n",
        "FCU2SETP=                  6.5 / [degC] Dome fan cooling unit #2 setpoint       \n",
        "FCU1TEMP=       19.29999923706 / [degC] Dome fan cooling unit #1 temp           \n",
        "FCU1SETP=                   20 / [degC] Dome fan cooling unit #1 setpoint       \n",
        "ACFOCUS =                   -0 / [m] Telescope focus compensated position       \n",
        "AAFOCDCY=                    0 / [m] Telescope focus absolute Y decenter        \n",
        "AAFOCDCX=                    0 / [m] Telescope focus absolute X decenter        \n",
        "AAFOCTLT=                   50 / [rad] Telescope focus absolute tilt            \n",
        "AAFOCTIP=      -4.099999904633 / [rad] Telescope focus absolute tip             \n",
        "AAFOCUS =  -0.0008030000026338 / [m] Telescope focus absolute position          \n",
        "RA      = '23:01:47.4        ' / Telescope right ascension                      \n",
        "HA      = '  0:00:14.5       ' / Telescope hour angle                           \n",
        "DEC     = ' 36:56:24.0       ' / Telescope declination                          \n",
        "CMIRRRAW=                 5000 / Calibration mirror load encoder                \n",
        "GCBYPVLV=                    5 / [V] Glycol bypass valve                        \n",
        "UCAMEXTP=       13.69999980927 / [degC] UCAM controller housing temp            \n",
        "THUD4TMP=        8.10000038147 / [degC] Dome THuD level 4 temperature           \n",
        "THUD4DEW=      -10.10000038147 / [degC] Dome THuD level 4 dewpoint              \n",
        "THUD3TMP=                    9 / [degC] Dome THuD level 3 temperature           \n",
        "THUD3DEW=      -9.699999809265 / [degC] Dome THuD level 3 dewpoint              \n",
        "THUD1TMP=       19.29999923706 / [degC] Dome THuD level 1 temperature           \n",
        "THUD1DEW=                   -7 / [degC] Dome THuD level 1 dewpoint              \n",
        "SRCMOTTP=       20.79999923706 / [degC] Motor temp for cal. source              \n",
        "FOCENAB = 'Yes               ' / Telescope focus enabled (Yes or No)            \n",
        "SPEXTTTP=                    9 / [degC] Spectrograph external top temp          \n",
        "OBJECT  = 'dark              '                                                  \n",
        "FOCTYPE = '3-axis Actuated   ' / Telescope focus type                           \n",
        "CCFOCDCY=                    0 / [m] Telescope focus commanded comp. Y decenter \n",
        "CCFOCDCX=                    0 / [m] Telescope focus commanded comp. X decenter \n",
        "CCFOCTLT=                    0 / [rad] Telescope focus commanded comp. tilt     \n",
        "CCFOCTIP=                    0 / [rad] Telescope focus commanded comp. tip      \n",
        "CCFOCUS =                    0 / [m] Telescope focus commanded comp. position   \n",
        "CAFOCDCY=                    0 / [m] Telescope focus commanded abs. Y decenter  \n",
        "CAFOCDCX=                    0 / [m] Telescope focus commanded abs. X decenter  \n",
        "CAFOCTLT=                   50 / [rad] Telescope focus commanded abs. tilt      \n",
        "CAFOCTIP=                   -4 / [rad] Telescope focus commanded abs. tip       \n",
        "CAFOCUS =  -0.0008030000026338 / [m] Telescope focus commanded abs. position    \n",
        "ACFOCDCY=                    0 / [m] Telescope focus compensated Y decenter     \n",
        "ACFOCDCX=                    0 / [m] Telescope focus compensated X decenter     \n",
        "ACFOCTLT=                   -0 / [rad] Telescope focus compensated tilt         \n",
        "ACFOCTIP=     -0.1000000014901 / [rad] Telescope focus compensated tip          \n",
        "OBSERVER= 'Burt,Rivera       ' / OBSERVER NAME                                  \n",
        "DATE-END= '2013-12-21T01:10:16.79' / END OF OBSERVATION                         \n",
        "GEOMCODE=                    1 / READOUT GEOMETRY                               \n",
        "DSENSOR = 'e2v 2kx4k 42-90   ' / SENSOR DESCRIPTION                             \n",
        "DNAXIS2 =                 4608 / ROWS IN SENSOR                                 \n",
        "DNAXIS1 =                 2048 / COLUMNS IN SENSOR                              \n",
        "UCAMADC = 'Old ADC           ' / UCAM ADC BOARDS                                \n",
        "UCAMCDB = 'Old CDB           ' / UCAM CDB BOARDS                                \n",
        "CAMERAID=                    5 / CAMERA ID NUMBER                               \n",
        "UCAMSPB = '2 DSP             ' / UCAM SPB BOARDS                                \n",
        "UCAMSOFT= '4.08 052011       ' / UCAM SOFTWARE VERSION                          \n",
        "UCAMTIM = 'Old Timing        ' / UCAM TIMING BOARDS                             \n",
        "GAIN    =                    1 / DCS GAIN INDEX                                 \n",
        "TEMPCON =      -121.6999969482 / CONTROLLER TEMPERATURE                         \n",
        "CBIN    =                    0 / COLUMN BINNING                                 \n",
        "NCSHIFT =                    0 / NUMBER OF CHARGE SHUFFLES                      \n",
        "RCSHIFT =                    0 / NUMBER OF ROWS IN EACH CHARGE SHUFFLE          \n",
        "ROVER   =                    0 / NUMBER OF OVERSCAN ROWS                        \n",
        "COVER   =                   32 / NUMBER OF OVERSCAN COLUMNS                     \n",
        "OBSTYPE =                    0 / IMAGE TYPE                                     \n",
        "MPP     =                    0 / MPP STATE                                      \n",
        "TEMPDET =      -86.09999847412 / EXPOSURE START DETECTOR TEMPERATURE            \n",
        "RBIN    =                    0 / ROW BINNING                                    \n",
        "READ-SPD=                   10 / DCS READ SPEED                                 \n",
        "BOTAIRT =                   17 / [degC] Spectr optical bench bottom air temp    \n",
        "TM1S210 =       6.650000095367 / [degC] telescope M1 Sensor 7:00 temperature    \n",
        "TM2CSUR =       7.519999980927 / [degC] telescope M2 Can Surface temperature    \n",
        "TM2CAIR =       7.099999904633 / [degC] telescope M2 Can Air temperature        \n",
        "TCAIR175=       7.760000228882 / [degC] telescope Center Section Air 6:30 temper\n",
        "TAVERAGE=       8.260000228882 / [degC] telescope truss average temperature     \n",
        "METPRES =                  869 / [hPa] Weather station air pressure             \n",
        "HEATER  =                    0 / HEATER VOLTAGE                                 \n",
        "HEATXFAN= 'On                ' / Spectr heat exchanger fan                      \n",
        "GCXCHTMP=       14.69999980927 / [degC] Spectr heat exchanger temp              \n",
        "INTSPHT =       16.79999923706 / [degC] Spectr integrating sphere temp          \n",
        "STRUTAVG=       17.57999992371 / [degC] Spectr strut average temp               \n",
        "STRUT6  =       17.39999961853 / [degC] Spectr strut 6 temp                     \n",
        "STRUT5  =       17.39999961853 / [degC] Spectr strut 5 temp                     \n",
        "STRUT4  =                 17.5 / [degC] Spectr strut 4 temp                     \n",
        "STRUT3  =                 17.5 / [degC] Spectr strut 3 temp                     \n",
        "STRUT2  =       17.89999961853 / [degC] Spectr strut 2 temp                     \n",
        "STRUT1  =       17.70000076294 / [degC] Spectr strut 1 temp                     \n",
        "THUD4RH =       26.39999961853 / [%] Dome THuD level 4 relative humidity        \n",
        "THUD3RH =       25.79999923706 / [%] Dome THuD level 3 relative humidity        \n",
        "THUD1RH =       16.20000076294 / [%] Dome THuD level 1 relative humidity        \n",
        "SPINTRH =       5.199999809265 / [%] Spectrograph internal relative humidity    \n",
        "SPEXTRH =       22.60000038147 / [%] Spectrograph external relative humidity    \n",
        "TOPSRFT =       17.20000076294 / [degC] Spectr optical bench top surface temp   \n",
        "BOTSRFT =       18.60000038147 / [degC] Spectr optical bench bot. surface temp  \n",
        "TOPAIRT =       18.29999923706 / [degC] Spectr optical bench top air temp       \n",
        "DATE-BEG= '2013-12-21T01:00:16.79' / START OF OBSERVATION                       \n",
        "DATE-OBS= '2013-12-21T01:00:16.79' / observation date (begin)                   \n",
        "CKSUMOK =                    T / cd: CHECKSUMS MATCH                            \n",
        "CAMCKSUM=                39067 / cd: CAMERA-COMPUTED CHECKSUM                   \n",
        "SFTCKSUM=                39067 / cd: SOFTWARE-COMPUTED CHECKSUM                 \n",
        "COMMENT End of cards from other times                                           "
       ]
      }
     ],
     "prompt_number": 5
    },
    {
     "cell_type": "code",
     "collapsed": false,
     "input": [
      "# load flat, take median flat, and flat-field the image\n",
      "flats = np.array([pyfits.getdata(file,0) for file in flatfiles])\n",
      "flats.shape"
     ],
     "language": "python",
     "metadata": {},
     "outputs": [
      {
       "metadata": {},
       "output_type": "pyout",
       "prompt_number": 5,
       "text": [
        "(27, 4608, 2080)"
       ]
      }
     ],
     "prompt_number": 5
    },
    {
     "cell_type": "code",
     "collapsed": false,
     "input": [
      "medflat = np.median(flats,axis=0)\n",
      "medflat = medflat.T"
     ],
     "language": "python",
     "metadata": {},
     "outputs": [],
     "prompt_number": 6
    },
    {
     "cell_type": "code",
     "collapsed": false,
     "input": [
      "# check that raw image and flats are same shape!\n",
      "np.subtract(rawim.shape,medflat.shape)\n",
      "rawim.shape"
     ],
     "language": "python",
     "metadata": {},
     "outputs": [
      {
       "metadata": {},
       "output_type": "pyout",
       "prompt_number": 7,
       "text": [
        "(2080, 4608)"
       ]
      }
     ],
     "prompt_number": 7
    },
    {
     "cell_type": "code",
     "collapsed": false,
     "input": [
      "# subtract bias from all images\n",
      "bias = np.array([np.median(rawim[-32:,row]) for row in np.arange(rawim.shape[1])])\n",
      "imb = np.array([np.subtract(rawim[:,row], bias[row]) for row in np.arange(bias.shape[0])]).T\n",
      "flatbias = np.array([np.median(medflat[-32:,row]) for row in np.arange(medflat.shape[1])])\n",
      "medflatb = np.array([np.subtract(medflat[:,row], flatbias[row]) for row in np.arange(flatbias.shape[0])]).T\n",
      "imb.shape"
     ],
     "language": "python",
     "metadata": {},
     "outputs": [
      {
       "metadata": {},
       "output_type": "pyout",
       "prompt_number": 8,
       "text": [
        "(2080, 4608)"
       ]
      }
     ],
     "prompt_number": 8
    },
    {
     "cell_type": "code",
     "collapsed": false,
     "input": [
      "plt.plot(imb[-33:,4000])\n",
      "plt.plot(medflatb[-33:,4000])"
     ],
     "language": "python",
     "metadata": {},
     "outputs": [
      {
       "metadata": {},
       "output_type": "pyout",
       "prompt_number": 9,
       "text": [
        "[<matplotlib.lines.Line2D at 0x10c688790>]"
       ]
      }
     ],
     "prompt_number": 9
    },
    {
     "cell_type": "code",
     "collapsed": false,
     "input": [
      "plt.figure(figsize=(16,8))\n",
      "plt.subplot(111)\n",
      "plt.imshow(imb, cmap=plt.cm.gray)"
     ],
     "language": "python",
     "metadata": {},
     "outputs": [
      {
       "metadata": {},
       "output_type": "pyout",
       "prompt_number": 14,
       "text": [
        "<matplotlib.image.AxesImage at 0x101945e50>"
       ]
      }
     ],
     "prompt_number": 14
    },
    {
     "cell_type": "code",
     "collapsed": false,
     "input": [
      "im = np.divide(imb[:-32,:],medflatb[:-32,:])\n",
      "print np.max(im)"
     ],
     "language": "python",
     "metadata": {},
     "outputs": [
      {
       "output_type": "stream",
       "stream": "stdout",
       "text": [
        "101.075\n"
       ]
      }
     ],
     "prompt_number": 51
    },
    {
     "cell_type": "code",
     "collapsed": false,
     "input": [
      "plt.figure(figsize=(16,8))\n",
      "plt.subplot(111)\n",
      "plt.imshow(im, cmap=plt.cm.gray)\n",
      "plt.title('Image', fontsize=20)"
     ],
     "language": "python",
     "metadata": {},
     "outputs": [
      {
       "metadata": {},
       "output_type": "pyout",
       "prompt_number": 53,
       "text": [
        "<matplotlib.text.Text at 0x1255d9810>"
       ]
      }
     ],
     "prompt_number": 53
    }
   ],
   "metadata": {}
  }
 ]
}