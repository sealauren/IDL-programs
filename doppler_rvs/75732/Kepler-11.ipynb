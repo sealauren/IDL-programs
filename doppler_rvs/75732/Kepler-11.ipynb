{
 "metadata": {
  "name": ""
 },
 "nbformat": 3,
 "nbformat_minor": 0,
 "worksheets": [
  {
   "cells": [
    {
     "cell_type": "code",
     "collapsed": false,
     "input": [
      "import sys\n",
      "import numpy as np\n",
      "from numpy import arange, cos, sin, tan, pi\n",
      "import pandas as pd\n",
      "import astropy.constants as const\n",
      "from astropy import units\n",
      "sys.path.append('/Users/lweiss/Dropbox/research/')\n",
      "from rv_solve import *\n",
      "import pylab as plt"
     ],
     "language": "python",
     "metadata": {},
     "outputs": [
      {
       "output_type": "stream",
       "stream": "stdout",
       "text": [
        "5.9742e+27 g 1.9891e+33 g 6.67384e-08 cm3 / (g s2) 29979245800.0 cm / s\n",
        "K for Jupiter:  12.7765621404 m / s\n"
       ]
      }
     ],
     "prompt_number": 1
    },
    {
     "cell_type": "code",
     "collapsed": false,
     "input": [
      "import pandas as pd\n",
      "df = pd.read_csv('/Users/lweiss/Dropbox/research/orbits.txt', index_col='NAME')\n",
      "print df.columns\n",
      "df.ix[df.STAR=='Kepler-11',['MASS','R','PER','ECC','I','BIGOM','OM','T0','TT','MSTAR','RSTAR','K']]"
     ],
     "language": "python",
     "metadata": {},
     "outputs": [
      {
       "output_type": "stream",
       "stream": "stdout",
       "text": [
        "Index([u'COMP', u'KOI', u'MASS', u'R', u'PER', u'ECC', u'I', u'BIGOM', u'OM', u'T0', u'TT', u'K', u'GAMMA', u'DVDT', u'A', u'HD', u'STAR', u'RSTAR', u'MSTAR', u'RHOSTAR', u'TEFF', u'KP', u'LOGG', u'SHK', u'FE', u'V', u'VURL', u'VREF', u'RHK', u'DEC', u'RA', u'BINARY', u'BINARYURL', u'BINARYREF', u'MULT', u'ORBREF', u'ORBURL', u'FIRSTREF', u'FIRSTURL'], dtype=object)\n"
       ]
      },
      {
       "html": [
        "<div style=\"max-height:1000px;max-width:1500px;overflow:auto;\">\n",
        "<table border=\"1\" class=\"dataframe\">\n",
        "  <thead>\n",
        "    <tr style=\"text-align: right;\">\n",
        "      <th></th>\n",
        "      <th>MASS</th>\n",
        "      <th>R</th>\n",
        "      <th>PER</th>\n",
        "      <th>ECC</th>\n",
        "      <th>I</th>\n",
        "      <th>BIGOM</th>\n",
        "      <th>OM</th>\n",
        "      <th>T0</th>\n",
        "      <th>TT</th>\n",
        "      <th>MSTAR</th>\n",
        "      <th>RSTAR</th>\n",
        "      <th>K</th>\n",
        "    </tr>\n",
        "    <tr>\n",
        "      <th>NAME</th>\n",
        "      <th></th>\n",
        "      <th></th>\n",
        "      <th></th>\n",
        "      <th></th>\n",
        "      <th></th>\n",
        "      <th></th>\n",
        "      <th></th>\n",
        "      <th></th>\n",
        "      <th></th>\n",
        "      <th></th>\n",
        "      <th></th>\n",
        "      <th></th>\n",
        "    </tr>\n",
        "  </thead>\n",
        "  <tbody>\n",
        "    <tr>\n",
        "      <th>Kepler-11 b</th>\n",
        "      <td> 1.8999204157878875</td>\n",
        "      <td> 1.7979205092425643</td>\n",
        "      <td>  10.3039</td>\n",
        "      <td> 0.045000</td>\n",
        "      <td> 89.64</td>\n",
        "      <td> NaN</td>\n",
        "      <td>      45</td>\n",
        "      <td>  2455588.553</td>\n",
        "      <td> 2455589.7378</td>\n",
        "      <td> 0.961</td>\n",
        "      <td> 1.065</td>\n",
        "      <td>   NaN</td>\n",
        "    </tr>\n",
        "    <tr>\n",
        "      <th>Kepler-11 c</th>\n",
        "      <td> 2.8998763548257505</td>\n",
        "      <td>  2.867436614665809</td>\n",
        "      <td>  13.0241</td>\n",
        "      <td> 0.025612</td>\n",
        "      <td> 89.59</td>\n",
        "      <td> NaN</td>\n",
        "      <td> 51.3402</td>\n",
        "      <td>  2455582.016</td>\n",
        "      <td> 2455583.3494</td>\n",
        "      <td> 0.961</td>\n",
        "      <td> 1.065</td>\n",
        "      <td>   NaN</td>\n",
        "    </tr>\n",
        "    <tr>\n",
        "      <th>Kepler-11 d</th>\n",
        "      <td>  7.299707276288038</td>\n",
        "      <td>  3.117217541274047</td>\n",
        "      <td>  22.6845</td>\n",
        "      <td> 0.003605</td>\n",
        "      <td> 89.67</td>\n",
        "      <td> NaN</td>\n",
        "      <td>  146.31</td>\n",
        "      <td>  2455597.533</td>\n",
        "      <td> 2455594.0069</td>\n",
        "      <td> 0.961</td>\n",
        "      <td> 1.065</td>\n",
        "      <td> 1.426</td>\n",
        "    </tr>\n",
        "    <tr>\n",
        "      <th>Kepler-11 e</th>\n",
        "      <td>  8.400274420006024</td>\n",
        "      <td>  4.185175598375692</td>\n",
        "      <td>  31.9996</td>\n",
        "      <td> 0.012000</td>\n",
        "      <td> 88.89</td>\n",
        "      <td> NaN</td>\n",
        "      <td>      90</td>\n",
        "      <td> 2455595.0755</td>\n",
        "      <td> 2454987.1590</td>\n",
        "      <td> 0.961</td>\n",
        "      <td>   1.1</td>\n",
        "      <td>   NaN</td>\n",
        "    </tr>\n",
        "    <tr>\n",
        "      <th>Kepler-11 f</th>\n",
        "      <td>  2.297912623782264</td>\n",
        "      <td> 2.4871383164265217</td>\n",
        "      <td>  46.6888</td>\n",
        "      <td> 0.013000</td>\n",
        "      <td> 89.47</td>\n",
        "      <td> NaN</td>\n",
        "      <td>      90</td>\n",
        "      <td>  2455618.271</td>\n",
        "      <td> 2454964.6487</td>\n",
        "      <td> 0.961</td>\n",
        "      <td> 1.065</td>\n",
        "      <td>   NaN</td>\n",
        "    </tr>\n",
        "    <tr>\n",
        "      <th>Kepler-11 g</th>\n",
        "      <td>                  0</td>\n",
        "      <td> 3.3261641510794746</td>\n",
        "      <td> 118.3807</td>\n",
        "      <td> 0.000000</td>\n",
        "      <td> 89.87</td>\n",
        "      <td> NaN</td>\n",
        "      <td>      90</td>\n",
        "      <td> 2455593.8021</td>\n",
        "      <td> 2455120.2901</td>\n",
        "      <td> 0.961</td>\n",
        "      <td>   1.1</td>\n",
        "      <td>   NaN</td>\n",
        "    </tr>\n",
        "  </tbody>\n",
        "</table>\n",
        "</div>"
       ],
       "metadata": {},
       "output_type": "pyout",
       "prompt_number": 2,
       "text": [
        "                           MASS                   R       PER       ECC  \\\n",
        "NAME                                                                      \n",
        "Kepler-11 b  1.8999204157878875  1.7979205092425643   10.3039  0.045000   \n",
        "Kepler-11 c  2.8998763548257505   2.867436614665809   13.0241  0.025612   \n",
        "Kepler-11 d   7.299707276288038   3.117217541274047   22.6845  0.003605   \n",
        "Kepler-11 e   8.400274420006024   4.185175598375692   31.9996  0.012000   \n",
        "Kepler-11 f   2.297912623782264  2.4871383164265217   46.6888  0.013000   \n",
        "Kepler-11 g                   0  3.3261641510794746  118.3807  0.000000   \n",
        "\n",
        "                 I BIGOM       OM            T0            TT  MSTAR  RSTAR  \\\n",
        "NAME                                                                          \n",
        "Kepler-11 b  89.64   NaN       45   2455588.553  2455589.7378  0.961  1.065   \n",
        "Kepler-11 c  89.59   NaN  51.3402   2455582.016  2455583.3494  0.961  1.065   \n",
        "Kepler-11 d  89.67   NaN   146.31   2455597.533  2455594.0069  0.961  1.065   \n",
        "Kepler-11 e  88.89   NaN       90  2455595.0755  2454987.1590  0.961    1.1   \n",
        "Kepler-11 f  89.47   NaN       90   2455618.271  2454964.6487  0.961  1.065   \n",
        "Kepler-11 g  89.87   NaN       90  2455593.8021  2455120.2901  0.961    1.1   \n",
        "\n",
        "                 K  \n",
        "NAME                \n",
        "Kepler-11 b    NaN  \n",
        "Kepler-11 c    NaN  \n",
        "Kepler-11 d  1.426  \n",
        "Kepler-11 e    NaN  \n",
        "Kepler-11 f    NaN  \n",
        "Kepler-11 g    NaN  "
       ]
      }
     ],
     "prompt_number": 2
    },
    {
     "cell_type": "code",
     "collapsed": false,
     "input": [
      "# Make time array\n",
      "import datetime\n",
      "from astropy.time import Time\n",
      "dtimes = []\n",
      "for y in [2014, 2015]:\n",
      "    for m in [7,8]: #loop over July and August\n",
      "        for d in arange(1,32,1): # observe every night\n",
      "        #    for h in [7,12]:\n",
      "            dtimes.append(str(datetime.datetime(y, m, d, 10)))\n",
      "#print dtimes\n",
      "# convert t to JD\n",
      "tarr = np.array(Time(dtimes,format='iso',scale='utc').jd)\n",
      "tdisplay = tarr - 2456000\n",
      "tarr.shape"
     ],
     "language": "python",
     "metadata": {},
     "outputs": [
      {
       "metadata": {},
       "output_type": "pyout",
       "prompt_number": 3,
       "text": [
        "(124,)"
       ]
      }
     ],
     "prompt_number": 3
    },
    {
     "cell_type": "code",
     "collapsed": false,
     "input": [
      "# calculate RVs for each planet\n",
      "starname='Kepler-11'\n",
      "mystar = df[df.STAR==starname]\n",
      "mystar.ix['Kepler-11 g','MASS'] = 7.0\n",
      "mystar.ix[:,['MASS','R','PER','ECC','I','BIGOM','OM','T0','TT','MSTAR','RSTAR','K']]"
     ],
     "language": "python",
     "metadata": {},
     "outputs": [
      {
       "html": [
        "<div style=\"max-height:1000px;max-width:1500px;overflow:auto;\">\n",
        "<table border=\"1\" class=\"dataframe\">\n",
        "  <thead>\n",
        "    <tr style=\"text-align: right;\">\n",
        "      <th></th>\n",
        "      <th>MASS</th>\n",
        "      <th>R</th>\n",
        "      <th>PER</th>\n",
        "      <th>ECC</th>\n",
        "      <th>I</th>\n",
        "      <th>BIGOM</th>\n",
        "      <th>OM</th>\n",
        "      <th>T0</th>\n",
        "      <th>TT</th>\n",
        "      <th>MSTAR</th>\n",
        "      <th>RSTAR</th>\n",
        "      <th>K</th>\n",
        "    </tr>\n",
        "    <tr>\n",
        "      <th>NAME</th>\n",
        "      <th></th>\n",
        "      <th></th>\n",
        "      <th></th>\n",
        "      <th></th>\n",
        "      <th></th>\n",
        "      <th></th>\n",
        "      <th></th>\n",
        "      <th></th>\n",
        "      <th></th>\n",
        "      <th></th>\n",
        "      <th></th>\n",
        "      <th></th>\n",
        "    </tr>\n",
        "  </thead>\n",
        "  <tbody>\n",
        "    <tr>\n",
        "      <th>Kepler-11 b</th>\n",
        "      <td> 1.8999204157878875</td>\n",
        "      <td> 1.7979205092425643</td>\n",
        "      <td>  10.3039</td>\n",
        "      <td> 0.045000</td>\n",
        "      <td> 89.64</td>\n",
        "      <td> NaN</td>\n",
        "      <td>      45</td>\n",
        "      <td>  2455588.553</td>\n",
        "      <td> 2455589.7378</td>\n",
        "      <td> 0.961</td>\n",
        "      <td> 1.065</td>\n",
        "      <td>   NaN</td>\n",
        "    </tr>\n",
        "    <tr>\n",
        "      <th>Kepler-11 c</th>\n",
        "      <td> 2.8998763548257505</td>\n",
        "      <td>  2.867436614665809</td>\n",
        "      <td>  13.0241</td>\n",
        "      <td> 0.025612</td>\n",
        "      <td> 89.59</td>\n",
        "      <td> NaN</td>\n",
        "      <td> 51.3402</td>\n",
        "      <td>  2455582.016</td>\n",
        "      <td> 2455583.3494</td>\n",
        "      <td> 0.961</td>\n",
        "      <td> 1.065</td>\n",
        "      <td>   NaN</td>\n",
        "    </tr>\n",
        "    <tr>\n",
        "      <th>Kepler-11 d</th>\n",
        "      <td>  7.299707276288038</td>\n",
        "      <td>  3.117217541274047</td>\n",
        "      <td>  22.6845</td>\n",
        "      <td> 0.003605</td>\n",
        "      <td> 89.67</td>\n",
        "      <td> NaN</td>\n",
        "      <td>  146.31</td>\n",
        "      <td>  2455597.533</td>\n",
        "      <td> 2455594.0069</td>\n",
        "      <td> 0.961</td>\n",
        "      <td> 1.065</td>\n",
        "      <td> 1.426</td>\n",
        "    </tr>\n",
        "    <tr>\n",
        "      <th>Kepler-11 e</th>\n",
        "      <td>  8.400274420006024</td>\n",
        "      <td>  4.185175598375692</td>\n",
        "      <td>  31.9996</td>\n",
        "      <td> 0.012000</td>\n",
        "      <td> 88.89</td>\n",
        "      <td> NaN</td>\n",
        "      <td>      90</td>\n",
        "      <td> 2455595.0755</td>\n",
        "      <td> 2454987.1590</td>\n",
        "      <td> 0.961</td>\n",
        "      <td>   1.1</td>\n",
        "      <td>   NaN</td>\n",
        "    </tr>\n",
        "    <tr>\n",
        "      <th>Kepler-11 f</th>\n",
        "      <td>  2.297912623782264</td>\n",
        "      <td> 2.4871383164265217</td>\n",
        "      <td>  46.6888</td>\n",
        "      <td> 0.013000</td>\n",
        "      <td> 89.47</td>\n",
        "      <td> NaN</td>\n",
        "      <td>      90</td>\n",
        "      <td>  2455618.271</td>\n",
        "      <td> 2454964.6487</td>\n",
        "      <td> 0.961</td>\n",
        "      <td> 1.065</td>\n",
        "      <td>   NaN</td>\n",
        "    </tr>\n",
        "    <tr>\n",
        "      <th>Kepler-11 g</th>\n",
        "      <td>                  7</td>\n",
        "      <td> 3.3261641510794746</td>\n",
        "      <td> 118.3807</td>\n",
        "      <td> 0.000000</td>\n",
        "      <td> 89.87</td>\n",
        "      <td> NaN</td>\n",
        "      <td>      90</td>\n",
        "      <td> 2455593.8021</td>\n",
        "      <td> 2455120.2901</td>\n",
        "      <td> 0.961</td>\n",
        "      <td>   1.1</td>\n",
        "      <td>   NaN</td>\n",
        "    </tr>\n",
        "  </tbody>\n",
        "</table>\n",
        "</div>"
       ],
       "metadata": {},
       "output_type": "pyout",
       "prompt_number": 4,
       "text": [
        "                           MASS                   R       PER       ECC  \\\n",
        "NAME                                                                      \n",
        "Kepler-11 b  1.8999204157878875  1.7979205092425643   10.3039  0.045000   \n",
        "Kepler-11 c  2.8998763548257505   2.867436614665809   13.0241  0.025612   \n",
        "Kepler-11 d   7.299707276288038   3.117217541274047   22.6845  0.003605   \n",
        "Kepler-11 e   8.400274420006024   4.185175598375692   31.9996  0.012000   \n",
        "Kepler-11 f   2.297912623782264  2.4871383164265217   46.6888  0.013000   \n",
        "Kepler-11 g                   7  3.3261641510794746  118.3807  0.000000   \n",
        "\n",
        "                 I BIGOM       OM            T0            TT  MSTAR  RSTAR  \\\n",
        "NAME                                                                          \n",
        "Kepler-11 b  89.64   NaN       45   2455588.553  2455589.7378  0.961  1.065   \n",
        "Kepler-11 c  89.59   NaN  51.3402   2455582.016  2455583.3494  0.961  1.065   \n",
        "Kepler-11 d  89.67   NaN   146.31   2455597.533  2455594.0069  0.961  1.065   \n",
        "Kepler-11 e  88.89   NaN       90  2455595.0755  2454987.1590  0.961    1.1   \n",
        "Kepler-11 f  89.47   NaN       90   2455618.271  2454964.6487  0.961  1.065   \n",
        "Kepler-11 g  89.87   NaN       90  2455593.8021  2455120.2901  0.961    1.1   \n",
        "\n",
        "                 K  \n",
        "NAME                \n",
        "Kepler-11 b    NaN  \n",
        "Kepler-11 c    NaN  \n",
        "Kepler-11 d  1.426  \n",
        "Kepler-11 e    NaN  \n",
        "Kepler-11 f    NaN  \n",
        "Kepler-11 g    NaN  "
       ]
      }
     ],
     "prompt_number": 4
    },
    {
     "cell_type": "code",
     "collapsed": false,
     "input": [
      "# grab params from dataframe\n",
      "tp = pd.np.array([float(t) for t in mystar.T0])\n",
      "tt = pd.np.array([float(t) for t in mystar.TT])\n",
      "P = pd.np.array([float(p) for p in mystar.PER])\n",
      "ecc = pd.np.array([float(e) for e in mystar.ECC])\n",
      "#ecc = np.zeros(6)\n",
      "print ecc\n",
      "om = pd.np.array([float(w) for w in mystar.OM])"
     ],
     "language": "python",
     "metadata": {},
     "outputs": [
      {
       "output_type": "stream",
       "stream": "stdout",
       "text": [
        "[ 0.045      0.0256125  0.0036055  0.012      0.013      0.       ]\n"
       ]
      }
     ],
     "prompt_number": 5
    },
    {
     "cell_type": "code",
     "collapsed": false,
     "input": [
      "# calculate RVs from all the planets\n",
      "Marr = np.array([compute_M(t,tp,P) for t in tarr])\n",
      "Earr = np.empty(Marr.shape)\n",
      "for p in arange(Marr.shape[1]):\n",
      "    Earr[:,p] = np.array([newton(kepler_min, M + sign(sin(1/2.))*ecc[p]*0.85, args=(ecc[p],M)) for M in Marr[:,p]])\n",
      "farr = compute_f(Earr,ecc)\n",
      "Karr = np.empty(Marr.shape[1])\n",
      "RVs = np.empty(Marr.shape)\n",
      "#print float(mystar.MSTAR[0]), float(mystar.MASS[0]), float(P[0]), float(mystar.ECC[0]), float(mystar.I[0])\n",
      "for p in arange(Marr.shape[1]):\n",
      "    Karr[p] = compute_K(float(mystar.MSTAR[p]),float(mystar.MASS[p]),float(P[p]),float(mystar.ECC[p]),float(mystar.I[p])).value\n",
      "    RVs[:,p] = compute_rv(Karr[p],farr[:,p],float(mystar.OM[p]),ecc[p])\n",
      "print Karr\n",
      "RV_tot = RVs.sum(axis=1)"
     ],
     "language": "python",
     "metadata": {},
     "outputs": [
      {
       "output_type": "stream",
       "stream": "stdout",
       "text": [
        "[ 0.57332207  0.80932679  1.69325611  1.7371218   0.4190341   0.93613333]\n"
       ]
      }
     ],
     "prompt_number": 6
    },
    {
     "cell_type": "code",
     "collapsed": false,
     "input": [
      "def add_noise(RV, noise):\n",
      "    noise = np.random.normal(0, noise, len(RV))\n",
      "    try:\n",
      "        return RV + noise\n",
      "    except:\n",
      "        return RV.value + noise\n",
      "noise = 4.0\n",
      "RVobs = add_noise(RV_tot, noise)"
     ],
     "language": "python",
     "metadata": {},
     "outputs": [],
     "prompt_number": 8
    },
    {
     "cell_type": "code",
     "collapsed": false,
     "input": [
      "def plot_rvs(tdisplay, RVs, noise, starname='Kepler-11'):\n",
      "    RVobs = add_noise(RVs.sum(axis=1), noise)\n",
      "    RV_tot = RVs.sum(axis=1)\n",
      "    fig = plt.figure()\n",
      "    ax = fig.add_subplot(111)\n",
      "    pdict = {0:'b', 1:'c', 2:'d', 3:'e', 4:'f', 5:'g', 6:'h'}\n",
      "    for p in arange(RVs.shape[1]):\n",
      "        ax.plot(tdisplay ,RVs[:,p].ravel(), label=(starname+\" %s\" % pdict[p]), alpha=0.5)\n",
      "    ax.plot(tdisplay ,RV_tot.ravel(), label=\"Total RV\", linewidth=2)\n",
      "    ax.scatter(tdisplay , RVobs.ravel(), label=(\"Noisy RV (%d m/s)\" % noise), color='k')\n",
      "    #ax.plot(model['phase'],model['v'], '--r', label='Model', alpha=0.5)\n",
      "    ax.set_xlabel('JD - 2456000', fontsize=16)\n",
      "#    ax.set_xlabel('Day in July 2015', fontsize=16)\n",
      "    ax.set_ylabel('RV (m/s)', fontsize=16)\n",
      "    fig.suptitle('July and August 2014', fontsize=16)\n",
      "#    plt.axis([1, 31,min(RVobs)-1, max(RVobs)+1])\n",
      "#    ax.set_xlim(1,31)\n",
      "    ax.set_xlim(min(tdisplay), min(tdisplay)+62)\n",
      "    #ax.errorbar(means.tbin,means.vbin, yerr=means.ebin, fmt='o', elinewidth=2, color='blue', capsize=0, label='Binned', markersize=10)\n",
      "    ax.legend(numpoints=1,loc='best')\n",
      "    fig.show()"
     ],
     "language": "python",
     "metadata": {},
     "outputs": [],
     "prompt_number": 9
    },
    {
     "cell_type": "code",
     "collapsed": false,
     "input": [
      "plot_rvs(tdisplay, RVs, noise, starname='Kepler-11')"
     ],
     "language": "python",
     "metadata": {},
     "outputs": [],
     "prompt_number": 10
    },
    {
     "cell_type": "code",
     "collapsed": false,
     "input": [
      "# next: do monte carlo analysis of what signals you will extract from Keck data"
     ],
     "language": "python",
     "metadata": {},
     "outputs": [],
     "prompt_number": 22
    },
    {
     "cell_type": "code",
     "collapsed": false,
     "input": [
      "# define signal as sum of p cosine waves for each planet p\n",
      "def signal_function(A, P, tt, t): \n",
      "    return np.array([A[p] * cos(compute_M(t,tt[p],P[p])) for p in arange(len(P))]).sum(axis=0)\n",
      "# minimization function\n",
      "def signal_function_min(A, P, tt, t, RVobs): \n",
      "    return RVobs - signal_function(A, P, tt, t)"
     ],
     "language": "python",
     "metadata": {},
     "outputs": [],
     "prompt_number": 295
    },
    {
     "cell_type": "code",
     "collapsed": false,
     "input": [
      "def signal_function_ecc(A, P, tp, ecc, om, t):\n",
      "    Marr = np.array([compute_M(t,tp,P) for t in tarr])\n",
      "    Earr = np.empty(Marr.shape)\n",
      "    for p in arange(Marr.shape[1]):\n",
      "        Earr[:,p] = np.array([newton(kepler_min, M + sign(sin(1/2.))*ecc[p]*0.85, args=(ecc[p],M)) for M in Marr[:,p]])\n",
      "    farr = compute_f(Earr,ecc)\n",
      "    RVs = np.empty(Marr.shape)\n",
      "    for p in arange(Marr.shape[1]):\n",
      "        RVs[:,p] = compute_rv(A[p],farr[:,p],om[p],ecc[p])\n",
      "    return RVs.sum(axis=1)\n",
      "def signal_function_ecc_min(A, P, tp, ecc, om, t, RVobs):\n",
      "    return RVobs - signal_function_ecc(A, P, tp, ecc, om, t)"
     ],
     "language": "python",
     "metadata": {},
     "outputs": [],
     "prompt_number": 293
    },
    {
     "cell_type": "code",
     "collapsed": false,
     "input": [
      "sol = signal_function_ecc_min(Karr, P, tp, ecc, om, tarr, RVobs)\n",
      "sol.shape"
     ],
     "language": "python",
     "metadata": {},
     "outputs": [
      {
       "metadata": {},
       "output_type": "pyout",
       "prompt_number": 294,
       "text": [
        "(124,)"
       ]
      }
     ],
     "prompt_number": 294
    },
    {
     "cell_type": "code",
     "collapsed": false,
     "input": [
      "Kbest, success = leastsq(signal_function_ecc_min, Karr, args=(P, tp, ecc, om, tarr, RVobs))"
     ],
     "language": "python",
     "metadata": {},
     "outputs": [],
     "prompt_number": 100
    },
    {
     "cell_type": "code",
     "collapsed": false,
     "input": [
      "# find the best fit to noisy data\n",
      "def fit_rvobs(Karr, P, tp, ecc, om, tarr, RVobs):\n",
      "    Kbest, success = leastsq(signal_function_ecc_min, Karr, args=(P, tp, ecc, om, tarr, RVobs))\n",
      "    return Kbest"
     ],
     "language": "python",
     "metadata": {},
     "outputs": [],
     "prompt_number": 103
    },
    {
     "cell_type": "code",
     "collapsed": false,
     "input": [
      "RVobs = add_noise(RVs.sum(axis=1), 4.0)\n",
      "Kbest = fit_rvobs(Karr, P, tp, ecc, om, tarr, RVobs)\n",
      "print \"Best fit:\", Kbest\n",
      "print \"Right answer:\", Karr\n",
      "model = signal_function_ecc(Kbest, P, tp, ecc, om, tarr)\n",
      "resid = RVobs - model\n",
      "print \"Std. Deviation:\", np.std(resid)"
     ],
     "language": "python",
     "metadata": {},
     "outputs": [
      {
       "output_type": "stream",
       "stream": "stdout",
       "text": [
        "Best fit: [ 0.56356611  0.95834629  2.1942718   2.49985544  0.66463226  0.85695811]\n",
        "Right answer: [ 0.57332207  0.80932679  1.69325611  1.7371218   0.4190341   0.93613333]\n",
        "Std. Deviation: 3.406935172\n"
       ]
      }
     ],
     "prompt_number": 304
    },
    {
     "cell_type": "code",
     "collapsed": false,
     "input": [
      "fig = plt.figure()\n",
      "ax1 = fig.add_subplot(211)\n",
      "ax1.plot(tdisplay,model, label=\"Kepler-11 Best Fit (ecc=0 assumption)\")\n",
      "ax1.plot(tdisplay,RVs.sum(axis=1), label=\"Kepler-11 true\", color='r')\n",
      "ax1.scatter(tdisplay,RVobs, label=(\"Noisy RV (%d m/s)\" %noise), color='k')\n",
      "ax1.legend()\n",
      "ax2 = fig.add_subplot(212)\n",
      "ax2.scatter(tdisplay, RVobs - model, label=\"Residual\", color='k')\n",
      "ax2.plot(tdisplay, RVs.sum(axis=1) - model, label=\"True - Best Fit\", color='r')\n",
      "ax2.legend()\n",
      "ax1.set_xlim(min(tdisplay), 900)\n",
      "ax2.set_xlim(min(tdisplay), 900)\n",
      "ax2.set_xlabel('JD - 2456000', fontsize=16)\n",
      "ax1.set_ylabel('RV (m/s)', fontsize=16)\n",
      "ax2.set_ylabel('RV (m/s)', fontsize=16)\n",
      "fig.suptitle('July and August 2014', fontsize=16)\n",
      "plt.show()"
     ],
     "language": "python",
     "metadata": {},
     "outputs": [],
     "prompt_number": 302
    },
    {
     "cell_type": "code",
     "collapsed": false,
     "input": [
      "tdisplay.shape, model.shape"
     ],
     "language": "python",
     "metadata": {},
     "outputs": [
      {
       "metadata": {},
       "output_type": "pyout",
       "prompt_number": 108,
       "text": [
        "((124,), (124,))"
       ]
      }
     ],
     "prompt_number": 108
    },
    {
     "cell_type": "code",
     "collapsed": false,
     "input": [
      "# do monte carlo analysis. what if you vary ecos(om), esin(om)?\n",
      "# investigate: if ecc=0 for all the planets, is there a signal to observe in July + August?"
     ],
     "language": "python",
     "metadata": {},
     "outputs": [],
     "prompt_number": 109
    },
    {
     "cell_type": "code",
     "collapsed": false,
     "input": [
      "print max(RVs.sum(axis=1)) - min((RVs.sum(axis=1)))"
     ],
     "language": "python",
     "metadata": {},
     "outputs": [
      {
       "output_type": "stream",
       "stream": "stdout",
       "text": [
        "8.41009136166\n"
       ]
      }
     ],
     "prompt_number": 112
    },
    {
     "cell_type": "code",
     "collapsed": false,
     "input": [
      "# now repeat 1000 times and store best fits\n",
      "def pbs_fit_rvobs(Karr, P, tp, ecc, om, tarr, RV_tot, noise):\n",
      "    Ksols = []\n",
      "    for x in xrange(30):\n",
      "        RVobs = add_noise(RV_tot, noise)\n",
      "        Ksols.append(fit_rvobs(Karr, P, tp, ecc, om, tarr, RVobs))\n",
      "    return np.array(Ksols)\n",
      "\n",
      "#Ksols = pbs_fit_rvobs(Karr, P, tp, ecc, om, tarr, RV_tot, noise)"
     ],
     "language": "python",
     "metadata": {},
     "outputs": [],
     "prompt_number": 135
    },
    {
     "cell_type": "code",
     "collapsed": false,
     "input": [
      "# the rv equation\n",
      "def compute_rv(K,f,om,e,gamma=0,dvdt=0,curve=0,t=0):\n",
      "    '''Compute the RV given K (m/s), f (rad), om (deg), e, [gamma (m/s), dvdt (m/s), curve (m/s),t=0]'''\n",
      "    from numpy import pi\n",
      "#    assert K >=0.\n",
      "    assert e >=0.\n",
      "    assert e <=1.\n",
      "    try:\n",
      "        return K*(cos(f+om*pi/180.)+e*cos(om*pi/180.))#+gamma * units.m / units.s +dvdt*(t-14000)+curv*(t-14000)^2  #Default epoch for planet seaarch epoch\n",
      "    except:\n",
      "        return K.value*(cos(f+om*pi/180.)+e*cos(om*pi/180.))#+gamma * units.m / units.s +dvdt*(t-14000)+curv*(t-14000)^2  #Default epoch for planet seaarch epoch"
     ],
     "language": "python",
     "metadata": {},
     "outputs": [],
     "prompt_number": 117
    },
    {
     "cell_type": "code",
     "collapsed": false,
     "input": [
      "Row = np.array([Karr, np.mean(Ksols, axis=0), np.std(Ksols, axis=0), np.mean(Ksols, axis=0)/np.std(Ksols, axis=0)]).T\n",
      "print Row"
     ],
     "language": "python",
     "metadata": {},
     "outputs": [
      {
       "output_type": "stream",
       "stream": "stdout",
       "text": [
        "[[ 0.57332207  0.5518014   0.68198416  0.80911176]\n",
        " [ 0.80932679  0.55965057  0.53276698  1.05046033]\n",
        " [ 1.69325611  1.79553796  0.50731071  3.53932592]\n",
        " [ 1.7371218   1.60195324  0.56803001  2.8201912 ]\n",
        " [ 0.4190341   0.28398413  0.63607952  0.44646011]\n",
        " [ 0.93613333  0.8247665   0.53053544  1.55459267]]\n"
       ]
      }
     ],
     "prompt_number": 301
    },
    {
     "cell_type": "code",
     "collapsed": false,
     "input": [
      "for noise in [2.0, 3.0, 4.0, 5.0]:\n",
      "    Ksols = pbs_fit_rvobs(Karr, P, tp, ecc, om, tarr, RV_tot, noise)\n",
      "    Row = np.array([Karr, np.mean(Ksols, axis=0), np.std(Ksols, axis=0), np.mean(Ksols, axis=0)/np.std(Ksols, axis=0)]).T\n",
      "    print noise, Row"
     ],
     "language": "python",
     "metadata": {},
     "outputs": [
      {
       "output_type": "stream",
       "stream": "stdout",
       "text": [
        "2.0 [[ 0.57332207  0.56567575  0.24738297  2.28663977]\n",
        " [ 0.80932679  0.82156379  0.25265984  3.2516596 ]\n",
        " [ 1.69325611  1.67958657  0.21526142  7.80254327]\n",
        " [ 1.7371218   1.7879202   0.29272938  6.107758  ]\n",
        " [ 0.4190341   0.45126284  0.26664919  1.69234655]\n",
        " [ 0.93613333  0.89059035  0.25001568  3.56213806]]\n",
        "3.0"
       ]
      },
      {
       "output_type": "stream",
       "stream": "stdout",
       "text": [
        " [[ 0.57332207  0.48918487  0.34212202  1.42985497]\n",
        " [ 0.80932679  0.83602466  0.42318672  1.97554557]\n",
        " [ 1.69325611  1.68623614  0.37271316  4.52421943]\n",
        " [ 1.7371218   1.71414586  0.37977022  4.51363951]\n",
        " [ 0.4190341   0.40863656  0.37371196  1.09345327]\n",
        " [ 0.93613333  0.99119416  0.35029085  2.82963192]]\n",
        "4.0"
       ]
      },
      {
       "output_type": "stream",
       "stream": "stdout",
       "text": [
        " [[ 0.57332207  0.59378082  0.523954    1.13326898]\n",
        " [ 0.80932679  1.00890229  0.572504    1.76226245]\n",
        " [ 1.69325611  1.69787766  0.49796346  3.40964306]\n",
        " [ 1.7371218   1.85454161  0.50040653  3.70606999]\n",
        " [ 0.4190341   0.55594988  0.44634878  1.24555036]\n",
        " [ 0.93613333  1.06388266  0.67469063  1.57684517]]\n",
        "5.0"
       ]
      },
      {
       "output_type": "stream",
       "stream": "stdout",
       "text": [
        " [[ 0.57332207  0.5518014   0.68198416  0.80911176]\n",
        " [ 0.80932679  0.55965057  0.53276698  1.05046033]\n",
        " [ 1.69325611  1.79553796  0.50731071  3.53932592]\n",
        " [ 1.7371218   1.60195324  0.56803001  2.8201912 ]\n",
        " [ 0.4190341   0.28398413  0.63607952  0.44646011]\n",
        " [ 0.93613333  0.8247665   0.53053544  1.55459267]]\n"
       ]
      }
     ],
     "prompt_number": 136
    },
    {
     "cell_type": "code",
     "collapsed": false,
     "input": [
      "RVobs = add_noise(RVs.sum(axis=1), 4.0)\n",
      "Kbest = fit_rvobs(Karr, P, tp, ecc, om, tarr, RVobs)\n",
      "print \"Best fit:\", Kbest\n",
      "print \"Right answer:\", Karr\n",
      "model = signal_function_ecc(Kbest, P, tp, ecc, om, tarr)\n",
      "resid = RVobs - model\n",
      "print \"Std. Deviation:\", np.std(resid)"
     ],
     "language": "python",
     "metadata": {},
     "outputs": [
      {
       "output_type": "stream",
       "stream": "stdout",
       "text": [
        "Best fit: [-0.58087291  0.58334463  2.24700899  1.74787402  0.35369086 -0.13288646]\n",
        "Right answer: [ 0.57332207  0.80932679  1.69325611  1.7371218   0.4190341   0.93613333]\n",
        "Std. Deviation: 3.76812975199\n"
       ]
      }
     ],
     "prompt_number": 330
    },
    {
     "cell_type": "code",
     "collapsed": false,
     "input": [
      "# for err = 4.0 m/s, std. dev. (K) = 0.5 m/s. Sub-divide into 4-5 bins to sample 1-sigma: use grid size = 0.1 m/s.\n",
      "# Use K range of 6 sigma: 3.0 to either side of Ktrue (truncated at zero).\n",
      "dK = 0.1 # grid size step\n",
      "Krange = arange(0.0, 2.1, 0.2) # explore up to K = 3m/s.\n",
      "Kgrid = np.array([Krange]*6) \n",
      "print Kgrid.shape\n",
      "Klen = Kgrid.shape[1]"
     ],
     "language": "python",
     "metadata": {},
     "outputs": [
      {
       "output_type": "stream",
       "stream": "stdout",
       "text": [
        "(6, 11)\n"
       ]
      }
     ],
     "prompt_number": 12
    },
    {
     "cell_type": "code",
     "collapsed": false,
     "input": [
      "RVgrid = np.empty((6,Klen,124)) # 6 planets, 124 times, 51 trial Ks per planet\n",
      "RVgrid_tot = RVgrid\n",
      "for p, row in enumerate(Kgrid):\n",
      "    for i,K in enumerate(row):\n",
      "        RVgrid[p,i,:] = compute_rv(K,farr[:,p],float(mystar.OM[p]),ecc[p])"
     ],
     "language": "python",
     "metadata": {},
     "outputs": [],
     "prompt_number": 13
    },
    {
     "cell_type": "code",
     "collapsed": false,
     "input": [
      "# want to pick one K value from each planet, and the corresponding RVs, and add the RVs for each of the 6 K values\n",
      "for row in RVgrid: # loop over planets\n",
      "    print row.shape\n",
      "    for cell in row:\n",
      "        print cell.shape\n",
      "        \n",
      "        break\n",
      "    break"
     ],
     "language": "python",
     "metadata": {},
     "outputs": [
      {
       "output_type": "stream",
       "stream": "stdout",
       "text": [
        "(51, 124)\n",
        "(124,)\n"
       ]
      }
     ],
     "prompt_number": 370
    },
    {
     "cell_type": "code",
     "collapsed": false,
     "input": [
      "RVgrid_tot = RVgrid[0,1,:] + RVgrid[1,3,:] + RVgrid[2,5,:] + RVgrid[3,7,:] + RVgrid[4,9,:] + RVgrid[5,1,:]"
     ],
     "language": "python",
     "metadata": {},
     "outputs": [],
     "prompt_number": 15
    },
    {
     "cell_type": "code",
     "collapsed": false,
     "input": [
      "RVgrid_tot.shape, RVobs.shape"
     ],
     "language": "python",
     "metadata": {},
     "outputs": [
      {
       "metadata": {},
       "output_type": "pyout",
       "prompt_number": 16,
       "text": [
        "((124,), (124,))"
       ]
      }
     ],
     "prompt_number": 16
    },
    {
     "cell_type": "code",
     "collapsed": false,
     "input": [
      "resid = RVobs - RVgrid_tot\n",
      "print \"Std. Deviation:\", np.std(resid)\n",
      "chisq = (((RVobs - RVgrid_tot)/4.0)**2.).sum()\n",
      "print chisq"
     ],
     "language": "python",
     "metadata": {},
     "outputs": [
      {
       "output_type": "stream",
       "stream": "stdout",
       "text": [
        "Std. Deviation: 3.75799818243\n",
        "120.87402667\n"
       ]
      }
     ],
     "prompt_number": 17
    },
    {
     "cell_type": "code",
     "collapsed": false,
     "input": [
      "all_RVs = np.empty((Klen,Klen,Klen,Klen,Klen,Klen,124))\n",
      "all_chisq = np.empty((Klen,Klen,Klen,Klen,Klen,Klen))\n",
      "for k1 in xrange(11):\n",
      "    for k2 in xrange(11):\n",
      "        for k3 in xrange(11):\n",
      "            for k4 in xrange(11):\n",
      "                for k5 in xrange(11):\n",
      "                    for k6 in xrange(11):\n",
      "                        RV = np.zeros(124)\n",
      "                        k = [k1, k2, k3, k4, k5, k6] # use the 30th element of each \n",
      "                        for p in xrange(6):\n",
      "                            RV += RVgrid[p,k[p],:]\n",
      "                        all_RVs[k1,k2,k3,k4,k5,k6,:] = RV\n",
      "                        all_chisq[k1,k2,k3,k4,k5,k6] = (((RVobs - RV)/4.0)**2.).sum()"
     ],
     "language": "python",
     "metadata": {},
     "outputs": [],
     "prompt_number": 19
    },
    {
     "cell_type": "code",
     "collapsed": false,
     "input": [
      "RVp = np.zeros(124)\n",
      "k = [20, 20, 21, 21, 21, 21] # use the 30th element of each \n",
      "for p in xrange(6):\n",
      "    RVp += RVgrid[p,k[p],:]"
     ],
     "language": "python",
     "metadata": {},
     "outputs": [],
     "prompt_number": 411
    },
    {
     "cell_type": "code",
     "collapsed": false,
     "input": [
      "RVp.shape"
     ],
     "language": "python",
     "metadata": {},
     "outputs": [],
     "prompt_number": "*"
    },
    {
     "cell_type": "code",
     "collapsed": false,
     "input": [
      "import itertools\n",
      "print list(itertools.permutations([1,2,3,4], 2))"
     ],
     "language": "python",
     "metadata": {},
     "outputs": [],
     "prompt_number": "*"
    },
    {
     "cell_type": "code",
     "collapsed": false,
     "input": [
      "all_RVs.shape"
     ],
     "language": "python",
     "metadata": {},
     "outputs": [
      {
       "metadata": {},
       "output_type": "pyout",
       "prompt_number": 20,
       "text": [
        "(11, 11, 11, 11, 11, 11, 124)"
       ]
      }
     ],
     "prompt_number": 20
    },
    {
     "cell_type": "code",
     "collapsed": false,
     "input": [
      "all_chisq.shape"
     ],
     "language": "python",
     "metadata": {},
     "outputs": [
      {
       "metadata": {},
       "output_type": "pyout",
       "prompt_number": 21,
       "text": [
        "(11, 11, 11, 11, 11, 11)"
       ]
      }
     ],
     "prompt_number": 21
    },
    {
     "cell_type": "code",
     "collapsed": false,
     "input": [
      "np.min(all_chisq)"
     ],
     "language": "python",
     "metadata": {},
     "outputs": [
      {
       "metadata": {},
       "output_type": "pyout",
       "prompt_number": 22,
       "text": [
        "93.204535116961395"
       ]
      }
     ],
     "prompt_number": 22
    },
    {
     "cell_type": "code",
     "collapsed": false,
     "input": [
      "np.max(all_chisq)"
     ],
     "language": "python",
     "metadata": {},
     "outputs": [
      {
       "metadata": {},
       "output_type": "pyout",
       "prompt_number": 23,
       "text": [
        "143.89062605816966"
       ]
      }
     ],
     "prompt_number": 23
    },
    {
     "cell_type": "code",
     "collapsed": false,
     "input": [
      "fig = plt.figure()\n",
      "ax1 = fig.add_subplot(311)\n",
      "ax1.plot(tdisplay,model, label=\"Kepler-11 Best Fit (ecc=0 assumption)\")\n",
      "ax1.plot(tdisplay,RVs.sum(axis=1), label=\"Kepler-11 true\", color='r')\n",
      "ax1.scatter(tdisplay,RVobs, label=(\"Noisy RV (%d m/s)\" %noise), color='k')\n",
      "ax1.legend()\n",
      "ax2 = fig.add_subplot(312)\n",
      "ax2.scatter(tdisplay, RVobs - model, label=\"Residual\", color='k')\n",
      "ax2.plot(tdisplay, RVs.sum(axis=1) - model, label=\"True - Best Fit\", color='r')\n",
      "ax2.legend()\n",
      "ax1.set_xlim(min(tdisplay), 900)\n",
      "ax2.set_xlim(min(tdisplay), 900)\n",
      "ax2.set_xlabel('JD - 2456000', fontsize=16)\n",
      "ax1.set_ylabel('RV (m/s)', fontsize=16)\n",
      "ax2.set_ylabel('RV (m/s)', fontsize=16)\n",
      "fig.suptitle('July and August 2014', fontsize=16)\n",
      "plt.show()"
     ],
     "language": "python",
     "metadata": {},
     "outputs": []
    },
    {
     "cell_type": "code",
     "collapsed": false,
     "input": [
      "%pylab inline\n",
      "fig = plt.figure(figsize=(14,14))\n",
      "my_cmap = matplotlib.colors.LinearSegmentedColormap('binary',cdict,256)\n",
      "ax1 = fig.add_subplot(131, aspect=1)\n",
      "pcolor(all_chisq[:,:,5,5,5,5],cmap='binary')\n",
      "plt.axis([0,11,0,11])\n",
      "ax1 = fig.add_subplot(132, aspect=1)\n",
      "pcolor(all_chisq[5,5,:,:,5,5],cmap='binary')\n",
      "plt.axis([0,11,0,11])\n",
      "ax1 = fig.add_subplot(133, aspect=1)\n",
      "pcolor(all_chisq[5,5,5,5,:,:],cmap='binary')\n",
      "colorbar()\n",
      "plt.axis([0,11,0,11])\n",
      "fig.show()"
     ],
     "language": "python",
     "metadata": {},
     "outputs": [
      {
       "output_type": "stream",
       "stream": "stdout",
       "text": [
        "Populating the interactive namespace from numpy and matplotlib\n"
       ]
      },
      {
       "metadata": {},
       "output_type": "display_data",
       "png": "[encoded data removed]",
       "text": [
        "<matplotlib.figure.Figure at 0x10ba29150>"
       ]
      }
     ],
     "prompt_number": 42
    },
    {
     "cell_type": "code",
     "collapsed": false,
     "input": [],
     "language": "python",
     "metadata": {},
     "outputs": []
    }
   ],
   "metadata": {}
  }
 ]
}