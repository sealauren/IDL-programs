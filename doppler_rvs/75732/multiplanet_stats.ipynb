{
 "metadata": {
  "name": ""
 },
 "nbformat": 3,
 "nbformat_minor": 0,
 "worksheets": [
  {
   "cells": [
    {
     "cell_type": "code",
     "collapsed": false,
     "input": [
      "%pylab inline\n",
      "import pandas as pd\n",
      "import numpy as np\n",
      "import string"
     ],
     "language": "python",
     "metadata": {},
     "outputs": [
      {
       "output_type": "stream",
       "stream": "stdout",
       "text": [
        "Populating the interactive namespace from numpy and matplotlib\n"
       ]
      }
     ],
     "prompt_number": 49
    },
    {
     "cell_type": "code",
     "collapsed": false,
     "input": [
      "df = pd.read_csv('/Users/lweiss/mrf/exoplanet_table_full.csv')"
     ],
     "language": "python",
     "metadata": {},
     "outputs": [],
     "prompt_number": 50
    },
    {
     "cell_type": "code",
     "collapsed": false,
     "input": [
      "df.head()"
     ],
     "language": "python",
     "metadata": {},
     "outputs": [
      {
       "html": [
        "<pre>\n",
        "&lt;class 'pandas.core.frame.DataFrame'&gt;\n",
        "Int64Index: 5 entries, 0 to 4\n",
        "Data columns (total 69 columns):\n",
        "name            5  non-null values\n",
        "a               5  non-null values\n",
        "age             0  non-null values\n",
        "alower          5  non-null values\n",
        "aupper          5  non-null values\n",
        "b               0  non-null values\n",
        "dec             0  non-null values\n",
        "density         5  non-null values\n",
        "densitylower    5  non-null values\n",
        "densityupper    5  non-null values\n",
        "ecc             5  non-null values\n",
        "fe              5  non-null values\n",
        "feh             0  non-null values\n",
        "felower         5  non-null values\n",
        "feupper         5  non-null values\n",
        "firstref        5  non-null values\n",
        "firsturl        5  non-null values\n",
        "k               0  non-null values\n",
        "kid             0  non-null values\n",
        "koi_star        0  non-null values\n",
        "logg            5  non-null values\n",
        "m               5  non-null values\n",
        "mass            5  non-null values\n",
        "masslower       5  non-null values\n",
        "massupper       5  non-null values\n",
        "mstar           5  non-null values\n",
        "mstarlower      5  non-null values\n",
        "mstarupper      5  non-null values\n",
        "mupper          0  non-null values\n",
        "orbref          5  non-null values\n",
        "orburl          5  non-null values\n",
        "per             5  non-null values\n",
        "r               5  non-null values\n",
        "ra              0  non-null values\n",
        "rho             5  non-null values\n",
        "rhostar         3  non-null values\n",
        "rlower          5  non-null values\n",
        "rprs            0  non-null values\n",
        "rstar           5  non-null values\n",
        "rstarlower      5  non-null values\n",
        "rstarupper      5  non-null values\n",
        "rupper          5  non-null values\n",
        "shk             1  non-null values\n",
        "source          0  non-null values\n",
        "teff            5  non-null values\n",
        "tefflower       5  non-null values\n",
        "teffupper       5  non-null values\n",
        "tt              0  non-null values\n",
        "ua              5  non-null values\n",
        "ub              0  non-null values\n",
        "udensity        5  non-null values\n",
        "ufe             5  non-null values\n",
        "ufeh            0  non-null values\n",
        "uk              0  non-null values\n",
        "ulogg           0  non-null values\n",
        "um              5  non-null values\n",
        "umass           5  non-null values\n",
        "umstar          5  non-null values\n",
        "ur              5  non-null values\n",
        "urho            5  non-null values\n",
        "urholower       0  non-null values\n",
        "urhostar        0  non-null values\n",
        "urhoupper       0  non-null values\n",
        "urstar          5  non-null values\n",
        "uteff           5  non-null values\n",
        "vmag            0  non-null values\n",
        "vsini           5  non-null values\n",
        "flux            5  non-null values\n",
        "uflux           5  non-null values\n",
        "dtypes: float64(61), object(8)\n",
        "</pre>"
       ],
       "metadata": {},
       "output_type": "pyout",
       "prompt_number": 51,
       "text": [
        "<class 'pandas.core.frame.DataFrame'>\n",
        "Int64Index: 5 entries, 0 to 4\n",
        "Data columns (total 69 columns):\n",
        "name            5  non-null values\n",
        "a               5  non-null values\n",
        "age             0  non-null values\n",
        "alower          5  non-null values\n",
        "aupper          5  non-null values\n",
        "b               0  non-null values\n",
        "dec             0  non-null values\n",
        "density         5  non-null values\n",
        "densitylower    5  non-null values\n",
        "densityupper    5  non-null values\n",
        "ecc             5  non-null values\n",
        "fe              5  non-null values\n",
        "feh             0  non-null values\n",
        "felower         5  non-null values\n",
        "feupper         5  non-null values\n",
        "firstref        5  non-null values\n",
        "firsturl        5  non-null values\n",
        "k               0  non-null values\n",
        "kid             0  non-null values\n",
        "koi_star        0  non-null values\n",
        "logg            5  non-null values\n",
        "m               5  non-null values\n",
        "mass            5  non-null values\n",
        "masslower       5  non-null values\n",
        "massupper       5  non-null values\n",
        "mstar           5  non-null values\n",
        "mstarlower      5  non-null values\n",
        "mstarupper      5  non-null values\n",
        "mupper          0  non-null values\n",
        "orbref          5  non-null values\n",
        "orburl          5  non-null values\n",
        "per             5  non-null values\n",
        "r               5  non-null values\n",
        "ra              0  non-null values\n",
        "rho             5  non-null values\n",
        "rhostar         3  non-null values\n",
        "rlower          5  non-null values\n",
        "rprs            0  non-null values\n",
        "rstar           5  non-null values\n",
        "rstarlower      5  non-null values\n",
        "rstarupper      5  non-null values\n",
        "rupper          5  non-null values\n",
        "shk             1  non-null values\n",
        "source          0  non-null values\n",
        "teff            5  non-null values\n",
        "tefflower       5  non-null values\n",
        "teffupper       5  non-null values\n",
        "tt              0  non-null values\n",
        "ua              5  non-null values\n",
        "ub              0  non-null values\n",
        "udensity        5  non-null values\n",
        "ufe             5  non-null values\n",
        "ufeh            0  non-null values\n",
        "uk              0  non-null values\n",
        "ulogg           0  non-null values\n",
        "um              5  non-null values\n",
        "umass           5  non-null values\n",
        "umstar          5  non-null values\n",
        "ur              5  non-null values\n",
        "urho            5  non-null values\n",
        "urholower       0  non-null values\n",
        "urhostar        0  non-null values\n",
        "urhoupper       0  non-null values\n",
        "urstar          5  non-null values\n",
        "uteff           5  non-null values\n",
        "vmag            0  non-null values\n",
        "vsini           5  non-null values\n",
        "flux            5  non-null values\n",
        "uflux           5  non-null values\n",
        "dtypes: float64(61), object(8)"
       ]
      }
     ],
     "prompt_number": 51
    },
    {
     "cell_type": "code",
     "collapsed": false,
     "input": [
      "df['starname']=pd.Series([name[:-2] for name in df.name]).str.replace('.', '')"
     ],
     "language": "python",
     "metadata": {},
     "outputs": [],
     "prompt_number": 53
    },
    {
     "cell_type": "code",
     "collapsed": false,
     "input": [
      "df.starname"
     ],
     "language": "python",
     "metadata": {},
     "outputs": [
      {
       "metadata": {},
       "output_type": "pyout",
       "prompt_number": 54,
       "text": [
        "0       55 Cnc\n",
        "1      CoRoT-1\n",
        "2     CoRoT-10\n",
        "3     CoRoT-11\n",
        "4     CoRoT-12\n",
        "5     CoRoT-13\n",
        "6     CoRoT-14\n",
        "7     CoRoT-16\n",
        "8     CoRoT-17\n",
        "9     CoRoT-18\n",
        "10    CoRoT-19\n",
        "11     CoRoT-2\n",
        "12    CoRoT-23\n",
        "13     CoRoT-3\n",
        "14     CoRoT-4\n",
        "...\n",
        "238      KOI-321\n",
        "239     KOI-1442\n",
        "240     KOI-1612\n",
        "241     KOI-1925\n",
        "242    Kepler-78\n",
        "243       KOI-94\n",
        "244       KOI-94\n",
        "245       KOI-94\n",
        "246       KOI-94\n",
        "247      KOI-152\n",
        "248      KOI-152\n",
        "249      KOI-152\n",
        "250      KOI-152\n",
        "251      KOI-314\n",
        "252      KOI-314\n",
        "Name: starname, Length: 253, dtype: object"
       ]
      }
     ],
     "prompt_number": 54
    },
    {
     "cell_type": "code",
     "collapsed": false,
     "input": [
      "df['multiplicity']= pd.Series([starname.count(star) for star in starname])"
     ],
     "language": "python",
     "metadata": {},
     "outputs": [],
     "prompt_number": 55
    },
    {
     "cell_type": "code",
     "collapsed": false,
     "input": [
      "df.multiplicity"
     ],
     "language": "python",
     "metadata": {},
     "outputs": [
      {
       "metadata": {},
       "output_type": "pyout",
       "prompt_number": 56,
       "text": [
        "0     1\n",
        "1     1\n",
        "2     1\n",
        "3     1\n",
        "4     1\n",
        "5     1\n",
        "6     1\n",
        "7     1\n",
        "8     1\n",
        "9     1\n",
        "10    1\n",
        "11    1\n",
        "12    1\n",
        "13    1\n",
        "14    1\n",
        "...\n",
        "238    2\n",
        "239    1\n",
        "240    1\n",
        "241    1\n",
        "242    1\n",
        "243    4\n",
        "244    4\n",
        "245    4\n",
        "246    4\n",
        "247    4\n",
        "248    4\n",
        "249    4\n",
        "250    4\n",
        "251    2\n",
        "252    2\n",
        "Name: multiplicity, Length: 253, dtype: int64"
       ]
      }
     ],
     "prompt_number": 56
    },
    {
     "cell_type": "code",
     "collapsed": false,
     "input": [
      "multis = df[df.multiplicity > 1]"
     ],
     "language": "python",
     "metadata": {},
     "outputs": [],
     "prompt_number": 57
    },
    {
     "cell_type": "code",
     "collapsed": false,
     "input": [
      "singles = df[df.multiplicity == 1]"
     ],
     "language": "python",
     "metadata": {},
     "outputs": [],
     "prompt_number": 58
    },
    {
     "cell_type": "code",
     "collapsed": false,
     "input": [
      "fig = plt.figure(figsize=(6,4))\n",
      "ax = fig.add_subplot(111,xscale='log',yscale='log')\n",
      "ax.scatter(singles.per, singles.m, label='Single transiting planet', color='None',edgecolors='k')\n",
      "ax.scatter(multis.per, multis.m, label='Planet in multi-transiting system', color='r', marker='s', edgecolors='k', s=30)\n",
      "ax.set_xlabel('Orbital Period (days)',fontsize=16)\n",
      "ax.set_ylabel('Planet Mass ($M_E$)',fontsize=16)\n",
      "#plt.suptitle('Transiting Planets with Masses as of Jan. 2014', fontsize=20)\n",
      "plt.axis = ([1e-1,1e3,1e-1,1e4])\n",
      "pylab.ylim([1e-2,1e4])\n",
      "pylab.xlim([1e-1,1e3])\n",
      "plt.legend(loc='lower right', scatterpoints=1)\n",
      "plt.savefig('/Users/lweiss/Dropbox/research/Keck/multis_mass_v_per.eps', format='eps', dpi=100)\n",
      "plt.savefig('/Users/lweiss/Dropbox/research/Keck/multis_mass_v_per.png',dpi=100)\n",
      "plt.show()\n"
     ],
     "language": "python",
     "metadata": {},
     "outputs": [
      {
       "metadata": {},
       "output_type": "display_data",
       "png": "[encoded data removed]",
       "text": [
        "<matplotlib.figure.Figure at 0x10f4a3310>"
       ]
      }
     ],
     "prompt_number": 100
    },
    {
     "cell_type": "code",
     "collapsed": false,
     "input": [],
     "language": "python",
     "metadata": {},
     "outputs": []
    }
   ],
   "metadata": {}
  }
 ]
}