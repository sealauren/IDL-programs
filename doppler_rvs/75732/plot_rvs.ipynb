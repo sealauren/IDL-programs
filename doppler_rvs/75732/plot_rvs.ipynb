{
 "metadata": {
  "name": ""
 },
 "nbformat": 3,
 "nbformat_minor": 0,
 "worksheets": [
  {
   "cells": [
    {
     "cell_type": "code",
     "collapsed": false,
     "input": [
      "%pylab inline\n",
      "import numpy as np\n",
      "import pandas as pd\n",
      "import os\n",
      "import glob"
     ],
     "language": "python",
     "metadata": {},
     "outputs": [
      {
       "output_type": "stream",
       "stream": "stdout",
       "text": [
        "Populating the interactive namespace from numpy and matplotlib\n"
       ]
      }
     ],
     "prompt_number": 275
    },
    {
     "cell_type": "code",
     "collapsed": false,
     "input": [
      "glob.glob('*.txt')"
     ],
     "language": "python",
     "metadata": {},
     "outputs": [
      {
       "metadata": {},
       "output_type": "pyout",
       "prompt_number": 276,
       "text": [
        "['1planet.txt',\n",
        " '75732_pars.txt',\n",
        " '75732_rvlin_model.txt',\n",
        " 'rvmodel_1planet.txt',\n",
        " 'vst75732.txt']"
       ]
      }
     ],
     "prompt_number": 276
    },
    {
     "cell_type": "code",
     "collapsed": false,
     "input": [
      "df = pd.read_csv('vst75732.txt', delim_whitespace=True, skiprows=1, header=None, skipinitialspace=True)\n",
      "df.columns=['junk','t','v','e']\n",
      "df = df.ix[:,['t','v','e']]\n",
      "#df.index = df['t']"
     ],
     "language": "python",
     "metadata": {},
     "outputs": [],
     "prompt_number": 277
    },
    {
     "cell_type": "code",
     "collapsed": false,
     "input": [
      "df.head()"
     ],
     "language": "python",
     "metadata": {},
     "outputs": [
      {
       "html": [
        "<div style=\"max-height:1000px;max-width:1500px;overflow:auto;\">\n",
        "<table border=\"1\" class=\"dataframe\">\n",
        "  <thead>\n",
        "    <tr style=\"text-align: right;\">\n",
        "      <th></th>\n",
        "      <th>t</th>\n",
        "      <th>v</th>\n",
        "      <th>e</th>\n",
        "    </tr>\n",
        "  </thead>\n",
        "  <tbody>\n",
        "    <tr>\n",
        "      <th>0</th>\n",
        "      <td> 16574.049</td>\n",
        "      <td> 22.898595</td>\n",
        "      <td> 2.12111</td>\n",
        "    </tr>\n",
        "    <tr>\n",
        "      <th>1</th>\n",
        "      <td> 16577.964</td>\n",
        "      <td> 18.798500</td>\n",
        "      <td> 2.05450</td>\n",
        "    </tr>\n",
        "    <tr>\n",
        "      <th>2</th>\n",
        "      <td> 16577.966</td>\n",
        "      <td> 15.691520</td>\n",
        "      <td> 2.06884</td>\n",
        "    </tr>\n",
        "    <tr>\n",
        "      <th>3</th>\n",
        "      <td> 16577.967</td>\n",
        "      <td> 17.120355</td>\n",
        "      <td> 2.06996</td>\n",
        "    </tr>\n",
        "    <tr>\n",
        "      <th>4</th>\n",
        "      <td> 16578.050</td>\n",
        "      <td> 19.372295</td>\n",
        "      <td> 1.91943</td>\n",
        "    </tr>\n",
        "  </tbody>\n",
        "</table>\n",
        "</div>"
       ],
       "metadata": {},
       "output_type": "pyout",
       "prompt_number": 278,
       "text": [
        "           t          v        e\n",
        "0  16574.049  22.898595  2.12111\n",
        "1  16577.964  18.798500  2.05450\n",
        "2  16577.966  15.691520  2.06884\n",
        "3  16577.967  17.120355  2.06996\n",
        "4  16578.050  19.372295  1.91943"
       ]
      }
     ],
     "prompt_number": 278
    },
    {
     "cell_type": "code",
     "collapsed": false,
     "input": [
      "model = pd.read_csv('75732_rvlin_model.txt', delim_whitespace=True, skiprows=1, header=None, skipinitialspace=True)\n",
      "model.columns=['junk','t','v']\n",
      "model = model.ix[:,['t','v']]\n",
      "model.head()"
     ],
     "language": "python",
     "metadata": {},
     "outputs": [
      {
       "html": [
        "<div style=\"max-height:1000px;max-width:1500px;overflow:auto;\">\n",
        "<table border=\"1\" class=\"dataframe\">\n",
        "  <thead>\n",
        "    <tr style=\"text-align: right;\">\n",
        "      <th></th>\n",
        "      <th>t</th>\n",
        "      <th>v</th>\n",
        "    </tr>\n",
        "  </thead>\n",
        "  <tbody>\n",
        "    <tr>\n",
        "      <th>0</th>\n",
        "      <td> 16684.518</td>\n",
        "      <td> -55.133587</td>\n",
        "    </tr>\n",
        "    <tr>\n",
        "      <th>1</th>\n",
        "      <td> 16694.336</td>\n",
        "      <td>  54.711193</td>\n",
        "    </tr>\n",
        "    <tr>\n",
        "      <th>2</th>\n",
        "      <td> 16704.154</td>\n",
        "      <td>  11.904525</td>\n",
        "    </tr>\n",
        "    <tr>\n",
        "      <th>3</th>\n",
        "      <td> 16713.972</td>\n",
        "      <td>  14.656687</td>\n",
        "    </tr>\n",
        "    <tr>\n",
        "      <th>4</th>\n",
        "      <td> 16723.790</td>\n",
        "      <td> 194.153920</td>\n",
        "    </tr>\n",
        "  </tbody>\n",
        "</table>\n",
        "</div>"
       ],
       "metadata": {},
       "output_type": "pyout",
       "prompt_number": 282,
       "text": [
        "           t           v\n",
        "0  16684.518  -55.133587\n",
        "1  16694.336   54.711193\n",
        "2  16704.154   11.904525\n",
        "3  16713.972   14.656687\n",
        "4  16723.790  194.153920"
       ]
      }
     ],
     "prompt_number": 282
    },
    {
     "cell_type": "code",
     "collapsed": false,
     "input": [
      "pars = pd.read_csv('75732_rvlin.csv', header=None) #, delim_whitespace=True, skiprows=1, header=None, skipinitialspace=True)\n",
      "pars.columns=['Period','Tc','e','Om','K','gamma','dvdt']\n",
      "#pars = pars.ix[1,:]\n",
      "pars.head(7)"
     ],
     "language": "python",
     "metadata": {},
     "outputs": [
      {
       "html": [
        "<div style=\"max-height:1000px;max-width:1500px;overflow:auto;\">\n",
        "<table border=\"1\" class=\"dataframe\">\n",
        "  <thead>\n",
        "    <tr style=\"text-align: right;\">\n",
        "      <th></th>\n",
        "      <th>Period</th>\n",
        "      <th>Tc</th>\n",
        "      <th>e</th>\n",
        "      <th>Om</th>\n",
        "      <th>K</th>\n",
        "      <th>gamma</th>\n",
        "      <th>dvdt</th>\n",
        "    </tr>\n",
        "  </thead>\n",
        "  <tbody>\n",
        "    <tr>\n",
        "      <th>0</th>\n",
        "      <td>    0.736544</td>\n",
        "      <td> 16684.518167</td>\n",
        "      <td> 0.010558</td>\n",
        "      <td>  40.568387</td>\n",
        "      <td>       7.576055</td>\n",
        "      <td> 4879.86315</td>\n",
        "      <td> 0</td>\n",
        "    </tr>\n",
        "    <tr>\n",
        "      <th>1</th>\n",
        "      <td>   14.651188</td>\n",
        "      <td> 16698.455817</td>\n",
        "      <td> 0.004109</td>\n",
        "      <td> 124.123771</td>\n",
        "      <td>      70.909193</td>\n",
        "      <td>    0.00000</td>\n",
        "      <td> 0</td>\n",
        "    </tr>\n",
        "    <tr>\n",
        "      <th>2</th>\n",
        "      <td>   44.353330</td>\n",
        "      <td> 16728.185437</td>\n",
        "      <td> 0.065185</td>\n",
        "      <td>  32.392305</td>\n",
        "      <td>       9.286715</td>\n",
        "      <td>    0.00000</td>\n",
        "      <td> 0</td>\n",
        "    </tr>\n",
        "    <tr>\n",
        "      <th>3</th>\n",
        "      <td>  798.232301</td>\n",
        "      <td> 16945.069002</td>\n",
        "      <td> 0.990000</td>\n",
        "      <td> 355.926548</td>\n",
        "      <td> 7012114.406793</td>\n",
        "      <td>    0.00000</td>\n",
        "      <td> 0</td>\n",
        "    </tr>\n",
        "    <tr>\n",
        "      <th>4</th>\n",
        "      <td> 2404.217517</td>\n",
        "      <td> 18107.782561</td>\n",
        "      <td> 0.031122</td>\n",
        "      <td> 192.160152</td>\n",
        "      <td>   87003.576368</td>\n",
        "      <td>    0.00000</td>\n",
        "      <td> 0</td>\n",
        "    </tr>\n",
        "  </tbody>\n",
        "</table>\n",
        "</div>"
       ],
       "metadata": {},
       "output_type": "pyout",
       "prompt_number": 295,
       "text": [
        "        Period            Tc         e          Om               K       gamma  dvdt\n",
        "0     0.736544  16684.518167  0.010558   40.568387        7.576055  4879.86315     0\n",
        "1    14.651188  16698.455817  0.004109  124.123771       70.909193     0.00000     0\n",
        "2    44.353330  16728.185437  0.065185   32.392305        9.286715     0.00000     0\n",
        "3   798.232301  16945.069002  0.990000  355.926548  7012114.406793     0.00000     0\n",
        "4  2404.217517  18107.782561  0.031122  192.160152    87003.576368     0.00000     0"
       ]
      }
     ],
     "prompt_number": 295
    },
    {
     "cell_type": "code",
     "collapsed": false,
     "input": [
      "df['phase'] = [pd.Series((df.t - p['Tc']) % p['Period']) for p in pars]\n",
      "model['phase'] = pd.Series((model.t - pars['Tc']) % pars['Period'])\n",
      "model.sort(columns='phase',inplace=True)\n",
      "df.phase"
     ],
     "language": "python",
     "metadata": {},
     "outputs": [
      {
       "ename": "TypeError",
       "evalue": "string indices must be integers, not str",
       "output_type": "pyerr",
       "traceback": [
        "\u001b[0;31m---------------------------------------------------------------------------\u001b[0m\n\u001b[0;31mTypeError\u001b[0m                                 Traceback (most recent call last)",
        "\u001b[0;32m<ipython-input-294-5c3c1af8a81f>\u001b[0m in \u001b[0;36m<module>\u001b[0;34m()\u001b[0m\n\u001b[0;32m----> 1\u001b[0;31m \u001b[0mdf\u001b[0m\u001b[0;34m[\u001b[0m\u001b[0;34m'phase'\u001b[0m\u001b[0;34m]\u001b[0m \u001b[0;34m=\u001b[0m \u001b[0;34m[\u001b[0m\u001b[0mpd\u001b[0m\u001b[0;34m.\u001b[0m\u001b[0mSeries\u001b[0m\u001b[0;34m(\u001b[0m\u001b[0;34m(\u001b[0m\u001b[0mdf\u001b[0m\u001b[0;34m.\u001b[0m\u001b[0mt\u001b[0m \u001b[0;34m-\u001b[0m \u001b[0mp\u001b[0m\u001b[0;34m[\u001b[0m\u001b[0;34m'Tc'\u001b[0m\u001b[0;34m]\u001b[0m\u001b[0;34m)\u001b[0m \u001b[0;34m%\u001b[0m \u001b[0mp\u001b[0m\u001b[0;34m[\u001b[0m\u001b[0;34m'Period'\u001b[0m\u001b[0;34m]\u001b[0m\u001b[0;34m)\u001b[0m \u001b[0;32mfor\u001b[0m \u001b[0mp\u001b[0m \u001b[0;32min\u001b[0m \u001b[0mpars\u001b[0m\u001b[0;34m]\u001b[0m\u001b[0;34m\u001b[0m\u001b[0m\n\u001b[0m\u001b[1;32m      2\u001b[0m \u001b[0mmodel\u001b[0m\u001b[0;34m[\u001b[0m\u001b[0;34m'phase'\u001b[0m\u001b[0;34m]\u001b[0m \u001b[0;34m=\u001b[0m \u001b[0mpd\u001b[0m\u001b[0;34m.\u001b[0m\u001b[0mSeries\u001b[0m\u001b[0;34m(\u001b[0m\u001b[0;34m(\u001b[0m\u001b[0mmodel\u001b[0m\u001b[0;34m.\u001b[0m\u001b[0mt\u001b[0m \u001b[0;34m-\u001b[0m \u001b[0mpars\u001b[0m\u001b[0;34m[\u001b[0m\u001b[0;34m'Tc'\u001b[0m\u001b[0;34m]\u001b[0m\u001b[0;34m)\u001b[0m \u001b[0;34m%\u001b[0m \u001b[0mpars\u001b[0m\u001b[0;34m[\u001b[0m\u001b[0;34m'Period'\u001b[0m\u001b[0;34m]\u001b[0m\u001b[0;34m)\u001b[0m\u001b[0;34m\u001b[0m\u001b[0m\n\u001b[1;32m      3\u001b[0m \u001b[0mmodel\u001b[0m\u001b[0;34m.\u001b[0m\u001b[0msort\u001b[0m\u001b[0;34m(\u001b[0m\u001b[0mcolumns\u001b[0m\u001b[0;34m=\u001b[0m\u001b[0;34m'phase'\u001b[0m\u001b[0;34m,\u001b[0m\u001b[0minplace\u001b[0m\u001b[0;34m=\u001b[0m\u001b[0mTrue\u001b[0m\u001b[0;34m)\u001b[0m\u001b[0;34m\u001b[0m\u001b[0m\n\u001b[1;32m      4\u001b[0m \u001b[0mdf\u001b[0m\u001b[0;34m.\u001b[0m\u001b[0mphase\u001b[0m\u001b[0;34m\u001b[0m\u001b[0m\n",
        "\u001b[0;31mTypeError\u001b[0m: string indices must be integers, not str"
       ]
      }
     ],
     "prompt_number": 294
    },
    {
     "cell_type": "code",
     "collapsed": false,
     "input": [
      "df.plot('phase','v', style='o')"
     ],
     "language": "python",
     "metadata": {},
     "outputs": [
      {
       "metadata": {},
       "output_type": "pyout",
       "prompt_number": 258,
       "text": [
        "<matplotlib.axes.AxesSubplot at 0x117634150>"
       ]
      }
     ],
     "prompt_number": 258
    },
    {
     "cell_type": "code",
     "collapsed": false,
     "input": [
      "df.head()"
     ],
     "language": "python",
     "metadata": {},
     "outputs": [
      {
       "html": [
        "<div style=\"max-height:1000px;max-width:1500px;overflow:auto;\">\n",
        "<table border=\"1\" class=\"dataframe\">\n",
        "  <thead>\n",
        "    <tr style=\"text-align: right;\">\n",
        "      <th></th>\n",
        "      <th>t</th>\n",
        "      <th>v</th>\n",
        "      <th>e</th>\n",
        "      <th>phase</th>\n",
        "    </tr>\n",
        "  </thead>\n",
        "  <tbody>\n",
        "    <tr>\n",
        "      <th>0</th>\n",
        "      <td> 16574.049</td>\n",
        "      <td> 22.898595</td>\n",
        "      <td> 2.12111</td>\n",
        "      <td>  7.300608</td>\n",
        "    </tr>\n",
        "    <tr>\n",
        "      <th>1</th>\n",
        "      <td> 16577.964</td>\n",
        "      <td> 18.798500</td>\n",
        "      <td> 2.05450</td>\n",
        "      <td> 11.215608</td>\n",
        "    </tr>\n",
        "    <tr>\n",
        "      <th>2</th>\n",
        "      <td> 16577.966</td>\n",
        "      <td> 15.691520</td>\n",
        "      <td> 2.06884</td>\n",
        "      <td> 11.217608</td>\n",
        "    </tr>\n",
        "    <tr>\n",
        "      <th>3</th>\n",
        "      <td> 16577.967</td>\n",
        "      <td> 17.120355</td>\n",
        "      <td> 2.06996</td>\n",
        "      <td> 11.218608</td>\n",
        "    </tr>\n",
        "    <tr>\n",
        "      <th>4</th>\n",
        "      <td> 16578.050</td>\n",
        "      <td> 19.372295</td>\n",
        "      <td> 1.91943</td>\n",
        "      <td> 11.301608</td>\n",
        "    </tr>\n",
        "  </tbody>\n",
        "</table>\n",
        "</div>"
       ],
       "metadata": {},
       "output_type": "pyout",
       "prompt_number": 195,
       "text": [
        "           t          v        e      phase\n",
        "0  16574.049  22.898595  2.12111   7.300608\n",
        "1  16577.964  18.798500  2.05450  11.215608\n",
        "2  16577.966  15.691520  2.06884  11.217608\n",
        "3  16577.967  17.120355  2.06996  11.218608\n",
        "4  16578.050  19.372295  1.91943  11.301608"
       ]
      }
     ],
     "prompt_number": 195
    },
    {
     "cell_type": "code",
     "collapsed": false,
     "input": [
      "# bin velocities\n",
      "nbins = 10\n",
      "tbin = []\n",
      "vbin = []\n",
      "ebin = []\n",
      "for bin_l in arange(0,pars['Period'],pars['Period']/nbins):\n",
      "    bin_r = bin_l + pars['Period']/nbins\n",
      "#    print bin_l, bin_r\n",
      "    rvbin = df.loc[df['phase'] >= bin_l].loc[df['phase'] < bin_r]\n",
      "    tbin.append(np.average(rvbin['phase'], weights = (1./rvbin.e**2.)))\n",
      "    vbin.append(np.average(rvbin['v'], weights = (1./rvbin.e**2.)))\n",
      "    ebin.append(std(rvbin.v)/sqrt(len(rvbin)))\n",
      "#    urhow.append(std(rbin.rho)/sqrt(len(rbin)))\n",
      "means = pd.DataFrame({'tbin':tbin, 'vbin':vbin, 'ebin':ebin})"
     ],
     "language": "python",
     "metadata": {},
     "outputs": [],
     "prompt_number": 247
    },
    {
     "cell_type": "code",
     "collapsed": false,
     "input": [
      "#%matplotlib osx\n",
      "fig = plt.figure()\n",
      "ax = fig.add_subplot(111)\n",
      "ax.errorbar(df.phase,df.v,yerr=df.e, fmt='.',elinewidth=1, color='gray', capsize=0, label='55 Cnc')\n",
      "ax.plot(model['phase'],model['v'], '--r', label='Model', alpha=0.5)\n",
      "ax.set_xlabel('Phase (days)', fontsize=16)\n",
      "ax.set_ylabel('RV (m/s)', fontsize=16)\n",
      "ax.errorbar(means.tbin,means.vbin, yerr=means.ebin, fmt='o', elinewidth=2, color='blue', capsize=0, label='Binned', markersize=10)\n",
      "ax.legend(numpoints=1,loc='lower right')"
     ],
     "language": "python",
     "metadata": {},
     "outputs": [
      {
       "metadata": {},
       "output_type": "pyout",
       "prompt_number": 272,
       "text": [
        "<matplotlib.legend.Legend at 0x117cf6cd0>"
       ]
      }
     ],
     "prompt_number": 272
    },
    {
     "cell_type": "code",
     "collapsed": false,
     "input": [],
     "language": "python",
     "metadata": {},
     "outputs": []
    }
   ],
   "metadata": {}
  }
 ]
}