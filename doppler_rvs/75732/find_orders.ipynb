{
 "metadata": {
  "name": ""
 },
 "nbformat": 3,
 "nbformat_minor": 0,
 "worksheets": [
  {
   "cells": [
    {
     "cell_type": "code",
     "collapsed": false,
     "input": [
      "from matplotlib import pyplot as plt\n",
      "%matplotlib osx\n",
      "import numpy as np\n",
      "import scipy as sp\n",
      "import glob\n",
      "from scipy import ndimage\n",
      "from skimage import filter\n",
      "import pyfits\n",
      "from PIL import Image"
     ],
     "language": "python",
     "metadata": {},
     "outputs": [],
     "prompt_number": 13
    },
    {
     "cell_type": "code",
     "collapsed": false,
     "input": [
      "datafile = glob.glob('/Users/lweiss/doppler_rvs/ucb-acr151.fits')\n",
      "flatfiles = glob.glob('/Users/lweiss/doppler_rvs/ucb-acr1[123]?.fits')\n",
      "print datafile, flatfiles"
     ],
     "language": "python",
     "metadata": {},
     "outputs": [
      {
       "output_type": "stream",
       "stream": "stdout",
       "text": [
        "['/Users/lweiss/doppler_rvs/ucb-acr151.fits'] ['/Users/lweiss/doppler_rvs/ucb-acr113.fits', '/Users/lweiss/doppler_rvs/ucb-acr114.fits', '/Users/lweiss/doppler_rvs/ucb-acr115.fits', '/Users/lweiss/doppler_rvs/ucb-acr116.fits', '/Users/lweiss/doppler_rvs/ucb-acr117.fits', '/Users/lweiss/doppler_rvs/ucb-acr118.fits', '/Users/lweiss/doppler_rvs/ucb-acr119.fits', '/Users/lweiss/doppler_rvs/ucb-acr120.fits', '/Users/lweiss/doppler_rvs/ucb-acr121.fits', '/Users/lweiss/doppler_rvs/ucb-acr122.fits', '/Users/lweiss/doppler_rvs/ucb-acr123.fits', '/Users/lweiss/doppler_rvs/ucb-acr124.fits', '/Users/lweiss/doppler_rvs/ucb-acr125.fits', '/Users/lweiss/doppler_rvs/ucb-acr126.fits', '/Users/lweiss/doppler_rvs/ucb-acr127.fits', '/Users/lweiss/doppler_rvs/ucb-acr128.fits', '/Users/lweiss/doppler_rvs/ucb-acr129.fits', '/Users/lweiss/doppler_rvs/ucb-acr130.fits', '/Users/lweiss/doppler_rvs/ucb-acr131.fits', '/Users/lweiss/doppler_rvs/ucb-acr132.fits', '/Users/lweiss/doppler_rvs/ucb-acr133.fits', '/Users/lweiss/doppler_rvs/ucb-acr134.fits', '/Users/lweiss/doppler_rvs/ucb-acr135.fits', '/Users/lweiss/doppler_rvs/ucb-acr136.fits', '/Users/lweiss/doppler_rvs/ucb-acr137.fits', '/Users/lweiss/doppler_rvs/ucb-acr138.fits', '/Users/lweiss/doppler_rvs/ucb-acr139.fits']\n"
       ]
      }
     ],
     "prompt_number": 2
    },
    {
     "cell_type": "code",
     "collapsed": false,
     "input": [
      "# load data image\n",
      "data_cube = pyfits.getdata(datafile[0],0)\n",
      "rawim = data_cube.T\n",
      "type(rawim)\n",
      "rawim[1666]"
     ],
     "language": "python",
     "metadata": {},
     "outputs": [
      {
       "metadata": {},
       "output_type": "pyout",
       "prompt_number": 3,
       "text": [
        "array([ 1374.,  1409.,  1397., ...,  1077.,  1080.,  1080.], dtype=float32)"
       ]
      }
     ],
     "prompt_number": 3
    },
    {
     "cell_type": "code",
     "collapsed": false,
     "input": [
      "pyfits.info(datafile[0])\n",
      "hdulist = pyfits.open(datafile[0]) # open a FITS file\n",
      "prihdr = hdulist[0].header\n",
      "prihdr"
     ],
     "language": "python",
     "metadata": {},
     "outputs": [
      {
       "output_type": "stream",
       "stream": "stdout",
       "text": [
        "Filename: /Users/lweiss/doppler_rvs/ucb-acr151.fits\n",
        "No.    Name         Type      Cards   Dimensions   Format\n",
        "0    PRIMARY     PrimaryHDU     224   (2080, 4608)   int16   \n"
       ]
      },
      {
       "metadata": {},
       "output_type": "pyout",
       "prompt_number": 4,
       "text": [
        "SIMPLE  =                    T / NORMAL FITS IMAGE                              \n",
        "BITPIX  =                   16 / DATA PRECISION                                 \n",
        "NAXIS   =                    2 / NUMBER OF IMAGE DIMENSIONS                     \n",
        "NAXIS1  =                 2080 / NUMBER OF COLUMNS                              \n",
        "NAXIS2  =                 4608 / NUMBER OF ROWS                                 \n",
        "CRVAL1U =                    0 / COLUMN ORIGIN                                  \n",
        "CRVAL2U =                    0 / ROW ORIGIN                                     \n",
        "CDELT1U =                    1 / COLUMN CHANGE PER PIXEL                        \n",
        "CDELT2U =                    1 / ROW CHANGE PER PIXEL                           \n",
        "OBSNUM  =                  151 / OBSERVATION NUMBER                             \n",
        "IDNUM   =                    5 / IMAGE ID                                       \n",
        "UGEOM   =                    1 / UCAM READOUT GEOMETRY                          \n",
        "DGEOM   =                    1 / DESCRAMBLE GEOMETRY                            \n",
        "AMPSROW =                    1 / AMPLIFIERS PER ROW                             \n",
        "AMPSCOL =                    1 / AMPLIFIERS PER COLUMN                          \n",
        "OBSTYPE = 'OBJECT'             / IMAGE TYPE                                     \n",
        "EXPTIME =               349.89 / Exp time (not counting shutter error)          \n",
        "BSCALE  =                    1 / DATA SCALE FACTOR                              \n",
        "BZERO   =                32768 / DATA ZERO POINT                                \n",
        "COMMENT    Real Value = FITS*BSCALE+BZERO                                       \n",
        "PROGRAM = 'NEWCAM'             / New Lick Camera                                \n",
        "VERSION = 'apf'                / Data acquisition version                       \n",
        "TSEC    =           1391221375 / CLOCK TICK - SECONDS                           \n",
        "TUSEC   =               541000 / CLOCK TICK - MICROSECONDS                      \n",
        "DATE    = '2014-02-01T02:22:55.54' / UT of CCD readout & descramble             \n",
        "DATASEC = '[1:2048,1:4608]'        / IRAF/NOAO-style data section               \n",
        "COMMENT End of cards hard-coded in fits_cards                                   \n",
        "COMMENT Begin of cards from other times                                         \n",
        "PHOCOUNT=           1000000000 / Exposure meter photon count                    \n",
        "AMIDPT  = '2014-02-01T02:19:57.643250' / Non-final photon-weighted midpoint     \n",
        "THEMIDPT= '2014-02-01T02:19:57.643250' / Final photon-weighted midpoint         \n",
        "PFREQ   =                    2 / PARALLEL CLOCK PERIOD                          \n",
        "PADDC   =                    0 / PARALLEL CLOCK CAPACITOR SELECTION             \n",
        "NSTIME  =                   32 / CONTROLS RISING TIME FOR SUBSTRATE             \n",
        "VSUBEX  =                    0 / SUBSTRATE VOLTAGE DURING EXPOSURE              \n",
        "VSUBER  =                    0 / SUBSTRATE VOLTAGE DURING ERASE                 \n",
        "NHBESP  =                   32 / BINNING FOR SPECIAL ERASE                      \n",
        "MERSP   =                    0 / CONTROLS SPECIAL ERASE MODE                    \n",
        "TCPR1   =                    4 / PRE-IMAGE SERIAL PIXELS                        \n",
        "TSPRD   =                   40 / SAMPLE TIME IN 0.1 MICROSECOND UNITS           \n",
        "TSCLEAN =                   40 / SERIAL CLEAN SAMPLE TIME                       \n",
        "SFREQ   =                    2 / SERIAL CLOCK PERIOD                            \n",
        "SADDC   =                    2 / SERIAL CLOCK CAP SELECTION                     \n",
        "REVERASE=                    0 / NUMBER OF REVERSE ERASES                       \n",
        "TCPR2   =                    4 / POST-IMAGE SERIAL PIXELS BEFORE OVERSCAN       \n",
        "ERPBIN  =                   10 / PARALLEL BINNING DURING ERASE                  \n",
        "ERASE   =                    2 / NUMBER OF ERASES                               \n",
        "PSKIP   =                    0 / CONTROLS POST-IMAGE SKIPPING                   \n",
        "CSMP    =                    0 / DCS CAP SELECTION                              \n",
        "CSELPRD =                    0 / PREREAD CLOCK SELECTION                        \n",
        "SCLEAN  =                    0 / SERIAL CLEANING CLOCK SELECTION                \n",
        "BINPRD  =                    0 / PREREAD SERIAL BINNING                         \n",
        "BINSCLN =                    0 / BINNING FOR SERIAL CLEAN                       \n",
        "PPRERD  =                   40 / PRE-IMAGE ROWS                                 \n",
        "AIRMASS =       1.121199965477 / Airmass at end of exposure                     \n",
        "OWNERID = '                  ' / OWNERID for archive data                       \n",
        "TTRUS315=       6.519999980927 / [degC] Telescope truss 10:30 surface temp      \n",
        "TTRUS225=       5.599999904633 / [degC] Telescope truss 7:30 surface temp       \n",
        "TTRUS135=       7.389999866486 / [degC] Telescope truss 4:30 surface temp       \n",
        "TTRUS045=        5.69000005722 / [degC] Telescope truss 1:30 surface temp       \n",
        "RMSOFFEL=      0.2879999876022 / [arcsec] Autoguider RMS offset (el)            \n",
        "AVGOFFEL=    0.001000000047497 / [arcsec] Autoguider average offset (el)        \n",
        "RMSOFFAZ=      0.2930000126362 / [arcsec] Autoguider RMS offset (az)            \n",
        "AVGOFFAZ=    0.003000000026077 / [arcsec] Autoguider average offset (az)        \n",
        "GPSCALE =      0.1080000028014 / [arcsec/pixel] Guide image platescale          \n",
        "RMS_FLUX=       1528.738037109 / [adu] Guide image RMS target flux              \n",
        "AVG_FLUX=       7761.690917969 / [adu] Guide image average target flux          \n",
        "RMSSTHET=                    0 / [deg] Guide image RMS centroid angle           \n",
        "AVGSTHET=       17.09499931335 / [deg] Guide image average centroid angle       \n",
        "RMS_SMIN=      0.8280000090599 / [pixel] Guide image RMS semi-minor axis        \n",
        "AVG_SMIN=       15.60400009155 / [pixel] Guide image average semi-minor axis    \n",
        "RMS_SMAJ=       1.121999979019 / [pixel] Guide image RMS semi-major axis        \n",
        "AVG_SMAJ=       16.54100036621 / [pixel] Guide image average semi-major axis    \n",
        "HALOGEN2= 'Off               ' / Halogen lamp #2                                \n",
        "HALOGEN1= 'Off               ' / Halogen lamp #1                                \n",
        "DWRSTTMP=       16.70000076294 / [degC] Dewar mechanical stage temp             \n",
        "DWRMOTTP=                 21.5 / [degC] Motor temp for dewar focus              \n",
        "DFOCVAL =       1.539999961853 / [mm] Dewar focus position                      \n",
        "APRMOTTP=       22.10000038147 / [degC] Motor temp for aperture plate           \n",
        "ADCVAX  =       26.89999961853 / [deg] ADC correction                           \n",
        "ADCVAL  =       32.77000045776 / [mm] ADC position                              \n",
        "ADCMOTTP=       18.20000076294 / [degC] Motor temp for ADC                      \n",
        "ICELRAW =                15683 / Iodine cell load encoder                       \n",
        "DFOCRAW =                 7708 / Dewar focus load encoder                       \n",
        "DECKRRAW=               121685 / Slit/decker load encoder                       \n",
        "CSRCRAW =                41899 / Calibration source load encoder                \n",
        "ADCRAW  =                -6555 / ADC load encoder                               \n",
        "METWINDD=                  309 / [deg] Weather station wind direction           \n",
        "THORIUM2= 'Off               ' / Thorium lamp #2                                \n",
        "METRAIN = 'False             ' / Weather station rain indicator                 \n",
        "ICELNAM = 'In                ' / Iodine cell position                           \n",
        "DISP0STA= 'Ready             ' / apfmot dispatcher #0 status                    \n",
        "DECKRNAM= 'W (1.00:3.0)      ' / Slit/decker position                           \n",
        "CSRCNAM = 'Halogen Sphere    ' / Calibration source position                    \n",
        "CMIRRNAM= 'Out               ' / Calibration mirror position                    \n",
        "OMEGAPOW= 'On                ' / Iodine cell Omega controller power             \n",
        "ICELCTRL= 'Ready             ' / Iodine cell Omega dispatcher status            \n",
        "TOBJECT = 'hr193             ' / Telescope target object name                   \n",
        "THORIUM1= 'Off               ' / Thorium lamp #1                                \n",
        "MAXCOUNT=           1000000000 / Maximum allowed photon count                   \n",
        "EL      =       63.08039855957 / [deg] Telescope elevation                      \n",
        "AZ      =       305.0165100098 / [deg] Telescope azimuth                        \n",
        "SPEXTBTP=                    6 / [degC] Spectrograph external bottom temp       \n",
        "METRH   =                   67 / [%] Weather station relative humidity          \n",
        "RACKTTMP=       20.10000038147 / [degC] Electronics rack top temperature        \n",
        "RACKMTMP=       22.70000076294 / [degC] Electronics rack middle temperature     \n",
        "RACKBTMP=       23.70000076294 / [degC] Electronics rack bottom temperature     \n",
        "RACK2TMP=       26.20000076294 / [degC] Electronics rack board 2 temperature    \n",
        "RACK1TMP=       26.70000076294 / [degC] Electronics rack board 1 temperature    \n",
        "MIRMOTTP=       20.60000038147 / [degC] Motor temp for cal. mirror              \n",
        "METWINDS=       2.400000095367 / [m/s] Weather station wind speed               \n",
        "METTEMP =      0.8000000119209 / [degC] Weather station temperature             \n",
        "METDEW  =      -4.599999904633 / [degC] Weather station dew point               \n",
        "IODMOTTP=       21.70000076294 / [degC] Motor temp for iodine cell              \n",
        "ICELTEMP=                   50 / [degC] Iodine cell temperature                 \n",
        "ICELSETP=                   50 / [degC] Iodine cell temperature set point       \n",
        "GFCMOTTP=       19.79999923706 / [degC] Motor temp for guide focus              \n",
        "GCXCHVLV=                    0 / [V] Glycol valve for heat exchanger            \n",
        "GCUCMVLV=                    1 / [V] Glycol valve for UCAM controller           \n",
        "GCUCMTMP=                   17 / [degC] Glycol temp leaving UCAM controller     \n",
        "GCMANTMP=                    6 / [degC] Glycol temp leaving spec. chiller       \n",
        "GCLMPVLV=                    0 / [V] Glycol valve for cal. lamp                 \n",
        "GCLMPTMP=       17.39999961853 / [degC] Glycol temp leaving cal. lamp           \n",
        "GCAMP2TP=                   16 / [degC] Guide camera port 2 temp                \n",
        "GCAMP1TP=       17.29999923706 / [degC] Guide camera port 1 temp                \n",
        "FCU3TEMP=       6.199999809265 / [degC] Dome fan cooling unit #3 temp           \n",
        "FCU3SETP=      0.8000000119209 / [degC] Dome fan cooling unit #3 setpoint       \n",
        "FCU2TEMP=       6.199999809265 / [degC] Dome fan cooling unit #2 temp           \n",
        "FCU2SETP=      0.8000000119209 / [degC] Dome fan cooling unit #2 setpoint       \n",
        "FCU1TEMP=                 19.5 / [degC] Dome fan cooling unit #1 temp           \n",
        "FCU1SETP=                   20 / [degC] Dome fan cooling unit #1 setpoint       \n",
        "ACFOCUS =  -9.699999645818E-05 / [m] Telescope focus compensated position       \n",
        "AAFOCDCY=                    0 / [m] Telescope focus absolute Y decenter        \n",
        "AAFOCDCX=                    0 / [m] Telescope focus absolute X decenter        \n",
        "AAFOCTLT=                    0 / [rad] Telescope focus absolute tilt            \n",
        "AAFOCTIP=     -0.1000000014901 / [rad] Telescope focus absolute tip             \n",
        "AAFOCUS =   -0.000992999994196 / [m] Telescope focus absolute position          \n",
        "RA      = ' 0:44:43.5        ' / Telescope right ascension                      \n",
        "HA      = '  2:15:41.7       ' / Telescope hour angle                           \n",
        "DEC     = ' 48:17:03.7       ' / Telescope declination                          \n",
        "CMIRRRAW=                 5000 / Calibration mirror load encoder                \n",
        "GCBYPVLV=                    5 / [V] Glycol bypass valve                        \n",
        "UCAMEXTP=       15.30000019073 / [degC] UCAM controller housing temp            \n",
        "THUD4TMP=       6.099999904633 / [degC] Dome THuD level 4 temperature           \n",
        "THUD4DEW=      -1.700000047684 / [degC] Dome THuD level 4 dewpoint              \n",
        "THUD3TMP=       6.199999809265 / [degC] Dome THuD level 3 temperature           \n",
        "THUD3DEW=                   -2 / [degC] Dome THuD level 3 dewpoint              \n",
        "THUD1TMP=                 19.5 / [degC] Dome THuD level 1 temperature           \n",
        "THUD1DEW=                    2 / [degC] Dome THuD level 1 dewpoint              \n",
        "SRCMOTTP=       20.60000038147 / [degC] Motor temp for cal. source              \n",
        "FOCENAB = 'Yes               ' / Telescope focus enabled (Yes or No)            \n",
        "SPEXTTTP=       6.300000190735 / [degC] Spectrograph external top temp          \n",
        "OBJECT  = 'hr193             '                                                  \n",
        "FOCTYPE = '3-axis Actuated   ' / Telescope focus type                           \n",
        "CCFOCDCY=                    0 / [m] Telescope focus commanded comp. Y decenter \n",
        "CCFOCDCX=                    0 / [m] Telescope focus commanded comp. X decenter \n",
        "CCFOCTLT=                  -50 / [rad] Telescope focus commanded comp. tilt     \n",
        "CCFOCTIP=                    4 / [rad] Telescope focus commanded comp. tip      \n",
        "CCFOCUS =   -9.60000033956E-05 / [m] Telescope focus commanded comp. position   \n",
        "CAFOCDCY=                    0 / [m] Telescope focus commanded abs. Y decenter  \n",
        "CAFOCDCX=                    0 / [m] Telescope focus commanded abs. X decenter  \n",
        "CAFOCTLT=                    0 / [rad] Telescope focus commanded abs. tilt      \n",
        "CAFOCTIP=                    0 / [rad] Telescope focus commanded abs. tip       \n",
        "CAFOCUS =   -0.000992999994196 / [m] Telescope focus commanded abs. position    \n",
        "ACFOCDCY=                    0 / [m] Telescope focus compensated Y decenter     \n",
        "ACFOCDCX=                    0 / [m] Telescope focus compensated X decenter     \n",
        "ACFOCTLT=                  -50 / [rad] Telescope focus compensated tilt         \n",
        "ACFOCTIP=       3.900000095367 / [rad] Telescope focus compensated tip          \n",
        "OBSERVER= 'Fulton,Weiss      ' / OBSERVER NAME                                  \n",
        "DATE-END= '2014-02-01T02:22:54.92' / END OF OBSERVATION                         \n",
        "GEOMCODE=                    1 / READOUT GEOMETRY                               \n",
        "DSENSOR = 'e2v 2kx4k 42-90   ' / SENSOR DESCRIPTION                             \n",
        "DNAXIS2 =                 4608 / ROWS IN SENSOR                                 \n",
        "DNAXIS1 =                 2048 / COLUMNS IN SENSOR                              \n",
        "UCAMADC = 'Old ADC           ' / UCAM ADC BOARDS                                \n",
        "UCAMCDB = 'Old CDB           ' / UCAM CDB BOARDS                                \n",
        "CAMERAID=                    5 / CAMERA ID NUMBER                               \n",
        "UCAMSPB = '2 DSP             ' / UCAM SPB BOARDS                                \n",
        "UCAMSOFT= '4.08 052011       ' / UCAM SOFTWARE VERSION                          \n",
        "UCAMTIM = 'Old Timing        ' / UCAM TIMING BOARDS                             \n",
        "GAIN    =                    1 / DCS GAIN INDEX                                 \n",
        "TEMPCON =      -152.1000061035 / CONTROLLER TEMPERATURE                         \n",
        "CBIN    =                    0 / COLUMN BINNING                                 \n",
        "NCSHIFT =                    0 / NUMBER OF CHARGE SHUFFLES                      \n",
        "RCSHIFT =                    0 / NUMBER OF ROWS IN EACH CHARGE SHUFFLE          \n",
        "ROVER   =                    0 / NUMBER OF OVERSCAN ROWS                        \n",
        "COVER   =                   32 / NUMBER OF OVERSCAN COLUMNS                     \n",
        "OBSTYPE =                    1 / IMAGE TYPE                                     \n",
        "MPP     =                    0 / MPP STATE                                      \n",
        "TEMPDET =                 -105 / EXPOSURE START DETECTOR TEMPERATURE            \n",
        "RBIN    =                    0 / ROW BINNING                                    \n",
        "READ-SPD=                   10 / DCS READ SPEED                                 \n",
        "BOTAIRT =       17.39999961853 / [degC] Spectr optical bench bottom air temp    \n",
        "TM1S210 =       7.739999771118 / [degC] telescope M1 Sensor 7:00 temperature    \n",
        "TM2CSUR =       3.380000114441 / [degC] telescope M2 Can Surface temperature    \n",
        "TM2CAIR =       4.030000209808 / [degC] telescope M2 Can Air temperature        \n",
        "TCAIR175=       6.230000019073 / [degC] telescope Center Section Air 6:30 temper\n",
        "TAVERAGE=       6.300000190735 / [degC] telescope truss average temperature     \n",
        "METPRES =        871.200012207 / [hPa] Weather station air pressure             \n",
        "HEATER  =                 2192 / HEATER VOLTAGE                                 \n",
        "HEATXFAN= 'On                ' / Spectr heat exchanger fan                      \n",
        "GCXCHTMP=       15.60000038147 / [degC] Spectr heat exchanger temp              \n",
        "INTSPHT =       17.39999961853 / [degC] Spectr integrating sphere temp          \n",
        "STRUTAVG=       17.45999908447 / [degC] Spectr strut average temp               \n",
        "STRUT6  =       17.29999923706 / [degC] Spectr strut 6 temp                     \n",
        "STRUT5  =       17.39999961853 / [degC] Spectr strut 5 temp                     \n",
        "STRUT4  =       17.39999961853 / [degC] Spectr strut 4 temp                     \n",
        "STRUT3  =       17.39999961853 / [degC] Spectr strut 3 temp                     \n",
        "STRUT2  =       17.60000038147 / [degC] Spectr strut 2 temp                     \n",
        "STRUT1  =       17.60000038147 / [degC] Spectr strut 1 temp                     \n",
        "THUD4RH =                   57 / [%] Dome THuD level 4 relative humidity        \n",
        "THUD3RH =       55.79999923706 / [%] Dome THuD level 3 relative humidity        \n",
        "THUD1RH =       31.20000076294 / [%] Dome THuD level 1 relative humidity        \n",
        "SPINTRH =       20.89999961853 / [%] Spectrograph internal relative humidity    \n",
        "SPEXTRH =       57.90000152588 / [%] Spectrograph external relative humidity    \n",
        "TOPSRFT =       17.60000038147 / [degC] Spectr optical bench top surface temp   \n",
        "BOTSRFT =       18.79999923706 / [degC] Spectr optical bench bot. surface temp  \n",
        "TOPAIRT =       18.39999961853 / [degC] Spectr optical bench top air temp       \n",
        "DATE-BEG= '2014-02-01T02:17:05.02' / START OF OBSERVATION                       \n",
        "DATE-OBS= '2014-02-01T02:17:05.02' / observation date (begin)                   \n",
        "CKSUMOK =                    T / cd: CHECKSUMS MATCH                            \n",
        "CAMCKSUM=                55749 / cd: CAMERA-COMPUTED CHECKSUM                   \n",
        "SFTCKSUM=                55749 / cd: SOFTWARE-COMPUTED CHECKSUM                 \n",
        "COMMENT End of cards from other times                                           "
       ]
      }
     ],
     "prompt_number": 4
    },
    {
     "cell_type": "code",
     "collapsed": false,
     "input": [
      "# load flat, take median flat, and flat-field the image\n",
      "flats = np.array([pyfits.getdata(file,0) for file in flatfiles])\n",
      "flats.shape"
     ],
     "language": "python",
     "metadata": {},
     "outputs": [
      {
       "metadata": {},
       "output_type": "pyout",
       "prompt_number": 5,
       "text": [
        "(27, 4608, 2080)"
       ]
      }
     ],
     "prompt_number": 5
    },
    {
     "cell_type": "code",
     "collapsed": false,
     "input": [
      "medflat = np.median(flats,axis=0)\n",
      "medflat = medflat.T"
     ],
     "language": "python",
     "metadata": {},
     "outputs": [],
     "prompt_number": 6
    },
    {
     "cell_type": "code",
     "collapsed": false,
     "input": [
      "# check that raw image and flats are same shape!\n",
      "np.subtract(rawim.shape,medflat.shape)\n",
      "rawim.shape"
     ],
     "language": "python",
     "metadata": {},
     "outputs": [
      {
       "metadata": {},
       "output_type": "pyout",
       "prompt_number": 7,
       "text": [
        "(2080, 4608)"
       ]
      }
     ],
     "prompt_number": 7
    },
    {
     "cell_type": "code",
     "collapsed": false,
     "input": [
      "# subtract bias from all images\n",
      "bias = np.array([np.median(rawim[-32:,row]) for row in np.arange(rawim.shape[1])])\n",
      "imb = np.array([np.subtract(rawim[:,row], bias[row]) for row in np.arange(bias.shape[0])]).T\n",
      "flatbias = np.array([np.median(medflat[-32:,row]) for row in np.arange(medflat.shape[1])])\n",
      "medflatb = np.array([np.subtract(medflat[:,row], flatbias[row]) for row in np.arange(flatbias.shape[0])]).T\n",
      "imb.shape"
     ],
     "language": "python",
     "metadata": {},
     "outputs": [
      {
       "metadata": {},
       "output_type": "pyout",
       "prompt_number": 8,
       "text": [
        "(2080, 4608)"
       ]
      }
     ],
     "prompt_number": 8
    },
    {
     "cell_type": "code",
     "collapsed": false,
     "input": [
      "plt.plot(imb[-33:,4000])\n",
      "plt.plot(medflatb[-33:,4000])"
     ],
     "language": "python",
     "metadata": {},
     "outputs": [
      {
       "metadata": {},
       "output_type": "pyout",
       "prompt_number": 9,
       "text": [
        "[<matplotlib.lines.Line2D at 0x10c688790>]"
       ]
      }
     ],
     "prompt_number": 9
    },
    {
     "cell_type": "code",
     "collapsed": false,
     "input": [
      "plt.figure(figsize=(16,8))\n",
      "plt.subplot(111)\n",
      "plt.imshow(imb, cmap=plt.cm.gray)"
     ],
     "language": "python",
     "metadata": {},
     "outputs": [
      {
       "metadata": {},
       "output_type": "pyout",
       "prompt_number": 14,
       "text": [
        "<matplotlib.image.AxesImage at 0x101945e50>"
       ]
      }
     ],
     "prompt_number": 14
    },
    {
     "cell_type": "code",
     "collapsed": false,
     "input": [
      "im = np.divide(imb[:-32,:],medflatb[:-32,:])\n",
      "print np.max(im)"
     ],
     "language": "python",
     "metadata": {},
     "outputs": [
      {
       "output_type": "stream",
       "stream": "stdout",
       "text": [
        "101.075\n"
       ]
      }
     ],
     "prompt_number": 51
    },
    {
     "cell_type": "code",
     "collapsed": false,
     "input": [
      "edges2 = filter.canny(im, sigma=0.)\n",
      "plt.figure(figsize=(16,8))\n",
      "plt.subplot(111)\n",
      "plt.imshow(edges2, cmap=plt.cm.gray)\n",
      "plt.title('Canny filter, $\\sigma=0.01$', fontsize=20)"
     ],
     "language": "python",
     "metadata": {},
     "outputs": [
      {
       "metadata": {},
       "output_type": "pyout",
       "prompt_number": 54,
       "text": [
        "<matplotlib.text.Text at 0x12ec582d0>"
       ]
      }
     ],
     "prompt_number": 54
    },
    {
     "cell_type": "code",
     "collapsed": false,
     "input": [
      "im.shape\n",
      "im.dtype\n",
      "print im\n",
      "edges3 = filter.hsobel(im/np.max(im))"
     ],
     "language": "python",
     "metadata": {},
     "outputs": [
      {
       "output_type": "stream",
       "stream": "stdout",
       "text": [
        "[[ 0.54081631  0.49122807  0.44117647 ...,  0.27586207  0.50877196\n",
        "   0.2706767 ]\n",
        " [ 0.54615384  0.42307693  0.5131579  ...,  0.06896552  0.21666667\n",
        "   0.26086956]\n",
        " [ 0.3125      0.43373495  0.46250001 ...,  0.25757575  0.1754386\n",
        "   0.27350429]\n",
        " ..., \n",
        " [ 0.65476191  0.80851066  0.37777779 ...,  0.16666667  0.25        0.41975307]\n",
        " [ 0.35365853  0.48837209  0.3125     ...,  0.47499999  0.25641027\n",
        "   0.35294119]\n",
        " [ 0.4861111   0.52272725  0.20930232 ...,  0.17948718  0.14634146  0.        ]]\n"
       ]
      }
     ],
     "prompt_number": 52
    },
    {
     "cell_type": "code",
     "collapsed": false,
     "input": [
      "plt.figure(figsize=(16,8))\n",
      "plt.subplot(111)\n",
      "plt.imshow(edges3, cmap=plt.cm.gray)\n",
      "plt.title('Hsobel filter', fontsize=20)"
     ],
     "language": "python",
     "metadata": {},
     "outputs": [
      {
       "metadata": {},
       "output_type": "pyout",
       "prompt_number": 53,
       "text": [
        "<matplotlib.text.Text at 0x1255d9810>"
       ]
      }
     ],
     "prompt_number": 53
    },
    {
     "cell_type": "code",
     "collapsed": false,
     "input": [
      "from skimage import measure\n",
      "contours = measure.find_contours(im, 0.8)"
     ],
     "language": "python",
     "metadata": {},
     "outputs": [],
     "prompt_number": 17
    },
    {
     "cell_type": "code",
     "collapsed": false,
     "input": [
      "plt.figure(figsize=(16,8))\n",
      "plt.subplot(111)\n",
      "plt.imshow(rawim, cmap=plt.cm.prism)\n",
      "plt.title('Raw Image', fontsize=20)"
     ],
     "language": "python",
     "metadata": {},
     "outputs": [
      {
       "metadata": {},
       "output_type": "pyout",
       "prompt_number": 88,
       "text": [
        "<matplotlib.text.Text at 0x10d5a4350>"
       ]
      }
     ],
     "prompt_number": 88
    },
    {
     "cell_type": "code",
     "collapsed": false,
     "input": [
      "plt.figure(figsize=(16,8))\n",
      "plt.plot(im[:,2000])"
     ],
     "language": "python",
     "metadata": {},
     "outputs": [
      {
       "metadata": {},
       "output_type": "pyout",
       "prompt_number": 29,
       "text": [
        "[<matplotlib.lines.Line2D at 0x1d582d890>]"
       ]
      }
     ],
     "prompt_number": 29
    },
    {
     "cell_type": "code",
     "collapsed": false,
     "input": [
      "plt.figure(figsize=(16,8))\n",
      "plt.subplot(111)\n",
      "plt.imshow(im, cmap=plt.cm.gray, aspect='equal',vmin=0,vmax=6)\n",
      "plt.title('Flat-Fielded Image', fontsize=20)"
     ],
     "language": "python",
     "metadata": {},
     "outputs": [
      {
       "metadata": {},
       "output_type": "pyout",
       "prompt_number": 56,
       "text": [
        "<matplotlib.text.Text at 0x1c7ad7f10>"
       ]
      }
     ],
     "prompt_number": 56
    },
    {
     "cell_type": "code",
     "collapsed": false,
     "input": [
      "plt.figure(figsize=(24,12))\n",
      "plt.subplot(111)\n",
      "plt.imshow(medflatb, cmap=plt.cm.jet)\n",
      "plt.title('Median Flat', fontsize=20)"
     ],
     "language": "python",
     "metadata": {},
     "outputs": [
      {
       "metadata": {},
       "output_type": "pyout",
       "prompt_number": 55,
       "text": [
        "<matplotlib.text.Text at 0x1255fa090>"
       ]
      }
     ],
     "prompt_number": 55
    },
    {
     "cell_type": "code",
     "collapsed": false,
     "input": [],
     "language": "python",
     "metadata": {},
     "outputs": [
      {
       "metadata": {},
       "output_type": "pyout",
       "prompt_number": 32,
       "text": [
        "<matplotlib.text.Text at 0x1c7ab7a90>"
       ]
      }
     ],
     "prompt_number": 32
    },
    {
     "cell_type": "code",
     "collapsed": false,
     "input": [
      "# Display the image and plot all contours found\n",
      "plt.figure(figsize=(16,8))\n",
      "\n",
      "plt.imshow(im, interpolation='nearest')\n",
      "\n",
      "\n",
      "for n, contour in enumerate(contours):\n",
      "    plt.plot(contour[:, 1], contour[:, 0], linewidth=2)\n"
     ],
     "language": "python",
     "metadata": {},
     "outputs": [
      {
       "ename": "KeyboardInterrupt",
       "evalue": "",
       "output_type": "pyerr",
       "traceback": [
        "\u001b[0;31m---------------------------------------------------------------------------\u001b[0m\n\u001b[0;31mKeyboardInterrupt\u001b[0m                         Traceback (most recent call last)",
        "\u001b[0;32m<ipython-input-27-cd7288069ae0>\u001b[0m in \u001b[0;36m<module>\u001b[0;34m()\u001b[0m\n\u001b[1;32m      6\u001b[0m \u001b[0;34m\u001b[0m\u001b[0m\n\u001b[1;32m      7\u001b[0m \u001b[0;32mfor\u001b[0m \u001b[0mn\u001b[0m\u001b[0;34m,\u001b[0m \u001b[0mcontour\u001b[0m \u001b[0;32min\u001b[0m \u001b[0menumerate\u001b[0m\u001b[0;34m(\u001b[0m\u001b[0mcontours\u001b[0m\u001b[0;34m)\u001b[0m\u001b[0;34m:\u001b[0m\u001b[0;34m\u001b[0m\u001b[0m\n\u001b[0;32m----> 8\u001b[0;31m     \u001b[0mplt\u001b[0m\u001b[0;34m.\u001b[0m\u001b[0mplot\u001b[0m\u001b[0;34m(\u001b[0m\u001b[0mcontour\u001b[0m\u001b[0;34m[\u001b[0m\u001b[0;34m:\u001b[0m\u001b[0;34m,\u001b[0m \u001b[0;36m1\u001b[0m\u001b[0;34m]\u001b[0m\u001b[0;34m,\u001b[0m \u001b[0mcontour\u001b[0m\u001b[0;34m[\u001b[0m\u001b[0;34m:\u001b[0m\u001b[0;34m,\u001b[0m \u001b[0;36m0\u001b[0m\u001b[0;34m]\u001b[0m\u001b[0;34m,\u001b[0m \u001b[0mlinewidth\u001b[0m\u001b[0;34m=\u001b[0m\u001b[0;36m2\u001b[0m\u001b[0;34m)\u001b[0m\u001b[0;34m\u001b[0m\u001b[0m\n\u001b[0m",
        "\u001b[0;32m/Users/lweiss/Library/Enthought/Canopy_64bit/User/lib/python2.7/site-packages/matplotlib/pyplot.pyc\u001b[0m in \u001b[0;36mplot\u001b[0;34m(*args, **kwargs)\u001b[0m\n\u001b[1;32m   2985\u001b[0m         \u001b[0max\u001b[0m\u001b[0;34m.\u001b[0m\u001b[0mhold\u001b[0m\u001b[0;34m(\u001b[0m\u001b[0mhold\u001b[0m\u001b[0;34m)\u001b[0m\u001b[0;34m\u001b[0m\u001b[0m\n\u001b[1;32m   2986\u001b[0m     \u001b[0;32mtry\u001b[0m\u001b[0;34m:\u001b[0m\u001b[0;34m\u001b[0m\u001b[0m\n\u001b[0;32m-> 2987\u001b[0;31m         \u001b[0mret\u001b[0m \u001b[0;34m=\u001b[0m \u001b[0max\u001b[0m\u001b[0;34m.\u001b[0m\u001b[0mplot\u001b[0m\u001b[0;34m(\u001b[0m\u001b[0;34m*\u001b[0m\u001b[0margs\u001b[0m\u001b[0;34m,\u001b[0m \u001b[0;34m**\u001b[0m\u001b[0mkwargs\u001b[0m\u001b[0;34m)\u001b[0m\u001b[0;34m\u001b[0m\u001b[0m\n\u001b[0m\u001b[1;32m   2988\u001b[0m         \u001b[0mdraw_if_interactive\u001b[0m\u001b[0;34m(\u001b[0m\u001b[0;34m)\u001b[0m\u001b[0;34m\u001b[0m\u001b[0m\n\u001b[1;32m   2989\u001b[0m     \u001b[0;32mfinally\u001b[0m\u001b[0;34m:\u001b[0m\u001b[0;34m\u001b[0m\u001b[0m\n",
        "\u001b[0;32m/Users/lweiss/Library/Enthought/Canopy_64bit/User/lib/python2.7/site-packages/matplotlib/axes.pyc\u001b[0m in \u001b[0;36mplot\u001b[0;34m(self, *args, **kwargs)\u001b[0m\n\u001b[1;32m   4135\u001b[0m         \u001b[0mlines\u001b[0m \u001b[0;34m=\u001b[0m \u001b[0;34m[\u001b[0m\u001b[0;34m]\u001b[0m\u001b[0;34m\u001b[0m\u001b[0m\n\u001b[1;32m   4136\u001b[0m \u001b[0;34m\u001b[0m\u001b[0m\n\u001b[0;32m-> 4137\u001b[0;31m         \u001b[0;32mfor\u001b[0m \u001b[0mline\u001b[0m \u001b[0;32min\u001b[0m \u001b[0mself\u001b[0m\u001b[0;34m.\u001b[0m\u001b[0m_get_lines\u001b[0m\u001b[0;34m(\u001b[0m\u001b[0;34m*\u001b[0m\u001b[0margs\u001b[0m\u001b[0;34m,\u001b[0m \u001b[0;34m**\u001b[0m\u001b[0mkwargs\u001b[0m\u001b[0;34m)\u001b[0m\u001b[0;34m:\u001b[0m\u001b[0;34m\u001b[0m\u001b[0m\n\u001b[0m\u001b[1;32m   4138\u001b[0m             \u001b[0mself\u001b[0m\u001b[0;34m.\u001b[0m\u001b[0madd_line\u001b[0m\u001b[0;34m(\u001b[0m\u001b[0mline\u001b[0m\u001b[0;34m)\u001b[0m\u001b[0;34m\u001b[0m\u001b[0m\n\u001b[1;32m   4139\u001b[0m             \u001b[0mlines\u001b[0m\u001b[0;34m.\u001b[0m\u001b[0mappend\u001b[0m\u001b[0;34m(\u001b[0m\u001b[0mline\u001b[0m\u001b[0;34m)\u001b[0m\u001b[0;34m\u001b[0m\u001b[0m\n",
        "\u001b[0;32m/Users/lweiss/Library/Enthought/Canopy_64bit/User/lib/python2.7/site-packages/matplotlib/axes.pyc\u001b[0m in \u001b[0;36m_grab_next_args\u001b[0;34m(self, *args, **kwargs)\u001b[0m\n\u001b[1;32m    315\u001b[0m                 \u001b[0;32mreturn\u001b[0m\u001b[0;34m\u001b[0m\u001b[0m\n\u001b[1;32m    316\u001b[0m             \u001b[0;32mif\u001b[0m \u001b[0mlen\u001b[0m\u001b[0;34m(\u001b[0m\u001b[0mremaining\u001b[0m\u001b[0;34m)\u001b[0m \u001b[0;34m<=\u001b[0m \u001b[0;36m3\u001b[0m\u001b[0;34m:\u001b[0m\u001b[0;34m\u001b[0m\u001b[0m\n\u001b[0;32m--> 317\u001b[0;31m                 \u001b[0;32mfor\u001b[0m \u001b[0mseg\u001b[0m \u001b[0;32min\u001b[0m \u001b[0mself\u001b[0m\u001b[0;34m.\u001b[0m\u001b[0m_plot_args\u001b[0m\u001b[0;34m(\u001b[0m\u001b[0mremaining\u001b[0m\u001b[0;34m,\u001b[0m \u001b[0mkwargs\u001b[0m\u001b[0;34m)\u001b[0m\u001b[0;34m:\u001b[0m\u001b[0;34m\u001b[0m\u001b[0m\n\u001b[0m\u001b[1;32m    318\u001b[0m                     \u001b[0;32myield\u001b[0m \u001b[0mseg\u001b[0m\u001b[0;34m\u001b[0m\u001b[0m\n\u001b[1;32m    319\u001b[0m                 \u001b[0;32mreturn\u001b[0m\u001b[0;34m\u001b[0m\u001b[0m\n",
        "\u001b[0;32m/Users/lweiss/Library/Enthought/Canopy_64bit/User/lib/python2.7/site-packages/matplotlib/axes.pyc\u001b[0m in \u001b[0;36m_plot_args\u001b[0;34m(self, tup, kwargs)\u001b[0m\n\u001b[1;32m    303\u001b[0m         \u001b[0mncx\u001b[0m\u001b[0;34m,\u001b[0m \u001b[0mncy\u001b[0m \u001b[0;34m=\u001b[0m \u001b[0mx\u001b[0m\u001b[0;34m.\u001b[0m\u001b[0mshape\u001b[0m\u001b[0;34m[\u001b[0m\u001b[0;36m1\u001b[0m\u001b[0;34m]\u001b[0m\u001b[0;34m,\u001b[0m \u001b[0my\u001b[0m\u001b[0;34m.\u001b[0m\u001b[0mshape\u001b[0m\u001b[0;34m[\u001b[0m\u001b[0;36m1\u001b[0m\u001b[0;34m]\u001b[0m\u001b[0;34m\u001b[0m\u001b[0m\n\u001b[1;32m    304\u001b[0m         \u001b[0;32mfor\u001b[0m \u001b[0mj\u001b[0m \u001b[0;32min\u001b[0m \u001b[0mxrange\u001b[0m\u001b[0;34m(\u001b[0m\u001b[0mmax\u001b[0m\u001b[0;34m(\u001b[0m\u001b[0mncx\u001b[0m\u001b[0;34m,\u001b[0m \u001b[0mncy\u001b[0m\u001b[0;34m)\u001b[0m\u001b[0;34m)\u001b[0m\u001b[0;34m:\u001b[0m\u001b[0;34m\u001b[0m\u001b[0m\n\u001b[0;32m--> 305\u001b[0;31m             \u001b[0mseg\u001b[0m \u001b[0;34m=\u001b[0m \u001b[0mfunc\u001b[0m\u001b[0;34m(\u001b[0m\u001b[0mx\u001b[0m\u001b[0;34m[\u001b[0m\u001b[0;34m:\u001b[0m\u001b[0;34m,\u001b[0m \u001b[0mj\u001b[0m \u001b[0;34m%\u001b[0m \u001b[0mncx\u001b[0m\u001b[0;34m]\u001b[0m\u001b[0;34m,\u001b[0m \u001b[0my\u001b[0m\u001b[0;34m[\u001b[0m\u001b[0;34m:\u001b[0m\u001b[0;34m,\u001b[0m \u001b[0mj\u001b[0m \u001b[0;34m%\u001b[0m \u001b[0mncy\u001b[0m\u001b[0;34m]\u001b[0m\u001b[0;34m,\u001b[0m \u001b[0mkw\u001b[0m\u001b[0;34m,\u001b[0m \u001b[0mkwargs\u001b[0m\u001b[0;34m)\u001b[0m\u001b[0;34m\u001b[0m\u001b[0m\n\u001b[0m\u001b[1;32m    306\u001b[0m             \u001b[0mret\u001b[0m\u001b[0;34m.\u001b[0m\u001b[0mappend\u001b[0m\u001b[0;34m(\u001b[0m\u001b[0mseg\u001b[0m\u001b[0;34m)\u001b[0m\u001b[0;34m\u001b[0m\u001b[0m\n\u001b[1;32m    307\u001b[0m         \u001b[0;32mreturn\u001b[0m \u001b[0mret\u001b[0m\u001b[0;34m\u001b[0m\u001b[0m\n",
        "\u001b[0;32m/Users/lweiss/Library/Enthought/Canopy_64bit/User/lib/python2.7/site-packages/matplotlib/axes.pyc\u001b[0m in \u001b[0;36m_makeline\u001b[0;34m(self, x, y, kw, kwargs)\u001b[0m\n\u001b[1;32m    253\u001b[0m         seg = mlines.Line2D(x, y,\n\u001b[1;32m    254\u001b[0m                             \u001b[0maxes\u001b[0m\u001b[0;34m=\u001b[0m\u001b[0mself\u001b[0m\u001b[0;34m.\u001b[0m\u001b[0maxes\u001b[0m\u001b[0;34m,\u001b[0m\u001b[0;34m\u001b[0m\u001b[0m\n\u001b[0;32m--> 255\u001b[0;31m                             \u001b[0;34m**\u001b[0m\u001b[0mkw\u001b[0m\u001b[0;34m\u001b[0m\u001b[0m\n\u001b[0m\u001b[1;32m    256\u001b[0m                             )\n\u001b[1;32m    257\u001b[0m         \u001b[0mself\u001b[0m\u001b[0;34m.\u001b[0m\u001b[0mset_lineprops\u001b[0m\u001b[0;34m(\u001b[0m\u001b[0mseg\u001b[0m\u001b[0;34m,\u001b[0m \u001b[0;34m**\u001b[0m\u001b[0mkwargs\u001b[0m\u001b[0;34m)\u001b[0m\u001b[0;34m\u001b[0m\u001b[0m\n",
        "\u001b[0;32m/Users/lweiss/Library/Enthought/Canopy_64bit/User/lib/python2.7/site-packages/matplotlib/lines.pyc\u001b[0m in \u001b[0;36m__init__\u001b[0;34m(self, xdata, ydata, linewidth, linestyle, color, marker, markersize, markeredgewidth, markeredgecolor, markerfacecolor, markerfacecoloralt, fillstyle, antialiased, dash_capstyle, solid_capstyle, dash_joinstyle, solid_joinstyle, pickradius, drawstyle, markevery, **kwargs)\u001b[0m\n\u001b[1;32m    208\u001b[0m         \u001b[0mself\u001b[0m\u001b[0;34m.\u001b[0m\u001b[0mset_linewidth\u001b[0m\u001b[0;34m(\u001b[0m\u001b[0mlinewidth\u001b[0m\u001b[0;34m)\u001b[0m\u001b[0;34m\u001b[0m\u001b[0m\n\u001b[1;32m    209\u001b[0m         \u001b[0mself\u001b[0m\u001b[0;34m.\u001b[0m\u001b[0mset_color\u001b[0m\u001b[0;34m(\u001b[0m\u001b[0mcolor\u001b[0m\u001b[0;34m)\u001b[0m\u001b[0;34m\u001b[0m\u001b[0m\n\u001b[0;32m--> 210\u001b[0;31m         \u001b[0mself\u001b[0m\u001b[0;34m.\u001b[0m\u001b[0m_marker\u001b[0m \u001b[0;34m=\u001b[0m \u001b[0mMarkerStyle\u001b[0m\u001b[0;34m(\u001b[0m\u001b[0;34m)\u001b[0m\u001b[0;34m\u001b[0m\u001b[0m\n\u001b[0m\u001b[1;32m    211\u001b[0m         \u001b[0mself\u001b[0m\u001b[0;34m.\u001b[0m\u001b[0mset_marker\u001b[0m\u001b[0;34m(\u001b[0m\u001b[0mmarker\u001b[0m\u001b[0;34m)\u001b[0m\u001b[0;34m\u001b[0m\u001b[0m\n\u001b[1;32m    212\u001b[0m         \u001b[0mself\u001b[0m\u001b[0;34m.\u001b[0m\u001b[0mset_markevery\u001b[0m\u001b[0;34m(\u001b[0m\u001b[0mmarkevery\u001b[0m\u001b[0;34m)\u001b[0m\u001b[0;34m\u001b[0m\u001b[0m\n",
        "\u001b[0;32m/Users/lweiss/Library/Enthought/Canopy_64bit/User/lib/python2.7/site-packages/matplotlib/markers.pyc\u001b[0m in \u001b[0;36m__init__\u001b[0;34m(self, marker, fillstyle)\u001b[0m\n\u001b[1;32m    160\u001b[0m         \"\"\"\n\u001b[1;32m    161\u001b[0m         \u001b[0mself\u001b[0m\u001b[0;34m.\u001b[0m\u001b[0m_fillstyle\u001b[0m \u001b[0;34m=\u001b[0m \u001b[0mfillstyle\u001b[0m\u001b[0;34m\u001b[0m\u001b[0m\n\u001b[0;32m--> 162\u001b[0;31m         \u001b[0mself\u001b[0m\u001b[0;34m.\u001b[0m\u001b[0mset_marker\u001b[0m\u001b[0;34m(\u001b[0m\u001b[0mmarker\u001b[0m\u001b[0;34m)\u001b[0m\u001b[0;34m\u001b[0m\u001b[0m\n\u001b[0m\u001b[1;32m    163\u001b[0m         \u001b[0mself\u001b[0m\u001b[0;34m.\u001b[0m\u001b[0mset_fillstyle\u001b[0m\u001b[0;34m(\u001b[0m\u001b[0mfillstyle\u001b[0m\u001b[0;34m)\u001b[0m\u001b[0;34m\u001b[0m\u001b[0m\n\u001b[1;32m    164\u001b[0m \u001b[0;34m\u001b[0m\u001b[0m\n",
        "\u001b[0;32m/Users/lweiss/Library/Enthought/Canopy_64bit/User/lib/python2.7/site-packages/matplotlib/markers.pyc\u001b[0m in \u001b[0;36mset_marker\u001b[0;34m(self, marker)\u001b[0m\n\u001b[1;32m    237\u001b[0m \u001b[0;34m\u001b[0m\u001b[0m\n\u001b[1;32m    238\u001b[0m         \u001b[0mself\u001b[0m\u001b[0;34m.\u001b[0m\u001b[0m_marker\u001b[0m \u001b[0;34m=\u001b[0m \u001b[0mmarker\u001b[0m\u001b[0;34m\u001b[0m\u001b[0m\n\u001b[0;32m--> 239\u001b[0;31m         \u001b[0mself\u001b[0m\u001b[0;34m.\u001b[0m\u001b[0m_recache\u001b[0m\u001b[0;34m(\u001b[0m\u001b[0;34m)\u001b[0m\u001b[0;34m\u001b[0m\u001b[0m\n\u001b[0m\u001b[1;32m    240\u001b[0m \u001b[0;34m\u001b[0m\u001b[0m\n\u001b[1;32m    241\u001b[0m     \u001b[0;32mdef\u001b[0m \u001b[0mget_path\u001b[0m\u001b[0;34m(\u001b[0m\u001b[0mself\u001b[0m\u001b[0;34m)\u001b[0m\u001b[0;34m:\u001b[0m\u001b[0;34m\u001b[0m\u001b[0m\n",
        "\u001b[0;32m/Users/lweiss/Library/Enthought/Canopy_64bit/User/lib/python2.7/site-packages/matplotlib/markers.pyc\u001b[0m in \u001b[0;36m_recache\u001b[0;34m(self)\u001b[0m\n\u001b[1;32m    175\u001b[0m     \u001b[0;32mdef\u001b[0m \u001b[0m_recache\u001b[0m\u001b[0;34m(\u001b[0m\u001b[0mself\u001b[0m\u001b[0;34m)\u001b[0m\u001b[0;34m:\u001b[0m\u001b[0;34m\u001b[0m\u001b[0m\n\u001b[1;32m    176\u001b[0m         \u001b[0mself\u001b[0m\u001b[0;34m.\u001b[0m\u001b[0m_path\u001b[0m \u001b[0;34m=\u001b[0m \u001b[0mPath\u001b[0m\u001b[0;34m(\u001b[0m\u001b[0mnp\u001b[0m\u001b[0;34m.\u001b[0m\u001b[0mempty\u001b[0m\u001b[0;34m(\u001b[0m\u001b[0;34m(\u001b[0m\u001b[0;36m0\u001b[0m\u001b[0;34m,\u001b[0m \u001b[0;36m2\u001b[0m\u001b[0;34m)\u001b[0m\u001b[0;34m)\u001b[0m\u001b[0;34m)\u001b[0m\u001b[0;34m\u001b[0m\u001b[0m\n\u001b[0;32m--> 177\u001b[0;31m         \u001b[0mself\u001b[0m\u001b[0;34m.\u001b[0m\u001b[0m_transform\u001b[0m \u001b[0;34m=\u001b[0m \u001b[0mIdentityTransform\u001b[0m\u001b[0;34m(\u001b[0m\u001b[0;34m)\u001b[0m\u001b[0;34m\u001b[0m\u001b[0m\n\u001b[0m\u001b[1;32m    178\u001b[0m         \u001b[0mself\u001b[0m\u001b[0;34m.\u001b[0m\u001b[0m_alt_path\u001b[0m \u001b[0;34m=\u001b[0m \u001b[0mNone\u001b[0m\u001b[0;34m\u001b[0m\u001b[0m\n\u001b[1;32m    179\u001b[0m         \u001b[0mself\u001b[0m\u001b[0;34m.\u001b[0m\u001b[0m_alt_transform\u001b[0m \u001b[0;34m=\u001b[0m \u001b[0mNone\u001b[0m\u001b[0;34m\u001b[0m\u001b[0m\n",
        "\u001b[0;32m/Users/lweiss/Library/Enthought/Canopy_64bit/User/lib/python2.7/site-packages/matplotlib/transforms.pyc\u001b[0m in \u001b[0;36m__init__\u001b[0;34m(self, *args, **kwargs)\u001b[0m\n\u001b[1;32m   1544\u001b[0m \u001b[0;34m\u001b[0m\u001b[0m\n\u001b[1;32m   1545\u001b[0m     \u001b[0;32mdef\u001b[0m \u001b[0m__init__\u001b[0m\u001b[0;34m(\u001b[0m\u001b[0mself\u001b[0m\u001b[0;34m,\u001b[0m \u001b[0;34m*\u001b[0m\u001b[0margs\u001b[0m\u001b[0;34m,\u001b[0m \u001b[0;34m**\u001b[0m\u001b[0mkwargs\u001b[0m\u001b[0;34m)\u001b[0m\u001b[0;34m:\u001b[0m\u001b[0;34m\u001b[0m\u001b[0m\n\u001b[0;32m-> 1546\u001b[0;31m         \u001b[0mTransform\u001b[0m\u001b[0;34m.\u001b[0m\u001b[0m__init__\u001b[0m\u001b[0;34m(\u001b[0m\u001b[0mself\u001b[0m\u001b[0;34m,\u001b[0m \u001b[0;34m*\u001b[0m\u001b[0margs\u001b[0m\u001b[0;34m,\u001b[0m \u001b[0;34m**\u001b[0m\u001b[0mkwargs\u001b[0m\u001b[0;34m)\u001b[0m\u001b[0;34m\u001b[0m\u001b[0m\n\u001b[0m\u001b[1;32m   1547\u001b[0m         \u001b[0mself\u001b[0m\u001b[0;34m.\u001b[0m\u001b[0m_inverted\u001b[0m \u001b[0;34m=\u001b[0m \u001b[0mNone\u001b[0m\u001b[0;34m\u001b[0m\u001b[0m\n\u001b[1;32m   1548\u001b[0m \u001b[0;34m\u001b[0m\u001b[0m\n",
        "\u001b[0;32m/Users/lweiss/Library/Enthought/Canopy_64bit/User/lib/python2.7/site-packages/matplotlib/transforms.pyc\u001b[0m in \u001b[0;36m__init__\u001b[0;34m(self, shorthand_name)\u001b[0m\n\u001b[1;32m     91\u001b[0m         \u001b[0;31m# parents are deleted, references from the children won't keep\u001b[0m\u001b[0;34m\u001b[0m\u001b[0;34m\u001b[0m\u001b[0m\n\u001b[1;32m     92\u001b[0m         \u001b[0;31m# them alive.\u001b[0m\u001b[0;34m\u001b[0m\u001b[0;34m\u001b[0m\u001b[0m\n\u001b[0;32m---> 93\u001b[0;31m         \u001b[0mself\u001b[0m\u001b[0;34m.\u001b[0m\u001b[0m_parents\u001b[0m \u001b[0;34m=\u001b[0m \u001b[0mWeakValueDictionary\u001b[0m\u001b[0;34m(\u001b[0m\u001b[0;34m)\u001b[0m\u001b[0;34m\u001b[0m\u001b[0m\n\u001b[0m\u001b[1;32m     94\u001b[0m \u001b[0;34m\u001b[0m\u001b[0m\n\u001b[1;32m     95\u001b[0m         \u001b[0;31m# TransformNodes start out as invalid until their values are\u001b[0m\u001b[0;34m\u001b[0m\u001b[0;34m\u001b[0m\u001b[0m\n",
        "\u001b[0;32m/Applications/Canopy.app/appdata/canopy-1.1.0.1371.macosx-x86_64/Canopy.app/Contents/lib/python2.7/weakref.pyc\u001b[0m in \u001b[0;36m__init__\u001b[0;34m(self, *args, **kw)\u001b[0m\n\u001b[1;32m     51\u001b[0m                 \u001b[0;32mdel\u001b[0m \u001b[0mself\u001b[0m\u001b[0;34m.\u001b[0m\u001b[0mdata\u001b[0m\u001b[0;34m[\u001b[0m\u001b[0mwr\u001b[0m\u001b[0;34m.\u001b[0m\u001b[0mkey\u001b[0m\u001b[0;34m]\u001b[0m\u001b[0;34m\u001b[0m\u001b[0m\n\u001b[1;32m     52\u001b[0m         \u001b[0mself\u001b[0m\u001b[0;34m.\u001b[0m\u001b[0m_remove\u001b[0m \u001b[0;34m=\u001b[0m \u001b[0mremove\u001b[0m\u001b[0;34m\u001b[0m\u001b[0m\n\u001b[0;32m---> 53\u001b[0;31m         \u001b[0mUserDict\u001b[0m\u001b[0;34m.\u001b[0m\u001b[0mUserDict\u001b[0m\u001b[0;34m.\u001b[0m\u001b[0m__init__\u001b[0m\u001b[0;34m(\u001b[0m\u001b[0mself\u001b[0m\u001b[0;34m,\u001b[0m \u001b[0;34m*\u001b[0m\u001b[0margs\u001b[0m\u001b[0;34m,\u001b[0m \u001b[0;34m**\u001b[0m\u001b[0mkw\u001b[0m\u001b[0;34m)\u001b[0m\u001b[0;34m\u001b[0m\u001b[0m\n\u001b[0m\u001b[1;32m     54\u001b[0m \u001b[0;34m\u001b[0m\u001b[0m\n\u001b[1;32m     55\u001b[0m     \u001b[0;32mdef\u001b[0m \u001b[0m__getitem__\u001b[0m\u001b[0;34m(\u001b[0m\u001b[0mself\u001b[0m\u001b[0;34m,\u001b[0m \u001b[0mkey\u001b[0m\u001b[0;34m)\u001b[0m\u001b[0;34m:\u001b[0m\u001b[0;34m\u001b[0m\u001b[0m\n",
        "\u001b[0;32m/Applications/Canopy.app/appdata/canopy-1.1.0.1371.macosx-x86_64/Canopy.app/Contents/lib/python2.7/UserDict.pyc\u001b[0m in \u001b[0;36m__init__\u001b[0;34m(self, dict, **kwargs)\u001b[0m\n\u001b[1;32m      3\u001b[0m \u001b[0;32mclass\u001b[0m \u001b[0mUserDict\u001b[0m\u001b[0;34m:\u001b[0m\u001b[0;34m\u001b[0m\u001b[0m\n\u001b[1;32m      4\u001b[0m     \u001b[0;32mdef\u001b[0m \u001b[0m__init__\u001b[0m\u001b[0;34m(\u001b[0m\u001b[0mself\u001b[0m\u001b[0;34m,\u001b[0m \u001b[0mdict\u001b[0m\u001b[0;34m=\u001b[0m\u001b[0mNone\u001b[0m\u001b[0;34m,\u001b[0m \u001b[0;34m**\u001b[0m\u001b[0mkwargs\u001b[0m\u001b[0;34m)\u001b[0m\u001b[0;34m:\u001b[0m\u001b[0;34m\u001b[0m\u001b[0m\n\u001b[0;32m----> 5\u001b[0;31m         \u001b[0mself\u001b[0m\u001b[0;34m.\u001b[0m\u001b[0mdata\u001b[0m \u001b[0;34m=\u001b[0m \u001b[0;34m{\u001b[0m\u001b[0;34m}\u001b[0m\u001b[0;34m\u001b[0m\u001b[0m\n\u001b[0m\u001b[1;32m      6\u001b[0m         \u001b[0;32mif\u001b[0m \u001b[0mdict\u001b[0m \u001b[0;32mis\u001b[0m \u001b[0;32mnot\u001b[0m \u001b[0mNone\u001b[0m\u001b[0;34m:\u001b[0m\u001b[0;34m\u001b[0m\u001b[0m\n\u001b[1;32m      7\u001b[0m             \u001b[0mself\u001b[0m\u001b[0;34m.\u001b[0m\u001b[0mupdate\u001b[0m\u001b[0;34m(\u001b[0m\u001b[0mdict\u001b[0m\u001b[0;34m)\u001b[0m\u001b[0;34m\u001b[0m\u001b[0m\n",
        "\u001b[0;31mKeyboardInterrupt\u001b[0m: "
       ]
      },
      {
       "output_type": "stream",
       "stream": "stderr",
       "text": [
        "/Users/lweiss/Library/Enthought/Canopy_64bit/User/lib/python2.7/site-packages/matplotlib/lines.py:503: RuntimeWarning: invalid value encountered in greater_equal\n",
        "  return np.alltrue(x[1:] - x[0:-1] >= 0)\n"
       ]
      }
     ],
     "prompt_number": 27
    },
    {
     "cell_type": "code",
     "collapsed": false,
     "input": [],
     "language": "python",
     "metadata": {},
     "outputs": []
    }
   ],
   "metadata": {}
  }
 ]
}