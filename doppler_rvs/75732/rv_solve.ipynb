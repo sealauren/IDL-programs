{
 "metadata": {
  "name": ""
 },
 "nbformat": 3,
 "nbformat_minor": 0,
 "worksheets": [
  {
   "cells": [
    {
     "cell_type": "code",
     "collapsed": false,
     "input": [
      "# import libraries\n",
      "%pylab inline\n",
      "from numpy import sin, cos, tan, pi, arctan, arange, floor, sign\n",
      "import astropy.constants as const\n",
      "from astropy import units\n",
      "from scipy.optimize import newton, leastsq"
     ],
     "language": "python",
     "metadata": {},
     "outputs": [
      {
       "output_type": "stream",
       "stream": "stdout",
       "text": [
        "Populating the interactive namespace from numpy and matplotlib\n"
       ]
      }
     ],
     "prompt_number": 47
    },
    {
     "cell_type": "code",
     "collapsed": false,
     "input": [
      "# use cgs units\n",
      "mearth = const.M_earth.cgs\n",
      "msun = const.M_sun.cgs\n",
      "mjup = 317.83 * mearth\n",
      "G = const.G.cgs\n",
      "c = const.c.cgs\n",
      "print mearth, msun, G, c"
     ],
     "language": "python",
     "metadata": {},
     "outputs": [
      {
       "output_type": "stream",
       "stream": "stdout",
       "text": [
        "5.9742e+27 g 1.9891e+33 g 6.67384e-08 cm3 / (g s2) 29979245800.0 cm / s\n"
       ]
      }
     ],
     "prompt_number": 48
    },
    {
     "cell_type": "code",
     "collapsed": false,
     "input": [
      "# the rv equation\n",
      "def compute_rv(K,f,om,e,gamma=0,dvdt=0,curve=0,t=0):\n",
      "    '''Compute the RV given K (m/s), f, om, e, [gamma (m/s), dvdt (m/s), curve (m/s),t=0]'''\n",
      "    assert K >=0.\n",
      "    assert e >=0.\n",
      "    assert e <=1.\n",
      "    return K*(cos(f+om)+e*cos(om))#+gamma * units.m / units.s +dvdt*(t-14000)+curv*(t-14000)^2  #Default epoch for planet seaarch epoch"
     ],
     "language": "python",
     "metadata": {},
     "outputs": [],
     "prompt_number": 49
    },
    {
     "cell_type": "code",
     "collapsed": false,
     "input": [
      "# define K\n",
      "def compute_K(m1,m2,P,e,i):\n",
      "    ''' Compute K for m1 in solar masses, m2 in Earth masses, P in days, eccentricity, i in degrees'''\n",
      "    assert e>=0.\n",
      "    assert e<=1.\n",
      "    assert P>=0.\n",
      "    assert m1>=0.\n",
      "    assert m2>=0.\n",
      "#   from Seager Exoplanets, Ch.2:\n",
      "    from numpy import pi\n",
      "    return 28.4329 / pow(1-e**2., 1/2) * m2*mearth/mjup * sin(i*pi/180.) * pow((m1 + m2*mearth/msun),-2/3.) * pow(P/365.25,-1/3.) * units.m / units.s"
     ],
     "language": "python",
     "metadata": {},
     "outputs": [],
     "prompt_number": 53
    },
    {
     "cell_type": "code",
     "collapsed": false,
     "input": [
      "# check that we get 12 m/s for Jupiter\n",
      "compute_K(1.0,317.83,11.*365.25,0.,90.)"
     ],
     "language": "python",
     "metadata": {},
     "outputs": [
      {
       "latex": [
        "$12.7766 \\; \\mathrm{\\frac{m}{s}}$"
       ],
       "metadata": {},
       "output_type": "pyout",
       "prompt_number": 137,
       "text": [
        "<Quantity 12.776562140361705 m / s>"
       ]
      }
     ],
     "prompt_number": 137
    },
    {
     "cell_type": "code",
     "collapsed": false,
     "input": [
      "# define mean anomaly\n",
      "def compute_M(t,tp,P):\n",
      "    '''Compute mean anomaly M'''\n",
      "    return 2*pi*(((t-tp)/P) - floor((t-tp)/P))\n",
      "\n",
      "# kepler's equation, two ways\n",
      "kepler = lambda E1, e: E1 - e * sin(E1)\n",
      "kepler_min = lambda E1, e, M : M - kepler(E1, e) # minimize this to solve Kepler's Equation the easy way\n",
      "F = lambda E1, e, M: E1 - e*sin(E1) - M \n",
      "F1 = lambda E1, e: 1 - e * cos(E1)\n",
      "F2 = lambda E1, e: e * sin(E1) \n",
      "F3 = lambda E1, e: e * cos(E1)\n",
      "d1 = lambda E1, e, M: -F(E1, e, M)/F1(E1, e)\n",
      "d2 = lambda E1, e, M: -F(E1, e, M)/(F1(E1, e) + 1/2. * d1(E1, e, M) * F2(E1, e))\n",
      "d3 = lambda E1, e, M: -F(E1, e, M)/(F1(E1, e) + 1/2. * d2(E1, e, M) * F2(E1, e) + 1/6. * (d2(E1, e, M))**2. * F3(E1, e))\n",
      "Danby_min = lambda E1, e, M: d3(E1, e, M) # minimize this for Danby 1988 method for faster convergence\n",
      "\n",
      "# define eccentric anomaly\n",
      "def compute_f(E, e):\n",
      "    '''Compute true anomaly f'''\n",
      "    n1 = 1. + e\n",
      "    n2 = 1. - e\n",
      "    return 2.*arctan(pow((n1/n2),1/2.)*tan(E/2))"
     ],
     "language": "python",
     "metadata": {},
     "outputs": [],
     "prompt_number": 211
    },
    {
     "cell_type": "code",
     "collapsed": false,
     "input": [
      "M = 1/2.\n",
      "e = 0.3\n",
      "kepler(1.0, e)\n",
      "print \"M:\", M"
     ],
     "language": "python",
     "metadata": {},
     "outputs": [
      {
       "output_type": "stream",
       "stream": "stdout",
       "text": [
        "M: 0.5\n"
       ]
      }
     ],
     "prompt_number": 119
    },
    {
     "cell_type": "code",
     "collapsed": false,
     "input": [
      "E = newton(kepler_min, 1.0, args=(e,M), tol=1e-5) # check if precision is good enough\n",
      "print \"E:\", E\n",
      "print \"Solution:\", kepler(E,e)\n",
      "print \"Difference:\",M-kepler(E,e)"
     ],
     "language": "python",
     "metadata": {},
     "outputs": [
      {
       "output_type": "stream",
       "stream": "stdout",
       "text": [
        "E: 0.691250289594\n",
        "Solution: 0.5\n",
        "Difference: 0.0\n"
       ]
      }
     ],
     "prompt_number": 122
    },
    {
     "cell_type": "code",
     "collapsed": false,
     "input": [
      "%timeit newton(kepler_min, 1.0, args=(e,M), tol=1e-5)"
     ],
     "language": "python",
     "metadata": {},
     "outputs": [
      {
       "output_type": "stream",
       "stream": "stdout",
       "text": [
        "10000 loops, best of 3: 38.8 \u00b5s per loop\n"
       ]
      }
     ],
     "prompt_number": 131
    },
    {
     "cell_type": "code",
     "collapsed": false,
     "input": [
      "%timeit newton(kepler_min, 1.0, args=(e,M), tol=1e-8)"
     ],
     "language": "python",
     "metadata": {},
     "outputs": [
      {
       "output_type": "stream",
       "stream": "stdout",
       "text": [
        "10000 loops, best of 3: 58 \u00b5s per loop\n"
       ]
      }
     ],
     "prompt_number": 132
    },
    {
     "cell_type": "code",
     "collapsed": false,
     "input": [
      "# compare speed of regular Newton method to Danby 1988 method\n",
      "%timeit newton(Danby_min, 1/2. + sign(sin(1/2.))*e*0.85, args=(e,1/2.))"
     ],
     "language": "python",
     "metadata": {},
     "outputs": [
      {
       "output_type": "stream",
       "stream": "stdout",
       "text": [
        "1000 loops, best of 3: 380 \u00b5s per loop\n"
       ]
      }
     ],
     "prompt_number": 15
    },
    {
     "cell_type": "code",
     "collapsed": false,
     "input": [
      "#test case: Jupiter!\n",
      "m1=1.0; m2=317.83; P=4332.589; e=0.0489; i=pi/180.*(90 - 1.304); om=0.0\n",
      "K = compute_K(m1,m2,P,e,i)\n",
      "t = arange(0,10000, 5.5)\n",
      "print type(t)\n",
      "tp = 40.\n",
      "print \"K:\", K"
     ],
     "language": "python",
     "metadata": {},
     "outputs": [
      {
       "output_type": "stream",
       "stream": "stdout",
       "text": [
        "<type 'numpy.ndarray'>\n",
        "K: 0.336587833594 m / s\n"
       ]
      }
     ],
     "prompt_number": 248
    },
    {
     "cell_type": "code",
     "collapsed": false,
     "input": [
      "# compute all the anomalies and check for sensible values\n",
      "Marr = compute_M(t,tp,P)\n",
      "print \"M values between\",min(Marr), \"and\", max(Marr)\n",
      "Earr = np.array([newton(kepler_min, M + sign(sin(1/2.))*e*0.85, args=(e,M)) for M in Marr])\n",
      "print \"E values between\",min(Earr), \"and\", max(Earr)\n",
      "farr = compute_f(Earr,e)\n",
      "print \"f values between\",min(farr), max(farr)"
     ],
     "language": "python",
     "metadata": {},
     "outputs": [
      {
       "output_type": "stream",
       "stream": "stdout",
       "text": [
        "M values between 0.00191718415388 and 6.28305623805\n",
        "E values between"
       ]
      },
      {
       "output_type": "stream",
       "stream": "stdout",
       "text": [
        " 0.00201575448127 and 6.28304960207\n",
        "f values between -3.14078098746 3.14054663778\n"
       ]
      }
     ],
     "prompt_number": 165
    },
    {
     "cell_type": "code",
     "collapsed": false,
     "input": [
      "rv = compute_rv(K,farr,om,e)"
     ],
     "language": "python",
     "metadata": {},
     "outputs": [],
     "prompt_number": 166
    },
    {
     "cell_type": "code",
     "collapsed": false,
     "input": [
      "# plot the rvs\n",
      "#%matplotlib osx\n",
      "fig = plt.figure()\n",
      "ax = fig.add_subplot(111)\n",
      "ax.plot(t,rv.value, label=\"Jupiter\")\n",
      "#ax.plot(model['phase'],model['v'], '--r', label='Model', alpha=0.5)\n",
      "ax.set_xlabel('Time (days)', fontsize=16)\n",
      "ax.set_ylabel('RV (m/s)', fontsize=16)\n",
      "#ax.errorbar(means.tbin,means.vbin, yerr=means.ebin, fmt='o', elinewidth=2, color='blue', capsize=0, label='Binned', markersize=10)\n",
      "ax.legend(numpoints=1,loc='lower right')\n",
      "fig.show()"
     ],
     "language": "python",
     "metadata": {},
     "outputs": [
      {
       "metadata": {},
       "output_type": "display_data",
       "png": "[encoded data removed]",
       "text": [
        "<matplotlib.figure.Figure at 0x108210990>"
       ]
      }
     ],
     "prompt_number": 160
    },
    {
     "cell_type": "code",
     "collapsed": false,
     "input": [
      "type(t)"
     ],
     "language": "python",
     "metadata": {},
     "outputs": [
      {
       "metadata": {},
       "output_type": "pyout",
       "prompt_number": 62,
       "text": [
        "numpy.ndarray"
       ]
      }
     ],
     "prompt_number": 62
    },
    {
     "cell_type": "code",
     "collapsed": false,
     "input": [
      "units.Unit"
     ],
     "language": "python",
     "metadata": {},
     "outputs": [],
     "prompt_number": 139
    },
    {
     "cell_type": "code",
     "collapsed": false,
     "input": [
      "rv.value"
     ],
     "language": "python",
     "metadata": {},
     "outputs": [
      {
       "metadata": {},
       "output_type": "pyout",
       "prompt_number": 141,
       "text": [
        "array([ 13.00557167,  13.00645497,  13.0073227 , ...,   1.65089615,\n",
        "         1.63818002,   1.62546407])"
       ]
      }
     ],
     "prompt_number": 141
    },
    {
     "cell_type": "code",
     "collapsed": false,
     "input": [
      "'''The problem can now be divided into two parts: an algorithmic search through parameter space for the best-fit nonlinear parameters Pj, ej, and tp,j with a computer routine such as an LM or an MCMC code, and at each step in that search an analytic solution for the linear parameters that fit best there.'''"
     ],
     "language": "python",
     "metadata": {},
     "outputs": [
      {
       "metadata": {},
       "output_type": "pyout",
       "prompt_number": 168,
       "text": [
        "'The problem can now be divided into two parts: an algorithmic search through parameter space for the best-fit nonlinear parameters Pj, ej, and tp,j with a computer routine such as an LM or an MCMC code, and at each step in that search an analytic solution for the linear parameters that fit best there.'"
       ]
      }
     ],
     "prompt_number": 168
    },
    {
     "cell_type": "code",
     "collapsed": false,
     "input": [
      "import pandas as pd\n",
      "df = pd.read_csv('/Users/lweiss/Dropbox/research/orbits.txt', index_col='NAME')\n",
      "df.columns"
     ],
     "language": "python",
     "metadata": {},
     "outputs": [
      {
       "metadata": {},
       "output_type": "pyout",
       "prompt_number": 168,
       "text": [
        "Index([u'COMP', u'KOI', u'MASS', u'R', u'PER', u'ECC', u'I', u'BIGOM', u'OM', u'T0', u'TT', u'K', u'GAMMA', u'DVDT', u'A', u'HD', u'STAR', u'RSTAR', u'MSTAR', u'RHOSTAR', u'TEFF', u'KP', u'LOGG', u'SHK', u'FE', u'V', u'VURL', u'VREF', u'RHK', u'DEC', u'RA', u'BINARY', u'BINARYURL', u'BINARYREF', u'MULT', u'ORBREF', u'ORBURL', u'FIRSTREF', u'FIRSTURL'], dtype=object)"
       ]
      }
     ],
     "prompt_number": 168
    },
    {
     "cell_type": "code",
     "collapsed": false,
     "input": [
      "df.ix[df.STAR=='Kepler-36',['MASS','R','PER','ECC','I','BIGOM','OM','T0','TT','MSTAR','RSTAR','K']]"
     ],
     "language": "python",
     "metadata": {},
     "outputs": [
      {
       "html": [
        "<div style=\"max-height:1000px;max-width:1500px;overflow:auto;\">\n",
        "<table border=\"1\" class=\"dataframe\">\n",
        "  <thead>\n",
        "    <tr style=\"text-align: right;\">\n",
        "      <th></th>\n",
        "      <th>MASS</th>\n",
        "      <th>R</th>\n",
        "      <th>PER</th>\n",
        "      <th>ECC</th>\n",
        "      <th>I</th>\n",
        "      <th>BIGOM</th>\n",
        "      <th>OM</th>\n",
        "      <th>T0</th>\n",
        "      <th>TT</th>\n",
        "      <th>MSTAR</th>\n",
        "      <th>RSTAR</th>\n",
        "      <th>K</th>\n",
        "    </tr>\n",
        "    <tr>\n",
        "      <th>NAME</th>\n",
        "      <th></th>\n",
        "      <th></th>\n",
        "      <th></th>\n",
        "      <th></th>\n",
        "      <th></th>\n",
        "      <th></th>\n",
        "      <th></th>\n",
        "      <th></th>\n",
        "      <th></th>\n",
        "      <th></th>\n",
        "      <th></th>\n",
        "      <th></th>\n",
        "    </tr>\n",
        "  </thead>\n",
        "  <tbody>\n",
        "    <tr>\n",
        "      <th>Kepler-36 b</th>\n",
        "      <td> 4.461477809581199</td>\n",
        "      <td>  1.484674333735752</td>\n",
        "      <td> 13.83989</td>\n",
        "      <td> 0</td>\n",
        "      <td> 89.52</td>\n",
        "      <td> NaN</td>\n",
        "      <td> 90</td>\n",
        "      <td> 2454960.9753</td>\n",
        "      <td> 2454960.9753</td>\n",
        "      <td> 1.071</td>\n",
        "      <td> 1.626</td>\n",
        "      <td> NaN</td>\n",
        "    </tr>\n",
        "    <tr>\n",
        "      <th>Kepler-36 c</th>\n",
        "      <td> 8.100827608717486</td>\n",
        "      <td> 3.6757162151737974</td>\n",
        "      <td> 16.23855</td>\n",
        "      <td> 0</td>\n",
        "      <td> 89.76</td>\n",
        "      <td> NaN</td>\n",
        "      <td> 90</td>\n",
        "      <td> 2454955.9132</td>\n",
        "      <td> 2454955.9132</td>\n",
        "      <td> 1.071</td>\n",
        "      <td> 1.626</td>\n",
        "      <td> NaN</td>\n",
        "    </tr>\n",
        "  </tbody>\n",
        "</table>\n",
        "</div>"
       ],
       "metadata": {},
       "output_type": "pyout",
       "prompt_number": 169,
       "text": [
        "                          MASS                   R       PER  ECC      I  \\\n",
        "NAME                                                                       \n",
        "Kepler-36 b  4.461477809581199   1.484674333735752  13.83989    0  89.52   \n",
        "Kepler-36 c  8.100827608717486  3.6757162151737974  16.23855    0  89.76   \n",
        "\n",
        "            BIGOM  OM            T0            TT  MSTAR  RSTAR    K  \n",
        "NAME                                                                  \n",
        "Kepler-36 b   NaN  90  2454960.9753  2454960.9753  1.071  1.626  NaN  \n",
        "Kepler-36 c   NaN  90  2454955.9132  2454955.9132  1.071  1.626  NaN  "
       ]
      }
     ],
     "prompt_number": 169
    },
    {
     "cell_type": "code",
     "collapsed": false,
     "input": [
      "#CFOP values\n",
      "# Kepler-36 b\n",
      "#print \"Predict Kepler-36 b: K = \", compute_K(1.071,4.461478,13.83989,0,85.37)\n",
      "# Kepler-36 c\n",
      "#print \"Predict Kepler-36 c: K = \", compute_K(1.071,8.100828, 16.23855, 0, 86.52)\n",
      "# Carter 2012 values\n",
      "# Kepler-36 b\n",
      "pars1 = [float(p) for p in pd.np.array(df.ix[\"Kepler-36 b\",['MSTAR','MASS','PER','ECC','I']]).T.ravel()]\n",
      "K1 = compute_K(pars1[0], pars1[1], pars1[2], pars1[3], pars1[4])\n",
      "df['Kepler-36 b','K'] = K1\n",
      "# Kepler-36 c\n",
      "pars2 = [float(p) for p in pd.np.array(df.ix[\"Kepler-36 c\",['MSTAR','MASS','PER','ECC','I']]).T.ravel()]\n",
      "K2 = compute_K(pars2[0], pars2[1], pars2[2], pars2[3], pars2[4])\n",
      "df['Kepler-36 c','K']=K2\n",
      "df.ix[['Kepler-36 b','Kepler-36 c'],'K']\n",
      "K1,K2"
     ],
     "language": "python",
     "metadata": {},
     "outputs": [
      {
       "metadata": {},
       "output_type": "pyout",
       "prompt_number": 280,
       "text": [
        "(<Quantity 1.135130236875102 m / s>, <Quantity 1.9541892406413734 m / s>)"
       ]
      }
     ],
     "prompt_number": 280
    },
    {
     "cell_type": "code",
     "collapsed": false,
     "input": [
      "print \"Predict 262 b: K = \", compute_K(1.26,2.69*(2.2)**0.93,7.812512,0,82.51)\n",
      "print \"Predict 262 c: K = \", compute_K(1.26,2.69*(2.79)**0.93,9.376137,0,82.51)"
     ],
     "language": "python",
     "metadata": {},
     "outputs": [
      {
       "output_type": "stream",
       "stream": "stdout",
       "text": [
        "Predict 262 b: K =  1.53388380484 m / s\n",
        "Predict 262 c: K =  1.80027661403 m / s\n"
       ]
      }
     ],
     "prompt_number": 71
    },
    {
     "cell_type": "code",
     "collapsed": false,
     "input": [
      "# Make time array\n",
      "import datetime\n",
      "from astropy.time import Time\n",
      "dtimes = [str(datetime.datetime(2014, 7, d, 10)) for d in arange(1,32,1)]\n",
      "# convert t to JD\n",
      "tarr = np.array(Time(dtimes,format='iso',scale='utc').jd)\n",
      "print type(tarr)"
     ],
     "language": "python",
     "metadata": {},
     "outputs": [
      {
       "output_type": "stream",
       "stream": "stdout",
       "text": [
        "<type 'numpy.ndarray'>\n"
       ]
      }
     ],
     "prompt_number": 294
    },
    {
     "cell_type": "code",
     "collapsed": false,
     "input": [
      "# calculate RVs for planet b\n",
      "tp = float(df.ix[\"Kepler-36 b\",'T0'])\n",
      "P = float(df.ix[\"Kepler-36 b\",'PER'])\n",
      "e = float(df.ix[\"Kepler-36 b\",'ECC'])\n",
      "om = 0.0 # float(df.ix[\"Kepler-36 b\",'BIGOM'])\n",
      "Marr = [compute_M(t,tp,P) for t in tarr]\n",
      "Earr = np.array([newton(kepler_min, M + sign(sin(1/2.))*e*0.85, args=(e,M)) for M in Marr])\n",
      "farr = compute_f(Earr,e)\n",
      "print farr\n",
      "RVb = compute_rv(K1,farr,om,e)\n",
      "#print tarr.shape, RV.value.shape\n",
      "print RVb.value"
     ],
     "language": "python",
     "metadata": {},
     "outputs": [
      {
       "output_type": "stream",
       "stream": "stdout",
       "text": [
        "[-1.49075809 -1.03676711 -0.58277612 -0.12878514  0.32520585  0.77919684\n",
        "  1.23318782  1.68717881  2.14116979  2.59516078  3.04915177 -2.78004256\n",
        " -2.32605157 -1.87206058 -1.4180696  -0.96407861 -0.51008763 -0.05609664\n",
        "  0.39789435  0.85188533  1.30587632  1.7598673   2.21385829  2.66784928\n",
        "  3.12184026 -2.70735406 -2.25336307 -1.79937209 -1.3453811  -0.89139011\n",
        " -0.43739913]\n",
        "[ 0.09075685  0.57778772  0.94776342  1.12572983  1.07563236  0.80762037\n",
        "  0.37599095 -0.13181124 -0.61290952 -0.96983723 -1.13028367 -1.06174366\n",
        " -0.77810287 -0.33682465  0.17269155  0.64722182  0.99063012  1.13334467\n",
        "  1.04645265  0.74755768  0.2972135  -0.21334377 -0.68067929 -1.01011462\n",
        " -1.1349088  -1.02977953 -0.71602515 -0.25720979  0.25371421  0.71323774\n",
        "  1.02826501]\n"
       ]
      }
     ],
     "prompt_number": 295
    },
    {
     "cell_type": "code",
     "collapsed": false,
     "input": [
      "# calculate RVs for planet c\n",
      "tp = float(df.ix[\"Kepler-36 c\",'T0'])\n",
      "P = float(df.ix[\"Kepler-36 c\",'PER'])\n",
      "e = float(df.ix[\"Kepler-36 c\",'ECC'])\n",
      "om = 0.0 # float(df.ix[\"Kepler-36 c\",'BIGOM'])\n",
      "Marr = [compute_M(t,tp,P) for t in tarr]\n",
      "Earr = np.array([newton(kepler_min, M + sign(sin(1/2.))*e*0.85, args=(e,M)) for M in Marr])\n",
      "farr = compute_f(Earr,e)\n",
      "print farr\n",
      "RVc = compute_rv(K1,farr,om,e)\n",
      "#print tarr.shape, RV.value.shape\n",
      "print RVc.value"
     ],
     "language": "python",
     "metadata": {},
     "outputs": [
      {
       "output_type": "stream",
       "stream": "stdout",
       "text": [
        "[ 0.12833185  0.51526204  0.90219224  1.28912243  1.67605263  2.06298282\n",
        "  2.44991301  2.83684321 -3.0594119  -2.67248171 -2.28555152 -1.89862132\n",
        " -1.51169113 -1.12476093 -0.73783074 -0.35090054  0.03602965  0.42295984\n",
        "  0.80989004  1.19682023  1.58375043  1.97068062  2.35761082  2.74454101\n",
        "  3.1314712  -2.76478391 -2.37785371 -1.99092352 -1.60399333 -1.21706313\n",
        " -0.83013294]\n",
        "[ 1.12579579  0.98774904  0.70365729  0.3155253  -0.11925911 -0.53641031\n",
        " -0.87424981 -1.08282589 -1.13129924 -1.01250277 -0.7440013  -0.36549447\n",
        "  0.06705304  0.48968634  0.83991638  1.06595942  1.13439354  1.03510033\n",
        "  0.78276092  0.41468531 -0.01470418 -0.44191956 -0.80379431 -1.04682293\n",
        " -1.13507209 -1.05549359 -0.81985362 -0.46299305 -0.037676    0.39321169\n",
        "  0.76596052]\n"
       ]
      }
     ],
     "prompt_number": 296
    },
    {
     "cell_type": "code",
     "collapsed": false,
     "input": [
      "# plot the rvs\n",
      "%pylab inline\n",
      "#%matplotlib osx\n",
      "fig = plt.figure()\n",
      "ax = fig.add_subplot(111)\n",
      "ax.plot(arange(1,32,1),RVb.value, label=\"Kepler-36 b\", alpha=0.5)\n",
      "ax.plot(arange(1,32,1),RVc.value, label=\"Kepler-36 c\", alpha=0.5)\n",
      "ax.plot(arange(1,32,1),(RVb.value + RVc.value), label=\"Total RV\", linewidth=2)\n",
      "#ax.plot(model['phase'],model['v'], '--r', label='Model', alpha=0.5)\n",
      "ax.set_xlabel('Date in July at Midgnight (HI)', fontsize=16)\n",
      "ax.set_ylabel('RV (m/s)', fontsize=16)\n",
      "#ax.errorbar(means.tbin,means.vbin, yerr=means.ebin, fmt='o', elinewidth=2, color='blue', capsize=0, label='Binned', markersize=10)\n",
      "ax.legend(numpoints=1,loc='lower right')\n",
      "fig.show()"
     ],
     "language": "python",
     "metadata": {},
     "outputs": [
      {
       "output_type": "stream",
       "stream": "stdout",
       "text": [
        "Populating the interactive namespace from numpy and matplotlib\n"
       ]
      },
      {
       "output_type": "stream",
       "stream": "stderr",
       "text": [
        "WARNING: pylab import has clobbered these variables: ['e']\n",
        "`%pylab --no-import-all` prevents importing * from pylab and numpy\n"
       ]
      },
      {
       "metadata": {},
       "output_type": "display_data",
       "png": "[encoded data removed]",
       "text": [
        "<matplotlib.figure.Figure at 0x10e000a10>"
       ]
      }
     ],
     "prompt_number": 297
    },
    {
     "cell_type": "code",
     "collapsed": false,
     "input": [
      "pd.np.array(df.ix[df.NAME==\"Kepler-36 b\",['MSTAR','MASS','PER','ERR','I']])"
     ],
     "language": "python",
     "metadata": {},
     "outputs": [
      {
       "metadata": {},
       "output_type": "pyout",
       "prompt_number": 118,
       "text": [
        "array([['1.071', '4.461477809581199', '13.83989', nan, '89.52']], dtype=object)"
       ]
      }
     ],
     "prompt_number": 118
    },
    {
     "cell_type": "code",
     "collapsed": false,
     "input": [
      "a = pd.np.array(row)"
     ],
     "language": "python",
     "metadata": {},
     "outputs": [],
     "prompt_number": 116
    },
    {
     "cell_type": "code",
     "collapsed": false,
     "input": [
      "pd.list(df.ix[df.NAME==\"Kepler-36 b\",['MSTAR','MASS','PER','ECC','I']])"
     ],
     "language": "python",
     "metadata": {},
     "outputs": [
      {
       "ename": "AttributeError",
       "evalue": "'module' object has no attribute 'list'",
       "output_type": "pyerr",
       "traceback": [
        "\u001b[0;31m---------------------------------------------------------------------------\u001b[0m\n\u001b[0;31mAttributeError\u001b[0m                            Traceback (most recent call last)",
        "\u001b[0;32m<ipython-input-136-f3b8c7d3a433>\u001b[0m in \u001b[0;36m<module>\u001b[0;34m()\u001b[0m\n\u001b[0;32m----> 1\u001b[0;31m \u001b[0mpd\u001b[0m\u001b[0;34m.\u001b[0m\u001b[0mlist\u001b[0m\u001b[0;34m(\u001b[0m\u001b[0mdf\u001b[0m\u001b[0;34m.\u001b[0m\u001b[0mix\u001b[0m\u001b[0;34m[\u001b[0m\u001b[0mdf\u001b[0m\u001b[0;34m.\u001b[0m\u001b[0mNAME\u001b[0m\u001b[0;34m==\u001b[0m\u001b[0;34m\"Kepler-36 b\"\u001b[0m\u001b[0;34m,\u001b[0m\u001b[0;34m[\u001b[0m\u001b[0;34m'MSTAR'\u001b[0m\u001b[0;34m,\u001b[0m\u001b[0;34m'MASS'\u001b[0m\u001b[0;34m,\u001b[0m\u001b[0;34m'PER'\u001b[0m\u001b[0;34m,\u001b[0m\u001b[0;34m'ECC'\u001b[0m\u001b[0;34m,\u001b[0m\u001b[0;34m'I'\u001b[0m\u001b[0;34m]\u001b[0m\u001b[0;34m]\u001b[0m\u001b[0;34m)\u001b[0m\u001b[0;34m\u001b[0m\u001b[0m\n\u001b[0m",
        "\u001b[0;31mAttributeError\u001b[0m: 'module' object has no attribute 'list'"
       ]
      },
      {
       "output_type": "stream",
       "stream": "stdout",
       "text": [
        "ERROR: AttributeError: 'module' object has no attribute 'list' [IPython.core.interactiveshell]\n"
       ]
      }
     ],
     "prompt_number": 136
    },
    {
     "cell_type": "code",
     "collapsed": false,
     "input": [
      "a.ravel()"
     ],
     "language": "python",
     "metadata": {},
     "outputs": [
      {
       "metadata": {},
       "output_type": "pyout",
       "prompt_number": 142,
       "text": [
        "array(['1.071', '4.461477809581199', '13.83989', nan, '89.52'], dtype=object)"
       ]
      },
      {
       "output_type": "stream",
       "stream": "stdout",
       "text": [
        "\n"
       ]
      }
     ],
     "prompt_number": 142
    },
    {
     "cell_type": "code",
     "collapsed": false,
     "input": [
      "times = ['1999-01-01 00:00:00.123456789', '2010-01-01 00:00:00']\n",
      "t = Time(times, format='iso', scale='utc')"
     ],
     "language": "python",
     "metadata": {},
     "outputs": [],
     "prompt_number": 201
    },
    {
     "cell_type": "code",
     "collapsed": false,
     "input": [
      "print arange(1,32,1)"
     ],
     "language": "python",
     "metadata": {},
     "outputs": [
      {
       "output_type": "stream",
       "stream": "stdout",
       "text": [
        "[ 1  2  3  4  5  6  7  8  9 10 11 12 13 14 15 16 17 18 19 20 21 22 23 24 25\n",
        " 26 27 28 29 30 31]\n"
       ]
      }
     ],
     "prompt_number": 258
    },
    {
     "cell_type": "code",
     "collapsed": false,
     "input": [],
     "language": "python",
     "metadata": {},
     "outputs": []
    }
   ],
   "metadata": {}
  }
 ]
}