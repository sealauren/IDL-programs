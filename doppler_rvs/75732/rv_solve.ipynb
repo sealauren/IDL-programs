{
 "metadata": {
  "name": ""
 },
 "nbformat": 3,
 "nbformat_minor": 0,
 "worksheets": [
  {
   "cells": [
    {
     "cell_type": "code",
     "collapsed": false,
     "input": [
      "# import libraries\n",
      "%pylab inline\n",
      "from numpy import sin, cos, tan, pi, arctan, arange, floor, sign\n",
      "import astropy.constants as const\n",
      "from astropy import units\n",
      "from scipy.optimize import newton, leastsq"
     ],
     "language": "python",
     "metadata": {},
     "outputs": [
      {
       "output_type": "stream",
       "stream": "stdout",
       "text": [
        "Populating the interactive namespace from numpy and matplotlib\n"
       ]
      }
     ],
     "prompt_number": 1
    },
    {
     "cell_type": "code",
     "collapsed": false,
     "input": [
      "# use cgs units\n",
      "mearth = const.M_earth.cgs\n",
      "msun = const.M_sun.cgs\n",
      "mjup = 317.83 * mearth\n",
      "G = const.G.cgs\n",
      "c = const.c.cgs\n",
      "print mearth, msun, G, c"
     ],
     "language": "python",
     "metadata": {},
     "outputs": [
      {
       "output_type": "stream",
       "stream": "stdout",
       "text": [
        "5.9742e+27 g 1.9891e+33 g 6.67384e-08 cm3 / (g s2) 29979245800.0 cm / s\n"
       ]
      }
     ],
     "prompt_number": 2
    },
    {
     "cell_type": "code",
     "collapsed": false,
     "input": [
      "# the rv equation\n",
      "def compute_rv(K,f,om,e,gamma=0,dvdt=0,curve=0,t=0):\n",
      "    '''Compute the RV given K (m/s), f, om, e, [gamma (m/s), dvdt (m/s), curve (m/s),t=0]'''\n",
      "    assert K >=0.\n",
      "    assert e >=0.\n",
      "    assert e <=1.\n",
      "    return K*(cos(f+om)+e*cos(om))#+gamma * units.m / units.s +dvdt*(t-14000)+curv*(t-14000)^2  #Default epoch for planet seaarch epoch"
     ],
     "language": "python",
     "metadata": {},
     "outputs": [],
     "prompt_number": 3
    },
    {
     "cell_type": "code",
     "collapsed": false,
     "input": [
      "# define K\n",
      "def compute_K(m1,m2,P,e,i):\n",
      "    ''' Compute K for m1 in solar masses, m2 in Earth masses, P in days, eccentricity, i in degrees'''\n",
      "    assert e>=0.\n",
      "    assert e<=1.\n",
      "    assert P>=0.\n",
      "    assert m1>=0.\n",
      "    assert m2>=0.\n",
      "#   from Seager Exoplanets, Ch.2:\n",
      "    from numpy import pi\n",
      "    return 28.4329 / pow(1-e**2., 1/2) * m2*mearth/mjup * sin(i*pi/180.) * pow((m1 + m2*mearth/msun),-2/3.) * pow(P/365.25,-1/3.) * units.m / units.s"
     ],
     "language": "python",
     "metadata": {},
     "outputs": [],
     "prompt_number": 4
    },
    {
     "cell_type": "code",
     "collapsed": false,
     "input": [
      "# check that we get 12 m/s for Jupiter\n",
      "compute_K(1.0,317.83,11.*365.25,0.,90.)"
     ],
     "language": "python",
     "metadata": {},
     "outputs": [
      {
       "latex": [
        "$12.7766 \\; \\mathrm{\\frac{m}{s}}$"
       ],
       "metadata": {},
       "output_type": "pyout",
       "prompt_number": 5,
       "text": [
        "<Quantity 12.776562140361705 m / s>"
       ]
      }
     ],
     "prompt_number": 5
    },
    {
     "cell_type": "code",
     "collapsed": false,
     "input": [
      "# define mean anomaly\n",
      "def compute_M(t,tp,P):\n",
      "    '''Compute mean anomaly M'''\n",
      "    return 2*pi*(((t-tp)/P) - floor((t-tp)/P))\n",
      "\n",
      "# kepler's equation, two ways\n",
      "kepler = lambda E1, e: E1 - e * sin(E1)\n",
      "kepler_min = lambda E1, e, M : M - kepler(E1, e) # minimize this to solve Kepler's Equation the easy way\n",
      "F = lambda E1, e, M: E1 - e*sin(E1) - M \n",
      "F1 = lambda E1, e: 1 - e * cos(E1)\n",
      "F2 = lambda E1, e: e * sin(E1) \n",
      "F3 = lambda E1, e: e * cos(E1)\n",
      "d1 = lambda E1, e, M: -F(E1, e, M)/F1(E1, e)\n",
      "d2 = lambda E1, e, M: -F(E1, e, M)/(F1(E1, e) + 1/2. * d1(E1, e, M) * F2(E1, e))\n",
      "d3 = lambda E1, e, M: -F(E1, e, M)/(F1(E1, e) + 1/2. * d2(E1, e, M) * F2(E1, e) + 1/6. * (d2(E1, e, M))**2. * F3(E1, e))\n",
      "Danby_min = lambda E1, e, M: d3(E1, e, M) # minimize this for Danby 1988 method for faster convergence\n",
      "\n",
      "# define eccentric anomaly\n",
      "def compute_f(E, e):\n",
      "    '''Compute true anomaly f'''\n",
      "    n1 = 1. + e\n",
      "    n2 = 1. - e\n",
      "    return 2.*arctan(pow((n1/n2),1/2.)*tan(E/2))"
     ],
     "language": "python",
     "metadata": {},
     "outputs": [],
     "prompt_number": 6
    },
    {
     "cell_type": "code",
     "collapsed": false,
     "input": [
      "M = 1/2.\n",
      "e = 0.3\n",
      "kepler(1.0, e)\n",
      "print \"M:\", M"
     ],
     "language": "python",
     "metadata": {},
     "outputs": [
      {
       "output_type": "stream",
       "stream": "stdout",
       "text": [
        "M: 0.5\n"
       ]
      }
     ],
     "prompt_number": 7
    },
    {
     "cell_type": "code",
     "collapsed": false,
     "input": [
      "E = newton(kepler_min, 1.0, args=(e,M), tol=1e-5) # check if precision is good enough\n",
      "print \"E:\", E\n",
      "print \"Solution:\", kepler(E,e)\n",
      "print \"Difference:\",M-kepler(E,e)"
     ],
     "language": "python",
     "metadata": {},
     "outputs": [
      {
       "output_type": "stream",
       "stream": "stdout",
       "text": [
        "E: 0.691250289656\n",
        "Solution: 0.500000000048\n",
        "Difference: -4.78584949448e-11\n"
       ]
      }
     ],
     "prompt_number": 8
    },
    {
     "cell_type": "code",
     "collapsed": false,
     "input": [
      "%timeit newton(kepler_min, 1.0, args=(e,M), tol=1e-5)"
     ],
     "language": "python",
     "metadata": {},
     "outputs": [
      {
       "output_type": "stream",
       "stream": "stdout",
       "text": [
        "10000 loops, best of 3: 45.3 \u00b5s per loop\n"
       ]
      }
     ],
     "prompt_number": 9
    },
    {
     "cell_type": "code",
     "collapsed": false,
     "input": [
      "%timeit newton(kepler_min, 1.0, args=(e,M), tol=1e-8)"
     ],
     "language": "python",
     "metadata": {},
     "outputs": [
      {
       "output_type": "stream",
       "stream": "stdout",
       "text": [
        "10000 loops, best of 3: 51.2 \u00b5s per loop\n"
       ]
      }
     ],
     "prompt_number": 10
    },
    {
     "cell_type": "code",
     "collapsed": false,
     "input": [
      "# compare speed of regular Newton method to Danby 1988 method\n",
      "%timeit newton(Danby_min, 1/2. + sign(sin(1/2.))*e*0.85, args=(e,1/2.))"
     ],
     "language": "python",
     "metadata": {},
     "outputs": [
      {
       "output_type": "stream",
       "stream": "stdout",
       "text": [
        "1000 loops, best of 3: 380 \u00b5s per loop\n"
       ]
      }
     ],
     "prompt_number": 15
    },
    {
     "cell_type": "code",
     "collapsed": false,
     "input": [
      "#test case: Jupiter!\n",
      "m1=1.0; m2=317.83; P=4332.589; e=0.0489; i=pi/180.*(90 - 1.304); om=0.0\n",
      "K = compute_K(m1,m2,P,e,i)\n",
      "t = arange(0,10000, 5.5)\n",
      "print type(t)\n",
      "tp = 40.\n",
      "print \"K:\", K"
     ],
     "language": "python",
     "metadata": {},
     "outputs": [
      {
       "output_type": "stream",
       "stream": "stdout",
       "text": [
        "<type 'numpy.ndarray'>\n",
        "K: 0.336587833594 m / s\n"
       ]
      }
     ],
     "prompt_number": 11
    },
    {
     "cell_type": "code",
     "collapsed": false,
     "input": [
      "# compute all the anomalies and check for sensible values\n",
      "Marr = compute_M(t,tp,P)\n",
      "print \"M values between\",min(Marr), \"and\", max(Marr)\n",
      "Earr = np.array([newton(kepler_min, M + sign(sin(1/2.))*e*0.85, args=(e,M)) for M in Marr])\n",
      "print \"E values between\",min(Earr), \"and\", max(Earr)\n",
      "farr = compute_f(Earr,e)\n",
      "print \"f values between\",min(farr), max(farr)"
     ],
     "language": "python",
     "metadata": {},
     "outputs": [
      {
       "output_type": "stream",
       "stream": "stdout",
       "text": [
        "M values between 0.00191718415388 and 6.28305623805\n",
        "E values between"
       ]
      },
      {
       "output_type": "stream",
       "stream": "stdout",
       "text": [
        " 0.00201575448127 and 6.28304960207\n",
        "f values between -3.14078098746 3.14054663778\n"
       ]
      }
     ],
     "prompt_number": 12
    },
    {
     "cell_type": "code",
     "collapsed": false,
     "input": [
      "rv = compute_rv(K,farr,om,e)"
     ],
     "language": "python",
     "metadata": {},
     "outputs": [],
     "prompt_number": 13
    },
    {
     "cell_type": "code",
     "collapsed": false,
     "input": [
      "# plot the rvs\n",
      "#%matplotlib osx\n",
      "fig = plt.figure()\n",
      "ax = fig.add_subplot(111)\n",
      "ax.plot(t,rv.value, label=\"Jupiter\")\n",
      "#ax.plot(model['phase'],model['v'], '--r', label='Model', alpha=0.5)\n",
      "ax.set_xlabel('Time (days)', fontsize=16)\n",
      "ax.set_ylabel('RV (m/s)', fontsize=16)\n",
      "#ax.errorbar(means.tbin,means.vbin, yerr=means.ebin, fmt='o', elinewidth=2, color='blue', capsize=0, label='Binned', markersize=10)\n",
      "ax.legend(numpoints=1,loc='lower right')\n",
      "fig.show()"
     ],
     "language": "python",
     "metadata": {},
     "outputs": [
      {
       "output_type": "stream",
       "stream": "stderr",
       "text": [
        "/Users/lweiss/Library/Enthought/Canopy_64bit/User/lib/python2.7/site-packages/matplotlib/figure.py:371: UserWarning: matplotlib is currently using a non-GUI backend, so cannot show the figure\n",
        "  \"matplotlib is currently using a non-GUI backend, \"\n"
       ]
      },
      {
       "metadata": {},
       "output_type": "display_data",
       "png": "[encoded data removed]",
       "text": [
        "<matplotlib.figure.Figure at 0x10d147b90>"
       ]
      }
     ],
     "prompt_number": 14
    },
    {
     "cell_type": "code",
     "collapsed": false,
     "input": [
      "type(t)"
     ],
     "language": "python",
     "metadata": {},
     "outputs": [
      {
       "metadata": {},
       "output_type": "pyout",
       "prompt_number": 15,
       "text": [
        "numpy.ndarray"
       ]
      }
     ],
     "prompt_number": 15
    },
    {
     "cell_type": "code",
     "collapsed": false,
     "input": [
      "units.Unit"
     ],
     "language": "python",
     "metadata": {},
     "outputs": [
      {
       "metadata": {},
       "output_type": "pyout",
       "prompt_number": 16,
       "text": [
        "astropy.units.core.Unit"
       ]
      }
     ],
     "prompt_number": 16
    },
    {
     "cell_type": "code",
     "collapsed": false,
     "input": [
      "rv.value"
     ],
     "language": "python",
     "metadata": {},
     "outputs": [
      {
       "metadata": {},
       "output_type": "pyout",
       "prompt_number": 17,
       "text": [
        "array([ 0.35235689,  0.35253356,  0.35268417, ..., -0.10887596,\n",
        "       -0.11128169, -0.11367812])"
       ]
      }
     ],
     "prompt_number": 17
    },
    {
     "cell_type": "code",
     "collapsed": false,
     "input": [
      "'''The problem can now be divided into two parts: an algorithmic search through parameter space for the best-fit nonlinear parameters Pj, ej, and tp,j with a computer routine such as an LM or an MCMC code, and at each step in that search an analytic solution for the linear parameters that fit best there.'''"
     ],
     "language": "python",
     "metadata": {},
     "outputs": [
      {
       "metadata": {},
       "output_type": "pyout",
       "prompt_number": 18,
       "text": [
        "'The problem can now be divided into two parts: an algorithmic search through parameter space for the best-fit nonlinear parameters Pj, ej, and tp,j with a computer routine such as an LM or an MCMC code, and at each step in that search an analytic solution for the linear parameters that fit best there.'"
       ]
      }
     ],
     "prompt_number": 18
    },
    {
     "cell_type": "code",
     "collapsed": false,
     "input": [
      "import pandas as pd\n",
      "df = pd.read_csv('/Users/lweiss/Dropbox/research/orbits.txt', index_col='NAME')\n",
      "df.columns"
     ],
     "language": "python",
     "metadata": {},
     "outputs": [
      {
       "metadata": {},
       "output_type": "pyout",
       "prompt_number": 7,
       "text": [
        "Index([u'COMP', u'KOI', u'MASS', u'R', u'PER', u'ECC', u'I', u'BIGOM', u'OM', u'T0', u'TT', u'K', u'GAMMA', u'DVDT', u'A', u'HD', u'STAR', u'RSTAR', u'MSTAR', u'RHOSTAR', u'TEFF', u'KP', u'LOGG', u'SHK', u'FE', u'V', u'VURL', u'VREF', u'RHK', u'DEC', u'RA', u'BINARY', u'BINARYURL', u'BINARYREF', u'MULT', u'ORBREF', u'ORBURL', u'FIRSTREF', u'FIRSTURL'], dtype=object)"
       ]
      }
     ],
     "prompt_number": 7
    },
    {
     "cell_type": "code",
     "collapsed": false,
     "input": [
      "df.ix[df.STAR=='Kepler-36',['MASS','R','PER','ECC','I','BIGOM','OM','T0','TT','MSTAR','RSTAR','K']]"
     ],
     "language": "python",
     "metadata": {},
     "outputs": [
      {
       "html": [
        "<div style=\"max-height:1000px;max-width:1500px;overflow:auto;\">\n",
        "<table border=\"1\" class=\"dataframe\">\n",
        "  <thead>\n",
        "    <tr style=\"text-align: right;\">\n",
        "      <th></th>\n",
        "      <th>MASS</th>\n",
        "      <th>R</th>\n",
        "      <th>PER</th>\n",
        "      <th>ECC</th>\n",
        "      <th>I</th>\n",
        "      <th>BIGOM</th>\n",
        "      <th>OM</th>\n",
        "      <th>T0</th>\n",
        "      <th>TT</th>\n",
        "      <th>MSTAR</th>\n",
        "      <th>RSTAR</th>\n",
        "      <th>K</th>\n",
        "    </tr>\n",
        "    <tr>\n",
        "      <th>NAME</th>\n",
        "      <th></th>\n",
        "      <th></th>\n",
        "      <th></th>\n",
        "      <th></th>\n",
        "      <th></th>\n",
        "      <th></th>\n",
        "      <th></th>\n",
        "      <th></th>\n",
        "      <th></th>\n",
        "      <th></th>\n",
        "      <th></th>\n",
        "      <th></th>\n",
        "    </tr>\n",
        "  </thead>\n",
        "  <tbody>\n",
        "    <tr>\n",
        "      <th>Kepler-36 b</th>\n",
        "      <td> 4.461477809581199</td>\n",
        "      <td>  1.484674333735752</td>\n",
        "      <td> 13.83989</td>\n",
        "      <td> 0</td>\n",
        "      <td> 89.52</td>\n",
        "      <td> NaN</td>\n",
        "      <td> 90</td>\n",
        "      <td> 2454960.9753</td>\n",
        "      <td> 2454960.9753</td>\n",
        "      <td> 1.071</td>\n",
        "      <td> 1.626</td>\n",
        "      <td> NaN</td>\n",
        "    </tr>\n",
        "    <tr>\n",
        "      <th>Kepler-36 c</th>\n",
        "      <td> 8.100827608717486</td>\n",
        "      <td> 3.6757162151737974</td>\n",
        "      <td> 16.23855</td>\n",
        "      <td> 0</td>\n",
        "      <td> 89.76</td>\n",
        "      <td> NaN</td>\n",
        "      <td> 90</td>\n",
        "      <td> 2454955.9132</td>\n",
        "      <td> 2454955.9132</td>\n",
        "      <td> 1.071</td>\n",
        "      <td> 1.626</td>\n",
        "      <td> NaN</td>\n",
        "    </tr>\n",
        "  </tbody>\n",
        "</table>\n",
        "</div>"
       ],
       "metadata": {},
       "output_type": "pyout",
       "prompt_number": 8,
       "text": [
        "                          MASS                   R       PER  ECC      I  \\\n",
        "NAME                                                                       \n",
        "Kepler-36 b  4.461477809581199   1.484674333735752  13.83989    0  89.52   \n",
        "Kepler-36 c  8.100827608717486  3.6757162151737974  16.23855    0  89.76   \n",
        "\n",
        "            BIGOM  OM            T0            TT  MSTAR  RSTAR    K  \n",
        "NAME                                                                  \n",
        "Kepler-36 b   NaN  90  2454960.9753  2454960.9753  1.071  1.626  NaN  \n",
        "Kepler-36 c   NaN  90  2454955.9132  2454955.9132  1.071  1.626  NaN  "
       ]
      }
     ],
     "prompt_number": 8
    },
    {
     "cell_type": "code",
     "collapsed": false,
     "input": [
      "#CFOP values\n",
      "# Kepler-36 b\n",
      "#print \"Predict Kepler-36 b: K = \", compute_K(1.071,4.461478,13.83989,0,85.37)\n",
      "# Kepler-36 c\n",
      "#print \"Predict Kepler-36 c: K = \", compute_K(1.071,8.100828, 16.23855, 0, 86.52)\n",
      "# Carter 2012 values\n",
      "# Kepler-36 b\n",
      "pars1 = [float(p) for p in pd.np.array(df.ix[\"Kepler-36 b\",['MSTAR','MASS','PER','ECC','I']]).T.ravel()]\n",
      "K1 = compute_K(pars1[0], pars1[1], pars1[2], pars1[3], pars1[4])\n",
      "df['Kepler-36 b','K'] = K1\n",
      "# Kepler-36 c\n",
      "pars2 = [float(p) for p in pd.np.array(df.ix[\"Kepler-36 c\",['MSTAR','MASS','PER','ECC','I']]).T.ravel()]\n",
      "K2 = compute_K(pars2[0], pars2[1], pars2[2], pars2[3], pars2[4])\n",
      "df['Kepler-36 c','K']=K2\n",
      "df.ix[['Kepler-36 b','Kepler-36 c'],'K']\n",
      "K1,K2"
     ],
     "language": "python",
     "metadata": {},
     "outputs": [
      {
       "metadata": {},
       "output_type": "pyout",
       "prompt_number": 168,
       "text": [
        "(<Quantity 1.135130236875102 m / s>, <Quantity 1.9541892406413734 m / s>)"
       ]
      }
     ],
     "prompt_number": 168
    },
    {
     "cell_type": "code",
     "collapsed": false,
     "input": [
      "print \"Predict 262 b: K = \", compute_K(1.26,2.69*(2.2)**0.93,7.812512,0,82.51)\n",
      "print \"Predict 262 c: K = \", compute_K(1.26,2.69*(2.79)**0.93,9.376137,0,82.51)"
     ],
     "language": "python",
     "metadata": {},
     "outputs": [
      {
       "output_type": "stream",
       "stream": "stdout",
       "text": [
        "Predict 262 b: K =  1.53388380484 m / s\n",
        "Predict 262 c: K =  1.80027661403 m / s\n"
       ]
      }
     ],
     "prompt_number": 10
    },
    {
     "cell_type": "code",
     "collapsed": false,
     "input": [
      "# Make time array\n",
      "import datetime\n",
      "from astropy.time import Time\n",
      "dtimes = []\n",
      "#for y in [2014, 2015]:\n",
      "for m in [7,8]: #loop over July and August\n",
      "    for d in arange(1,32,1): # observe every night\n",
      "        for h in [7,12]:\n",
      "            dtimes.append(str(datetime.datetime(2014, m, d, h)))\n",
      "#print dtimes\n",
      "# convert t to JD\n",
      "tarr = np.array(Time(dtimes,format='iso',scale='utc').jd)\n",
      "tdisplay = tarr - 2456000\n",
      "tarr.shape"
     ],
     "language": "python",
     "metadata": {},
     "outputs": [
      {
       "metadata": {},
       "output_type": "pyout",
       "prompt_number": 256,
       "text": [
        "(124,)"
       ]
      }
     ],
     "prompt_number": 256
    },
    {
     "cell_type": "code",
     "collapsed": false,
     "input": [
      "# calculate RVs for planet b\n",
      "tp = float(df.ix[\"Kepler-36 b\",'T0'])\n",
      "P = float(df.ix[\"Kepler-36 b\",'PER'])\n",
      "e = float(df.ix[\"Kepler-36 b\",'ECC'])\n",
      "om = 0.0 # float(df.ix[\"Kepler-36 b\",'BIGOM'])\n",
      "Marr = [compute_M(t,tp,P) for t in tarr]\n",
      "Earr = np.array([newton(kepler_min, M + sign(sin(1/2.))*e*0.85, args=(e,M)) for M in Marr])\n",
      "farr = compute_f(Earr,e)\n",
      "#print farr\n",
      "RVb = compute_rv(K1,farr,om,e)\n",
      "print tarr.shape, RVb.value.shape\n",
      "#print RVb.value"
     ],
     "language": "python",
     "metadata": {},
     "outputs": [
      {
       "output_type": "stream",
       "stream": "stdout",
       "text": [
        "(124,) (124,)\n"
       ]
      }
     ],
     "prompt_number": 257
    },
    {
     "cell_type": "code",
     "collapsed": false,
     "input": [
      "# calculate RVs for planet c\n",
      "tp = float(df.ix[\"Kepler-36 c\",'T0'])\n",
      "P = float(df.ix[\"Kepler-36 c\",'PER'])\n",
      "e = float(df.ix[\"Kepler-36 c\",'ECC'])\n",
      "om = 0.0 # float(df.ix[\"Kepler-36 c\",'BIGOM'])\n",
      "Marr = [compute_M(t,tp,P) for t in tarr]\n",
      "Earr = np.array([newton(kepler_min, M + sign(sin(1/2.))*e*0.85, args=(e,M)) for M in Marr])\n",
      "farr = compute_f(Earr,e)\n",
      "#print farr\n",
      "RVc = compute_rv(K2,farr,om,e)\n",
      "print tarr.shape, RVc.value.shape\n",
      "#print RVc.value"
     ],
     "language": "python",
     "metadata": {},
     "outputs": [
      {
       "output_type": "stream",
       "stream": "stdout",
       "text": [
        "(124,) (124,)\n"
       ]
      }
     ],
     "prompt_number": 258
    },
    {
     "cell_type": "code",
     "collapsed": false,
     "input": [
      "RV = RVb + RVc\n",
      "def add_noise(RV, noise):\n",
      "    noise = np.random.normal(0, noise, len(RV))\n",
      "    return RV.value+ noise\n",
      "noise = 4.0\n",
      "RVobs = add_noise(RV, noise)"
     ],
     "language": "python",
     "metadata": {},
     "outputs": [],
     "prompt_number": 267
    },
    {
     "cell_type": "code",
     "collapsed": false,
     "input": [
      "# plot the rvs\n",
      "#%pylab inline\n",
      "%matplotlib osx\n",
      "fig = plt.figure()\n",
      "ax = fig.add_subplot(111)\n",
      "ax.plot(tdisplay,RVb.value, label=\"Kepler-36 b\", alpha=0.5)\n",
      "ax.plot(tdisplay,RVc.value, label=\"Kepler-36 c\", alpha=0.5)\n",
      "ax.plot(tdisplay,RV.value, label=\"Total RV\", linewidth=2)\n",
      "ax.scatter(tdisplay,RVobs, label=(\"Noisy RV (%d m/s)\" % noise), color='k')\n",
      "#ax.plot(model['phase'],model['v'], '--r', label='Model', alpha=0.5)\n",
      "ax.set_xlabel('JD - 2456000', fontsize=16)\n",
      "ax.set_ylabel('RV (m/s)', fontsize=16)\n",
      "fig.suptitle('July and August 2014, 2x/night', fontsize=16)\n",
      "#pylab.axis([min(tdisplay), max(tdisplay),min(RVobs)-1, max(RVobs)+1])\n",
      "pylab.axis([min(tdisplay), 900 ,min(RVobs)-1, max(RVobs)+1])\n",
      "#ax.errorbar(means.tbin,means.vbin, yerr=means.ebin, fmt='o', elinewidth=2, color='blue', capsize=0, label='Binned', markersize=10)\n",
      "ax.legend(numpoints=1,loc='lower right')\n",
      "fig.show()"
     ],
     "language": "python",
     "metadata": {},
     "outputs": [],
     "prompt_number": 268
    },
    {
     "cell_type": "code",
     "collapsed": false,
     "input": [
      "# define signal as sum of two cosine waves (not sure why cosine and not sine)\n",
      "signal = lambda A, P1, P2, t, tt1, tt2: A[0] * cos(compute_M(t,tt1,P1)) + A[1] * cos(compute_M(t,tt2,P2))\n",
      "signal_min = lambda A, RVobs, P1, P2, t, tt1, tt2 : RVobs - signal(A, P1, P2, t, tt1, tt2)"
     ],
     "language": "python",
     "metadata": {},
     "outputs": [],
     "prompt_number": 269
    },
    {
     "cell_type": "code",
     "collapsed": false,
     "input": [
      "# define some variables\n",
      "tt1 = float(df.ix[\"Kepler-36 b\",'TT'])\n",
      "P1 = float(df.ix[\"Kepler-36 b\",'PER'])\n",
      "tt2 = float(df.ix[\"Kepler-36 c\",'TT'])\n",
      "P2 = float(df.ix[\"Kepler-36 c\",'PER'])\n",
      "\n",
      "# find the best fit to noisy data\n",
      "def fit_rvobs(K1, K2, RVobs, P1, P2, tarr, tt1, tt2):\n",
      "    Kbest, success = leastsq(signal_min, np.array([K1.value, K2.value]), args=(RVobs, P1, P2, tarr, tt1, tt2))\n",
      "    return Kbest\n",
      "\n",
      "RVobs = add_noise(RV, noise)\n",
      "Kbest = fit_rvobs(K1, K2, RVobs, P1, P2, tarr, tt1, tt2)\n",
      "print \"Best fit:\", Kbest[0], \"m/s\", Kbest[1], \"m/s\"\n",
      "print \"Right answer:\", K1, K2\n",
      "model = signal(Kbest, P1, P2, tarr, tt1, tt2)\n",
      "resid = RVobs - model\n",
      "print \"Std. Deviation:\", np.std(resid)\n",
      "\n",
      "# now repeat 1000 times and store best fits\n",
      "def pbs_fit_rvobs(K1, K2, RV, P1, P2, tarr, tt1, tt2, noise):\n",
      "    Ksols = []\n",
      "    for x in xrange(1000):\n",
      "        RVobs = add_noise(RV, noise)\n",
      "        Ksols.append(fit_rvobs(K1, K2, RVobs, P1, P2, tarr, tt1, tt2))\n",
      "    return np.array(Ksols)\n",
      "\n",
      "Ksols = pbs_fit_rvobs(K1, K2, RV, P1, P2, tarr, tt1, tt2, noise)"
     ],
     "language": "python",
     "metadata": {},
     "outputs": [
      {
       "output_type": "stream",
       "stream": "stdout",
       "text": [
        "Best fit: 1.49183345197 m/s 2.48542555878 m/s\n",
        "Right answer: 1.13513023688 m / s 1.95418924064 m / s\n",
        "Std. Deviation: 3.88439538525\n"
       ]
      }
     ],
     "prompt_number": 270
    },
    {
     "cell_type": "code",
     "collapsed": false,
     "input": [
      "for noise in [2.0, 3.0, 4.0, 5.0]:\n",
      "    Ksols = pbs_fit_rvobs(K1, K2, RV, P1, P2, tarr, tt1, tt2, noise)\n",
      "    Row = np.array([np.mean(Ksols, axis=0), np.std(Ksols, axis=0), np.mean(Ksols, axis=0)/np.std(Ksols, axis=0)]).ravel()\n",
      "    print noise, Row"
     ],
     "language": "python",
     "metadata": {},
     "outputs": [
      {
       "output_type": "stream",
       "stream": "stdout",
       "text": [
        "2.0 [ 1.13283469  1.964919    0.2866226   0.28657075  3.95235644  6.85666275]\n",
        "3.0"
       ]
      },
      {
       "output_type": "stream",
       "stream": "stdout",
       "text": [
        " [ 1.13072105  1.95801364  0.43062805  0.42406375  2.62574873  4.61726249]\n",
        "4.0"
       ]
      },
      {
       "output_type": "stream",
       "stream": "stdout",
       "text": [
        " [ 1.11980376  1.96475997  0.55125487  0.54078625  2.0313721   3.63315443]\n",
        "5.0"
       ]
      },
      {
       "output_type": "stream",
       "stream": "stdout",
       "text": [
        " [ 1.14932617  1.96168043  0.69278682  0.71099874  1.65898965  2.75904908]\n"
       ]
      }
     ],
     "prompt_number": 242
    },
    {
     "cell_type": "code",
     "collapsed": false,
     "input": [
      "# plot the best fit and the true values\n",
      "#%pylab inline\n",
      "%matplotlib osx\n",
      "fig = plt.figure()\n",
      "ax1 = fig.add_subplot(211)\n",
      "ax1.plot(tdisplay,model, label=\"Kepler-36 Best Fit\")\n",
      "ax1.plot(tdisplay,RV.value, label=\"Kepler-36 true\", color='r')\n",
      "ax1.scatter(tdisplay,RVobs, label=(\"Noisy RV (%d m/s)\" %noise), color='k')\n",
      "ax1.legend()\n",
      "ax2 = fig.add_subplot(212)\n",
      "ax2.scatter(tdisplay, RVobs - model, label=\"Residual\", color='k')\n",
      "ax2.plot(tdisplay, RV.value - model, label=\"True - Best Fit\", color='r')\n",
      "ax2.legend()\n",
      "ax1.set_xlim(min(tdisplay), 900)\n",
      "ax2.set_xlim(min(tdisplay), 900)\n",
      "ax2.set_xlabel('JD - 2456000', fontsize=16)\n",
      "ax1.set_ylabel('RV (m/s)', fontsize=16)\n",
      "ax2.set_ylabel('RV (m/s)', fontsize=16)\n",
      "fig.suptitle('July and August, 2 obs/night', fontsize=16)\n",
      "plt.show()"
     ],
     "language": "python",
     "metadata": {},
     "outputs": [],
     "prompt_number": 266
    },
    {
     "cell_type": "code",
     "collapsed": false,
     "input": [],
     "language": "python",
     "metadata": {},
     "outputs": [
      {
       "metadata": {},
       "output_type": "pyout",
       "prompt_number": 142,
       "text": [
        "array(['1.071', '4.461477809581199', '13.83989', nan, '89.52'], dtype=object)"
       ]
      },
      {
       "output_type": "stream",
       "stream": "stdout",
       "text": [
        "\n"
       ]
      }
     ],
     "prompt_number": 142
    },
    {
     "cell_type": "code",
     "collapsed": false,
     "input": [],
     "language": "python",
     "metadata": {},
     "outputs": [],
     "prompt_number": 201
    },
    {
     "cell_type": "code",
     "collapsed": false,
     "input": [
      "df.columns"
     ],
     "language": "python",
     "metadata": {},
     "outputs": [
      {
       "metadata": {},
       "output_type": "pyout",
       "prompt_number": 273,
       "text": [
        "Index([u'COMP', u'KOI', u'MASS', u'R', u'PER', u'ECC', u'I', u'BIGOM', u'OM', u'T0', u'TT', u'K', u'GAMMA', u'DVDT', u'A', u'HD', u'STAR', u'RSTAR', u'MSTAR', u'RHOSTAR', u'TEFF', u'KP', u'LOGG', u'SHK', u'FE', u'V', u'VURL', u'VREF', u'RHK', u'DEC', u'RA', u'BINARY', u'BINARYURL', u'BINARYREF', u'MULT', u'ORBREF', u'ORBURL', u'FIRSTREF', u'FIRSTURL', (u'Kepler-36 b', u'K'), (u'Kepler-36 c', u'K')], dtype=object)"
       ]
      }
     ],
     "prompt_number": 273
    },
    {
     "cell_type": "code",
     "collapsed": false,
     "input": [
      "df.ix['Kepler-36 b','V']"
     ],
     "language": "python",
     "metadata": {},
     "outputs": [
      {
       "metadata": {},
       "output_type": "pyout",
       "prompt_number": 274,
       "text": [
        "11.94"
       ]
      }
     ],
     "prompt_number": 274
    },
    {
     "cell_type": "code",
     "collapsed": false,
     "input": [
      "import sys"
     ],
     "language": "python",
     "metadata": {},
     "outputs": [],
     "prompt_number": 275
    },
    {
     "cell_type": "code",
     "collapsed": false,
     "input": [
      "sys.path.append('/Users/lweiss/Dropbox/research/Keck')\n",
      "from Keck_exp_time_calculator import *"
     ],
     "language": "python",
     "metadata": {},
     "outputs": [],
     "prompt_number": 308
    },
    {
     "cell_type": "code",
     "collapsed": false,
     "input": [
      "exp = exptime([11.94], e=2.5)"
     ],
     "language": "python",
     "metadata": {},
     "outputs": [
      {
       "output_type": "stream",
       "stream": "stdout",
       "text": [
        "Magnitude    Exptime (min) for RV=2.5 m/s error\n",
        "11.94         26.2641394188\n"
       ]
      }
     ],
     "prompt_number": 314
    },
    {
     "cell_type": "code",
     "collapsed": false,
     "input": [
      "if type(11.94) != list: print \"nope\""
     ],
     "language": "python",
     "metadata": {},
     "outputs": [
      {
       "output_type": "stream",
       "stream": "stdout",
       "text": [
        "nope\n"
       ]
      }
     ],
     "prompt_number": 299
    },
    {
     "cell_type": "code",
     "collapsed": false,
     "input": [
      "type(11.94)"
     ],
     "language": "python",
     "metadata": {},
     "outputs": [
      {
       "metadata": {},
       "output_type": "pyout",
       "prompt_number": 307,
       "text": [
        "float"
       ]
      }
     ],
     "prompt_number": 307
    },
    {
     "cell_type": "code",
     "collapsed": false,
     "input": [
      "print 0.5 * 40 /12"
     ],
     "language": "python",
     "metadata": {},
     "outputs": [
      {
       "output_type": "stream",
       "stream": "stdout",
       "text": [
        "1.66666666667\n"
       ]
      }
     ],
     "prompt_number": 315
    },
    {
     "cell_type": "code",
     "collapsed": false,
     "input": [],
     "language": "python",
     "metadata": {},
     "outputs": []
    }
   ],
   "metadata": {}
  }
 ]
}