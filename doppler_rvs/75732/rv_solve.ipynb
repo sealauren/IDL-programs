{
 "metadata": {
  "name": ""
 },
 "nbformat": 3,
 "nbformat_minor": 0,
 "worksheets": [
  {
   "cells": [
    {
     "cell_type": "code",
     "collapsed": false,
     "input": [
      "# import libraries\n",
      "%pylab inline\n",
      "from numpy import sin, cos, tan, pi, arctan, arange, floor, sign\n",
      "import astropy.constants as const\n",
      "from astropy import units\n",
      "from scipy.optimize import newton, leastsq"
     ],
     "language": "python",
     "metadata": {},
     "outputs": [
      {
       "output_type": "stream",
       "stream": "stdout",
       "text": [
        "Populating the interactive namespace from numpy and matplotlib\n"
       ]
      }
     ],
     "prompt_number": 47
    },
    {
     "cell_type": "code",
     "collapsed": false,
     "input": [
      "# use cgs units\n",
      "mearth = const.M_earth.cgs\n",
      "msun = const.M_sun.cgs\n",
      "mjup = 317.83 * mearth\n",
      "G = const.G.cgs\n",
      "c = const.c.cgs\n",
      "print mearth, msun, G, c"
     ],
     "language": "python",
     "metadata": {},
     "outputs": [
      {
       "output_type": "stream",
       "stream": "stdout",
       "text": [
        "5.9742e+27 g 1.9891e+33 g 6.67384e-08 cm3 / (g s2) 29979245800.0 cm / s\n"
       ]
      }
     ],
     "prompt_number": 48
    },
    {
     "cell_type": "code",
     "collapsed": false,
     "input": [
      "# the rv equation\n",
      "def compute_rv(K,f,om,e,gamma=0,dvdt=0,curve=0,t=0):\n",
      "    '''Compute the RV given K (m/s), f, om, e, [gamma (m/s), dvdt (m/s), curve (m/s),t=0]'''\n",
      "    assert K >=0.\n",
      "    assert e >=0.\n",
      "    assert e <=1.\n",
      "    return K*(cos(f+om)+e*cos(om))#+gamma * units.m / units.s +dvdt*(t-14000)+curv*(t-14000)^2  #Default epoch for planet seaarch epoch"
     ],
     "language": "python",
     "metadata": {},
     "outputs": [],
     "prompt_number": 49
    },
    {
     "cell_type": "code",
     "collapsed": false,
     "input": [
      "# define K\n",
      "def compute_K(m1,m2,P,e,i):\n",
      "    ''' Compute K for m1 in solar masses, m2 in Earth masses, P in days, eccentricity, i in degrees'''\n",
      "    assert e>=0.\n",
      "    assert e<=1.\n",
      "    assert P>=0.\n",
      "    assert m1>=0.\n",
      "    assert m2>=0.\n",
      "#   from Seager Exoplanets, Ch.2:\n",
      "    from numpy import pi\n",
      "    return 28.4329 / pow(1-e**2., 1/2) * m2*mearth/mjup * sin(i*pi/180.) * pow((m1 + m2*mearth/msun),-2/3.) * pow(P/365.25,-1/3.) * units.m / units.s"
     ],
     "language": "python",
     "metadata": {},
     "outputs": [],
     "prompt_number": 53
    },
    {
     "cell_type": "code",
     "collapsed": false,
     "input": [
      "# check that we get 12 m/s for Jupiter\n",
      "compute_K(1.0,317.83,11.*365.,0.,90.)"
     ],
     "language": "python",
     "metadata": {},
     "outputs": [
      {
       "latex": [
        "$12.7795 \\; \\mathrm{\\frac{m}{s}}$"
       ],
       "metadata": {},
       "output_type": "pyout",
       "prompt_number": 55,
       "text": [
        "<Quantity 12.779478497947666 m / s>"
       ]
      }
     ],
     "prompt_number": 55
    },
    {
     "cell_type": "code",
     "collapsed": false,
     "input": [
      "# define mean anomaly\n",
      "def compute_M(t,tp,P):\n",
      "    '''Compute mean anomaly M'''\n",
      "    return 2*pi*(((t-tp)/P) - floor((t-tp)/P))\n",
      "\n",
      "# kepler's equation, two ways\n",
      "kepler = lambda E1, e: E1 - e * sin(E1)\n",
      "kepler_min = lambda E1, e, M : M - kepler(E1, e) # minimize this to solve Kepler's Equation the easy way\n",
      "F = lambda E1, e, M: E1 - e*sin(E1) - M \n",
      "F1 = lambda E1, e: 1 - e * cos(E1)\n",
      "F2 = lambda E1, e: e * sin(E1) \n",
      "F3 = lambda E1, e: e * cos(E1)\n",
      "d1 = lambda E1, e, M: -F(E1, e, M)/F1(E1, e)\n",
      "d2 = lambda E1, e, M: -F(E1, e, M)/(F1(E1, e) + 1/2. * d1(E1, e, M) * F2(E1, e))\n",
      "d3 = lambda E1, e, M: -F(E1, e, M)/(F1(E1, e) + 1/2. * d2(E1, e, M) * F2(E1, e) + 1/6. * (d2(E1, e, M))**2. * F3(E1, e))\n",
      "Danby_min = lambda E1, e, M: d3(E1, e, M) # minimize this for Danby 1988 method for faster convergence\n",
      "\n",
      "# define eccentric anomaly\n",
      "def compute_f(E, e):\n",
      "    '''Compute true anomaly f'''\n",
      "    n1 = 1. + e\n",
      "    n2 = 1. - e\n",
      "    return 2.*arctan(pow((n1/n2),1/2.)*tan(E/2))"
     ],
     "language": "python",
     "metadata": {},
     "outputs": [],
     "prompt_number": 80
    },
    {
     "cell_type": "code",
     "collapsed": false,
     "input": [
      "M = 1/2.\n",
      "e = 0.3\n",
      "kepler(1.0, e)\n",
      "print \"M:\", M"
     ],
     "language": "python",
     "metadata": {},
     "outputs": [
      {
       "output_type": "stream",
       "stream": "stdout",
       "text": [
        "M: 0.5\n"
       ]
      }
     ],
     "prompt_number": 119
    },
    {
     "cell_type": "code",
     "collapsed": false,
     "input": [
      "E = newton(kepler_min, 1.0, args=(e,M), tol=1e-5) # check if precision is good enough\n",
      "print \"E:\", E\n",
      "print \"Solution:\", kepler(E,e)\n",
      "print \"Difference:\",M-kepler(E,e)"
     ],
     "language": "python",
     "metadata": {},
     "outputs": [
      {
       "output_type": "stream",
       "stream": "stdout",
       "text": [
        "E: 0.691250289594\n",
        "Solution: 0.5\n",
        "Difference: 0.0\n"
       ]
      }
     ],
     "prompt_number": 122
    },
    {
     "cell_type": "code",
     "collapsed": false,
     "input": [
      "%timeit newton(kepler_min, 1.0, args=(e,M), tol=1e-5)"
     ],
     "language": "python",
     "metadata": {},
     "outputs": [
      {
       "output_type": "stream",
       "stream": "stdout",
       "text": [
        "10000 loops, best of 3: 38.8 \u00b5s per loop\n"
       ]
      }
     ],
     "prompt_number": 131
    },
    {
     "cell_type": "code",
     "collapsed": false,
     "input": [
      "%timeit newton(kepler_min, 1.0, args=(e,M), tol=1e-8)"
     ],
     "language": "python",
     "metadata": {},
     "outputs": [
      {
       "output_type": "stream",
       "stream": "stdout",
       "text": [
        "10000 loops, best of 3: 58 \u00b5s per loop\n"
       ]
      }
     ],
     "prompt_number": 132
    },
    {
     "cell_type": "code",
     "collapsed": false,
     "input": [
      "# compare speed of regular Newton method to Danby 1988 method\n",
      "%timeit newton(Danby_min, 1/2. + sign(sin(1/2.))*e*0.85, args=(e,1/2.))"
     ],
     "language": "python",
     "metadata": {},
     "outputs": [
      {
       "output_type": "stream",
       "stream": "stdout",
       "text": [
        "1000 loops, best of 3: 380 \u00b5s per loop\n"
       ]
      }
     ],
     "prompt_number": 15
    },
    {
     "cell_type": "code",
     "collapsed": false,
     "input": [
      "#test case: Jupiter!\n",
      "m1=1.0; m2=317.83; P=4332.589; e=0.0489; i=pi/180.*(90 - 1.304); om=0.0\n",
      "K = compute_K(m1,m2,P,e,i)\n",
      "t = arange(0,10000, 5.5)\n",
      "tp = 40.\n",
      "print \"K:\", K"
     ],
     "language": "python",
     "metadata": {},
     "outputs": [
      {
       "output_type": "stream",
       "stream": "stdout",
       "text": [
        "K: 12.4235322709 m / s\n"
       ]
      }
     ],
     "prompt_number": 152
    },
    {
     "cell_type": "code",
     "collapsed": false,
     "input": [
      "# compute all the anomalies and check for sensible values\n",
      "Marr = compute_M(t,tp,P)\n",
      "print \"M values between\",min(Marr), \"and\", max(Marr)\n",
      "Earr = np.array([newton(kepler_min, M + sign(sin(1/2.))*e*0.85, args=(e,M)) for M in Marr])\n",
      "print \"E values between\",min(Earr), \"and\", max(Earr)\n",
      "farr = compute_f(Earr,e)\n",
      "print \"f values between\",min(farr), max(farr)"
     ],
     "language": "python",
     "metadata": {},
     "outputs": [
      {
       "output_type": "stream",
       "stream": "stdout",
       "text": [
        "M values between 0.00191718415388 and 6.28305623805\n",
        "E values between"
       ]
      },
      {
       "output_type": "stream",
       "stream": "stdout",
       "text": [
        " 0.00201575448127 and 6.28304960207\n",
        "f values between -3.14078098746 3.14054663778\n"
       ]
      }
     ],
     "prompt_number": 165
    },
    {
     "cell_type": "code",
     "collapsed": false,
     "input": [
      "rv = compute_rv(K,farr,om,e)"
     ],
     "language": "python",
     "metadata": {},
     "outputs": [],
     "prompt_number": 166
    },
    {
     "cell_type": "code",
     "collapsed": false,
     "input": [
      "# plot the rvs\n",
      "#%matplotlib osx\n",
      "fig = plt.figure()\n",
      "ax = fig.add_subplot(111)\n",
      "ax.plot(t,rv.value, label=\"Jupiter\")\n",
      "#ax.plot(model['phase'],model['v'], '--r', label='Model', alpha=0.5)\n",
      "ax.set_xlabel('Time (days)', fontsize=16)\n",
      "ax.set_ylabel('RV (m/s)', fontsize=16)\n",
      "#ax.errorbar(means.tbin,means.vbin, yerr=means.ebin, fmt='o', elinewidth=2, color='blue', capsize=0, label='Binned', markersize=10)\n",
      "ax.legend(numpoints=1,loc='lower right')\n",
      "fig.show()"
     ],
     "language": "python",
     "metadata": {},
     "outputs": [
      {
       "metadata": {},
       "output_type": "display_data",
       "png": "[encoded data removed]",
       "text": [
        "<matplotlib.figure.Figure at 0x108210990>"
       ]
      }
     ],
     "prompt_number": 160
    },
    {
     "cell_type": "code",
     "collapsed": false,
     "input": [
      "type(t)"
     ],
     "language": "python",
     "metadata": {},
     "outputs": [
      {
       "metadata": {},
       "output_type": "pyout",
       "prompt_number": 62,
       "text": [
        "numpy.ndarray"
       ]
      }
     ],
     "prompt_number": 62
    },
    {
     "cell_type": "code",
     "collapsed": false,
     "input": [
      "units.Unit"
     ],
     "language": "python",
     "metadata": {},
     "outputs": [],
     "prompt_number": 139
    },
    {
     "cell_type": "code",
     "collapsed": false,
     "input": [
      "rv.value"
     ],
     "language": "python",
     "metadata": {},
     "outputs": [
      {
       "metadata": {},
       "output_type": "pyout",
       "prompt_number": 141,
       "text": [
        "array([ 13.00557167,  13.00645497,  13.0073227 , ...,   1.65089615,\n",
        "         1.63818002,   1.62546407])"
       ]
      }
     ],
     "prompt_number": 141
    },
    {
     "cell_type": "code",
     "collapsed": false,
     "input": [
      "'''The problem can now be divided into two parts: an algorithmic search through parameter space for the best-fit nonlinear parameters Pj, ej, and tp,j with a computer routine such as an LM or an MCMC code, and at each step in that search an analytic solution for the linear parameters that fit best there.'''"
     ],
     "language": "python",
     "metadata": {},
     "outputs": [
      {
       "metadata": {},
       "output_type": "pyout",
       "prompt_number": 168,
       "text": [
        "'The problem can now be divided into two parts: an algorithmic search through parameter space for the best-fit nonlinear parameters Pj, ej, and tp,j with a computer routine such as an LM or an MCMC code, and at each step in that search an analytic solution for the linear parameters that fit best there.'"
       ]
      }
     ],
     "prompt_number": 168
    },
    {
     "cell_type": "code",
     "collapsed": false,
     "input": [
      "import pandas as pd\n",
      "df = pd.read_csv('/Users/lweiss/mrf/exoplanet_table_full.csv')\n",
      "starname = [(name[:-2]).replace('.','') for name in df.name]\n",
      "df['starname']=pd.Series([str(star).replace('.','') for star in starname])\n",
      "#df = df.set_index('name')"
     ],
     "language": "python",
     "metadata": {},
     "outputs": [],
     "prompt_number": 62
    },
    {
     "cell_type": "code",
     "collapsed": false,
     "input": [
      "df.ix[df.starname=='Kepler-36',['name','per','m','r','ecc']]"
     ],
     "language": "python",
     "metadata": {},
     "outputs": [
      {
       "html": [
        "<div style=\"max-height:1000px;max-width:1500px;overflow:auto;\">\n",
        "<table border=\"1\" class=\"dataframe\">\n",
        "  <thead>\n",
        "    <tr style=\"text-align: right;\">\n",
        "      <th></th>\n",
        "      <th>name</th>\n",
        "      <th>per</th>\n",
        "      <th>m</th>\n",
        "      <th>r</th>\n",
        "      <th>ecc</th>\n",
        "    </tr>\n",
        "  </thead>\n",
        "  <tbody>\n",
        "    <tr>\n",
        "      <th>101</th>\n",
        "      <td> Kepler-36 b</td>\n",
        "      <td> 13.83989</td>\n",
        "      <td> 4.461478</td>\n",
        "      <td> 1.484674</td>\n",
        "      <td> 0</td>\n",
        "    </tr>\n",
        "    <tr>\n",
        "      <th>102</th>\n",
        "      <td> Kepler-36 c</td>\n",
        "      <td> 16.23855</td>\n",
        "      <td> 8.100828</td>\n",
        "      <td> 3.675716</td>\n",
        "      <td> 0</td>\n",
        "    </tr>\n",
        "  </tbody>\n",
        "</table>\n",
        "</div>"
       ],
       "metadata": {},
       "output_type": "pyout",
       "prompt_number": 43,
       "text": [
        "            name       per         m         r  ecc\n",
        "101  Kepler-36 b  13.83989  4.461478  1.484674    0\n",
        "102  Kepler-36 c  16.23855  8.100828  3.675716    0"
       ]
      }
     ],
     "prompt_number": 43
    },
    {
     "cell_type": "code",
     "collapsed": false,
     "input": [
      "inc = pd.DataFrame({'name':['Kepler-36 b','Kepler-36 c', 'KOI-262 b','KOI-262 c'],\n",
      "                    'inc':[85.37,86.52, 82.51, 82.51]})\n",
      "#inc = inc.set_index('name')"
     ],
     "language": "python",
     "metadata": {},
     "outputs": [],
     "prompt_number": 61
    },
    {
     "cell_type": "code",
     "collapsed": false,
     "input": [
      "df = pd.merge(df,inc,how='outer')"
     ],
     "language": "python",
     "metadata": {},
     "outputs": [],
     "prompt_number": 63
    },
    {
     "cell_type": "code",
     "collapsed": false,
     "input": [
      "print df.ix[df.starname=='Kepler-36',['name','per','m','r','ecc','inc']]"
     ],
     "language": "python",
     "metadata": {},
     "outputs": [
      {
       "output_type": "stream",
       "stream": "stdout",
       "text": [
        "            name       per         m         r  ecc    inc\n",
        "101  Kepler-36 b  13.83989  4.461478  1.484674    0  85.37\n",
        "102  Kepler-36 c  16.23855  8.100828  3.675716    0  86.52\n"
       ]
      }
     ],
     "prompt_number": 67
    },
    {
     "cell_type": "code",
     "collapsed": false,
     "input": [
      "# Kepler-36 b\n",
      "print \"Predict Kepler-36 b: K = \", compute_K(1.07,4.461478,13.83989,0,85.37)\n",
      "# Kepler-36 c\n",
      "print \"Predict Kepler-36 c: K = \", compute_K(1.07,8.100828, 16.23855, 0, 86.52)"
     ],
     "language": "python",
     "metadata": {},
     "outputs": [
      {
       "output_type": "stream",
       "stream": "stdout",
       "text": [
        "Predict Kepler-36 b: K =  1.13217062075 m / s\n",
        "Predict Kepler-36 c: K =  1.95181812757 m / s\n"
       ]
      }
     ],
     "prompt_number": 60
    },
    {
     "cell_type": "code",
     "collapsed": false,
     "input": [
      "print \"Predict 262 b: K = \", compute_K(1.26,2.69*(2.2)**0.93,7.812512,0,82.51)\n",
      "print \"Predict 262 c: K = \", compute_K(1.26,2.69*(2.79)**0.93,9.376137,0,82.51)"
     ],
     "language": "python",
     "metadata": {},
     "outputs": [
      {
       "output_type": "stream",
       "stream": "stdout",
       "text": [
        "Predict 262 b: K =  1.53388380484 m / s\n",
        "Predict 262 c: K =  1.80027661403 m / s\n"
       ]
      }
     ],
     "prompt_number": 71
    },
    {
     "cell_type": "code",
     "collapsed": false,
     "input": [],
     "language": "python",
     "metadata": {},
     "outputs": []
    }
   ],
   "metadata": {}
  }
 ]
}