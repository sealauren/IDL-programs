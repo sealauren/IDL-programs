{
 "metadata": {
  "name": "",
  "signature": "sha256:74c90ace7d02d30c57ba823e722800c666733fc0a85f0fbdab141c54daa22457"
 },
 "nbformat": 3,
 "nbformat_minor": 0,
 "worksheets": [
  {
   "cells": [
    {
     "cell_type": "code",
     "collapsed": false,
     "input": [
      "%pylab inline\n",
      "import sys\n",
      "import numpy as np\n",
      "from numpy import arange, cos, sin, tan, pi\n",
      "import pandas as pd\n",
      "import datetime\n",
      "from astropy.time import Time\n",
      "import astropy.constants as const\n",
      "from astropy import units\n",
      "#sys.path.append('/Users/lweiss/Dropbox/research/')\n",
      "sys.path.append('/Users/lweiss/doppler_rvs/')\n",
      "from rv_solve import *\n",
      "#from ephemeris import *\n",
      "from scipy.io.idl import readsav\n",
      "from lmfit import minimize, Parameters, Parameter, report_fit\n",
      "pdict = {0:'b', 1:'c', 2:'d', 3:'e', 4:'f', 5:'g', 6:'h'}"
     ],
     "language": "python",
     "metadata": {},
     "outputs": [
      {
       "output_type": "stream",
       "stream": "stdout",
       "text": [
        "Populating the interactive namespace from numpy and matplotlib\n",
        "K for Jupiter: "
       ]
      },
      {
       "output_type": "stream",
       "stream": "stdout",
       "text": [
        " 12.7765621404 m / s\n"
       ]
      }
     ],
     "prompt_number": 1
    },
    {
     "cell_type": "code",
     "collapsed": false,
     "input": [
      "# Read data (only do this once)\n",
      "ttvdata = pd.read_fwf('koi0094.01.ttv.txt', header=None, names=['time','ttv','e_ttv'], widths=[19,29,24],usecols=[0,1,2])\n",
      "cf3 = readsav('/Users/lweiss/doppler_rvs/Keck/CK00094/vstck00094.dat')\n",
      "jd = cf3.cf3.JD.byteswap().newbyteorder() \n",
      "mnvel = cf3.cf3.MNVEL.byteswap().newbyteorder() \n",
      "errvel = cf3.cf3.ERRVEL.byteswap().newbyteorder() \n",
      "rvdata = pd.DataFrame({'time':jd, 'rv':mnvel, 'e_rv':errvel})\n",
      "# convert times in data to match time units in TTV FAST\n",
      "ttvdata.time+=(2454900.0 - 2456000.0)\n",
      "rvdata.time += (2440000.0 - 2456000.0)"
     ],
     "language": "python",
     "metadata": {},
     "outputs": [
      {
       "output_type": "stream",
       "stream": "stderr",
       "text": [
        "/Users/lweiss/Library/Enthought/Canopy_64bit/User/lib/python2.7/site-packages/scipy/io/idl.py:167: UserWarning: warning: empty strings are now set to '' instead of None\n",
        "  warnings.warn(\"warning: empty strings are now set to '' instead of None\")\n"
       ]
      }
     ],
     "prompt_number": 2
    },
    {
     "cell_type": "code",
     "collapsed": false,
     "input": [
      "def mask_rm_transit(rvdata, t_rm):\n",
      "    rvdata2 = rvdata.copy()\n",
      "    rvdata2 = rvdata2[(min(t_rm) > rvdata2.time ) | (rvdata2.time > max(t_rm))]\n",
      "    return rvdata2\n",
      "t_rm = [149.76,150.051] # from Weiss et al. 2013.  Also consider RV point during transit of planet e: 134.6,135.4\n",
      "rvdata2 = mask_rm_transit(rvdata, t_rm)\n",
      "rvdata2"
     ],
     "language": "python",
     "metadata": {},
     "outputs": [
      {
       "html": [
        "<div style=\"max-height:1000px;max-width:1500px;overflow:auto;\">\n",
        "<table border=\"1\" class=\"dataframe\">\n",
        "  <thead>\n",
        "    <tr style=\"text-align: right;\">\n",
        "      <th></th>\n",
        "      <th>e_rv</th>\n",
        "      <th>rv</th>\n",
        "      <th>time</th>\n",
        "    </tr>\n",
        "  </thead>\n",
        "  <tbody>\n",
        "    <tr>\n",
        "      <th>0 </th>\n",
        "      <td> 5.351301</td>\n",
        "      <td> -9.392168</td>\n",
        "      <td>-827.231655</td>\n",
        "    </tr>\n",
        "    <tr>\n",
        "      <th>1 </th>\n",
        "      <td> 9.319562</td>\n",
        "      <td> -8.031210</td>\n",
        "      <td>-335.913066</td>\n",
        "    </tr>\n",
        "    <tr>\n",
        "      <th>2 </th>\n",
        "      <td> 8.404804</td>\n",
        "      <td>-12.444888</td>\n",
        "      <td>-331.866660</td>\n",
        "    </tr>\n",
        "    <tr>\n",
        "      <th>3 </th>\n",
        "      <td> 8.813917</td>\n",
        "      <td> 35.267183</td>\n",
        "      <td>-325.982942</td>\n",
        "    </tr>\n",
        "    <tr>\n",
        "      <th>4 </th>\n",
        "      <td> 9.594383</td>\n",
        "      <td>-36.895908</td>\n",
        "      <td>-296.030908</td>\n",
        "    </tr>\n",
        "    <tr>\n",
        "      <th>5 </th>\n",
        "      <td> 4.661939</td>\n",
        "      <td> 27.677852</td>\n",
        "      <td>  76.069642</td>\n",
        "    </tr>\n",
        "    <tr>\n",
        "      <th>6 </th>\n",
        "      <td> 3.989001</td>\n",
        "      <td> 14.847429</td>\n",
        "      <td> 100.047166</td>\n",
        "    </tr>\n",
        "    <tr>\n",
        "      <th>7 </th>\n",
        "      <td> 4.021805</td>\n",
        "      <td>-12.815753</td>\n",
        "      <td> 109.929017</td>\n",
        "    </tr>\n",
        "    <tr>\n",
        "      <th>8 </th>\n",
        "      <td> 4.008377</td>\n",
        "      <td>-16.156394</td>\n",
        "      <td> 111.048237</td>\n",
        "    </tr>\n",
        "    <tr>\n",
        "      <th>9 </th>\n",
        "      <td> 4.001001</td>\n",
        "      <td>-14.323444</td>\n",
        "      <td> 113.043497</td>\n",
        "    </tr>\n",
        "    <tr>\n",
        "      <th>10</th>\n",
        "      <td> 5.091484</td>\n",
        "      <td>-16.234470</td>\n",
        "      <td> 114.076798</td>\n",
        "    </tr>\n",
        "    <tr>\n",
        "      <th>11</th>\n",
        "      <td> 4.039869</td>\n",
        "      <td> -4.385071</td>\n",
        "      <td> 115.074276</td>\n",
        "    </tr>\n",
        "    <tr>\n",
        "      <th>12</th>\n",
        "      <td> 3.722949</td>\n",
        "      <td>  8.627577</td>\n",
        "      <td> 116.054229</td>\n",
        "    </tr>\n",
        "    <tr>\n",
        "      <th>13</th>\n",
        "      <td> 3.823917</td>\n",
        "      <td> -8.604410</td>\n",
        "      <td> 134.014539</td>\n",
        "    </tr>\n",
        "    <tr>\n",
        "      <th>14</th>\n",
        "      <td> 3.718557</td>\n",
        "      <td> -9.408244</td>\n",
        "      <td> 135.094642</td>\n",
        "    </tr>\n",
        "    <tr>\n",
        "      <th>15</th>\n",
        "      <td> 3.477829</td>\n",
        "      <td>  7.604415</td>\n",
        "      <td> 139.015064</td>\n",
        "    </tr>\n",
        "    <tr>\n",
        "      <th>16</th>\n",
        "      <td> 4.028799</td>\n",
        "      <td>  4.635427</td>\n",
        "      <td> 140.813175</td>\n",
        "    </tr>\n",
        "    <tr>\n",
        "      <th>17</th>\n",
        "      <td> 4.305901</td>\n",
        "      <td> 21.230695</td>\n",
        "      <td> 144.100130</td>\n",
        "    </tr>\n",
        "    <tr>\n",
        "      <th>18</th>\n",
        "      <td> 3.499267</td>\n",
        "      <td> 15.686048</td>\n",
        "      <td> 144.796311</td>\n",
        "    </tr>\n",
        "    <tr>\n",
        "      <th>19</th>\n",
        "      <td> 3.883318</td>\n",
        "      <td> 19.173639</td>\n",
        "      <td> 146.056740</td>\n",
        "    </tr>\n",
        "    <tr>\n",
        "      <th>20</th>\n",
        "      <td> 3.538325</td>\n",
        "      <td>  3.477204</td>\n",
        "      <td> 147.972040</td>\n",
        "    </tr>\n",
        "    <tr>\n",
        "      <th>21</th>\n",
        "      <td> 4.061994</td>\n",
        "      <td>-13.133273</td>\n",
        "      <td> 149.091425</td>\n",
        "    </tr>\n",
        "    <tr>\n",
        "      <th>22</th>\n",
        "      <td> 3.322028</td>\n",
        "      <td>  7.022960</td>\n",
        "      <td> 149.751782</td>\n",
        "    </tr>\n",
        "    <tr>\n",
        "      <th>44</th>\n",
        "      <td> 3.753163</td>\n",
        "      <td> -1.864132</td>\n",
        "      <td> 150.064883</td>\n",
        "    </tr>\n",
        "    <tr>\n",
        "      <th>45</th>\n",
        "      <td> 3.915901</td>\n",
        "      <td> -4.939928</td>\n",
        "      <td> 150.079304</td>\n",
        "    </tr>\n",
        "    <tr>\n",
        "      <th>46</th>\n",
        "      <td> 3.942187</td>\n",
        "      <td> -8.926533</td>\n",
        "      <td> 150.093749</td>\n",
        "    </tr>\n",
        "    <tr>\n",
        "      <th>47</th>\n",
        "      <td> 4.238968</td>\n",
        "      <td> -9.198133</td>\n",
        "      <td> 151.074972</td>\n",
        "    </tr>\n",
        "    <tr>\n",
        "      <th>48</th>\n",
        "      <td> 3.878611</td>\n",
        "      <td> 23.541732</td>\n",
        "      <td> 164.000620</td>\n",
        "    </tr>\n",
        "    <tr>\n",
        "      <th>49</th>\n",
        "      <td> 4.176605</td>\n",
        "      <td>-10.143303</td>\n",
        "      <td> 173.925455</td>\n",
        "    </tr>\n",
        "    <tr>\n",
        "      <th>50</th>\n",
        "      <td> 3.638448</td>\n",
        "      <td>-16.525433</td>\n",
        "      <td> 487.072221</td>\n",
        "    </tr>\n",
        "    <tr>\n",
        "      <th>51</th>\n",
        "      <td> 3.736766</td>\n",
        "      <td>-17.436811</td>\n",
        "      <td> 489.026169</td>\n",
        "    </tr>\n",
        "  </tbody>\n",
        "</table>\n",
        "</div>"
       ],
       "metadata": {},
       "output_type": "pyout",
       "prompt_number": 3,
       "text": [
        "        e_rv         rv        time\n",
        "0   5.351301  -9.392168 -827.231655\n",
        "1   9.319562  -8.031210 -335.913066\n",
        "2   8.404804 -12.444888 -331.866660\n",
        "3   8.813917  35.267183 -325.982942\n",
        "4   9.594383 -36.895908 -296.030908\n",
        "5   4.661939  27.677852   76.069642\n",
        "6   3.989001  14.847429  100.047166\n",
        "7   4.021805 -12.815753  109.929017\n",
        "8   4.008377 -16.156394  111.048237\n",
        "9   4.001001 -14.323444  113.043497\n",
        "10  5.091484 -16.234470  114.076798\n",
        "11  4.039869  -4.385071  115.074276\n",
        "12  3.722949   8.627577  116.054229\n",
        "13  3.823917  -8.604410  134.014539\n",
        "14  3.718557  -9.408244  135.094642\n",
        "15  3.477829   7.604415  139.015064\n",
        "16  4.028799   4.635427  140.813175\n",
        "17  4.305901  21.230695  144.100130\n",
        "18  3.499267  15.686048  144.796311\n",
        "19  3.883318  19.173639  146.056740\n",
        "20  3.538325   3.477204  147.972040\n",
        "21  4.061994 -13.133273  149.091425\n",
        "22  3.322028   7.022960  149.751782\n",
        "44  3.753163  -1.864132  150.064883\n",
        "45  3.915901  -4.939928  150.079304\n",
        "46  3.942187  -8.926533  150.093749\n",
        "47  4.238968  -9.198133  151.074972\n",
        "48  3.878611  23.541732  164.000620\n",
        "49  4.176605 -10.143303  173.925455\n",
        "50  3.638448 -16.525433  487.072221\n",
        "51  3.736766 -17.436811  489.026169"
       ]
      }
     ],
     "prompt_number": 3
    },
    {
     "cell_type": "raw",
     "metadata": {},
     "source": [
      "From README:\n",
      "Depending on what type of input you want to give (the options are Jacobi elements, Astrocentric elements, Astrocentric cartesian) the form of the input parameter array will be either\n",
      "For elements: \n",
      "G Mstar Mplanet Period E I LongNode Argument Mean Anomaly (at t=t0, the reference time)....\n",
      "repeated for each planet\n",
      ": 2+nplanets*7 in length\n",
      "or, for Cartesian:\n",
      "G Mstar Mplanet X Y Z VX VY VZ (at t=t0, the reference time)....\n",
      "repeated for each planet\n",
      ": 2+nplanets*7 in length\n",
      "\n",
      "G is in units of AU^3/day^2/M_sun, all masses are in units of M_sun, the Period is in units of days, and the angles are in DEGREES. Cartesian coordinates are in AU and AU/day. The coordinate system is as described in the paper text. One can use different units, as long as G is converted accordingly. "
     ]
    },
    {
     "cell_type": "code",
     "collapsed": false,
     "input": [
      "# Weiss et al. 2013 values, but small eccentricity\n",
      "G = 0.000295994511\n",
      "Mstar = 1.277 # units of msun\n",
      "Mplanet = np.array([3.153642350811926e-05, 4.6854114926348605e-05, 0.0003183677039867277, 0.00010512141169373085]) # units of msun\n",
      "Period = np.array([3.743208e+00, 1.0423648e+01, 2.23429890e+01, 5.432031e+01])\n",
      "E = np.array([1.0e-01, 1.0e-01, 1.0e-01, 1.0e-01])\n",
      "I = np.array([8.930e+01, 8.836e+01, 8.9871e+01, 8.976e+01])\n",
      "LongNode = np.array([0.0, 0.0, 0.0, 0.0])\n",
      "Argument = np.array([1.953665493812839e+01, 1.192073853992231e+01, -4.8366460663429812e+01, 8.7174569645996609e+00])\n",
      "MeanAnomaly = np.array([0.0e+00, 1.3926806431072512e+02, 3.4190541113649533e+02, 1.636950820059154e+02])"
     ],
     "language": "python",
     "metadata": {},
     "outputs": [],
     "prompt_number": 4
    },
    {
     "cell_type": "code",
     "collapsed": false,
     "input": [
      "#Mplanet = np.array([9.2, 6.5, 102, 36.6]) * mearth/msun # circular values\n",
      "TT = np.array([2454964.61390000, 2454971.00870, 2454965.74052, 2454994.2379]) - 2456000.0\n",
      "P = Period\n",
      "BIGOM = LongNode\n",
      "OM = Argument\n",
      "POMEGA = (BIGOM + OM) % 360\n",
      "LONG_TRANSIT = np.zeros(1)\n",
      "TP = np.array(compute_tp(TT,LONG_TRANSIT,P,POMEGA))\n",
      "K = np.empty(len(TT))\n",
      "for p in arange(len(TP)): \n",
      "    K[p] = compute_K(Mstar,Mplanet[p]*msun/mearth,P[p],E[p],I[p]).value\n",
      "print \"Input parameters:\"\n",
      "print \"P\", P\n",
      "print \"tt\",TT\n",
      "print \"tp\",TP\n",
      "print \"ecc\",E\n",
      "print \"om\",OM%360\n",
      "print \"K\",K"
     ],
     "language": "python",
     "metadata": {},
     "outputs": [
      {
       "output_type": "stream",
       "stream": "stdout",
       "text": [
        "Input parameters:\n",
        "P [  3.743208  10.423648  22.342989  54.32031 ]\n",
        "tt [-1035.3861  -1028.9913  -1034.25948 -1005.7621 ]\n",
        "tp [-1035.18296177 -1028.64614005 -1014.91830016 -1004.4467251 ]\n",
        "ecc [ 0.1  0.1  0.1  0.1]\n",
        "om [  19.53665494   11.92073854  311.63353934    8.71745696]\n",
        "K [  3.67364762   3.87815542  20.44315463   5.02052038]\n"
       ]
      }
     ],
     "prompt_number": 28
    },
    {
     "cell_type": "code",
     "collapsed": false,
     "input": [
      "big_bodies = pd.DataFrame({'Mplanet':Mplanet, 'Period':Period, 'E':E, 'I':I, \n",
      "                   'LongNode':LongNode, 'Argument':Argument, 'MeanAnomaly':MeanAnomaly})\n",
      "print big_bodies"
     ],
     "language": "python",
     "metadata": {},
     "outputs": [
      {
       "output_type": "stream",
       "stream": "stdout",
       "text": [
        "    Argument    E       I  LongNode  MeanAnomaly   Mplanet     Period\n",
        "0  19.536655  0.1  89.300         0     0.000000  0.000032   3.743208\n",
        "1  11.920739  0.1  88.360         0   139.268064  0.000047  10.423648\n",
        "2 -48.366461  0.1  89.871         0   341.905411  0.000318  22.342989\n",
        "3   8.717457  0.1  89.760         0   163.695082  0.000105  54.320310\n"
       ]
      }
     ],
     "prompt_number": 29
    },
    {
     "cell_type": "code",
     "collapsed": false,
     "input": [
      "def grow_text():\n",
      "    npl = len(Mplanet)\n",
      "    text=str(G)+'\\n'\n",
      "    text+=str(Mstar)+\"\\n\"\n",
      "    for j in np.arange(npl):\n",
      "        text+=str(Mplanet[j])+'\\n'\n",
      "        text+=str(Period[j])+' '\n",
      "        text+=str(E[j])+' '\n",
      "        text+=str(I[j])+' '\n",
      "        text+=str(LongNode[j])+' '\n",
      "        text+=str(Argument[j])+' '\n",
      "        text+=str(MeanAnomaly[j])+' '+\"\\n\"\n",
      "    return text\n",
      "text = grow_text()"
     ],
     "language": "python",
     "metadata": {},
     "outputs": [],
     "prompt_number": 30
    },
    {
     "cell_type": "code",
     "collapsed": false,
     "input": [
      "def write_input_file(path=\"/Users/lweiss/TTV_FAST_KOI94/\", fileid='1'):\n",
      "    text_file = open(path+\"KOI94.in.\"+fileid, \"w\")\n",
      "    text_file.write(text)\n",
      "    text_file.close()"
     ],
     "language": "python",
     "metadata": {},
     "outputs": [],
     "prompt_number": 31
    },
    {
     "cell_type": "code",
     "collapsed": false,
     "input": [
      "str(TP[0])\n",
      "def write_setup_file(path=\"/Users/lweiss/TTV_FAST_KOI94/\", fileid='1'):\n",
      "    setup_file = open(path+\"setup_file\", \"w\")\n",
      "    setup_text = 'KOI94.in.'+str(fileid)+'\\n'+str(TP[0])+'\\n'+'0.10\\n'+'1700\\n'+'4\\n'+'0\\n'\n",
      "    setup_file.write(setup_text)\n",
      "    setup_file.close()"
     ],
     "language": "python",
     "metadata": {},
     "outputs": [],
     "prompt_number": 51
    },
    {
     "cell_type": "code",
     "collapsed": false,
     "input": [
      "write_input_file()\n",
      "write_setup_file()"
     ],
     "language": "python",
     "metadata": {},
     "outputs": [],
     "prompt_number": 52
    },
    {
     "cell_type": "code",
     "collapsed": false,
     "input": [
      "def write_rvfile(rvdata2, path=\"/Users/lweiss/TTV_FAST_KOI94/\"):\n",
      "    text = ''\n",
      "    for i in np.arange(len(rvdata2)):\n",
      "        print str(rvdata2.time[i])\n",
      "        text+=str(rvdata2.time[i])+'\\n'\n",
      "    file = open(path+\"RVfile\", \"w\")\n",
      "    file.write(text)\n",
      "    file.close()\n",
      "#write_rvfile(rvdata2)\n",
      "#print str(rvdata2.time[1])+'\\n'+str(rvdata2.time[2])+'\\n'"
     ],
     "language": "python",
     "metadata": {},
     "outputs": [],
     "prompt_number": 53
    },
    {
     "cell_type": "code",
     "collapsed": false,
     "input": [
      "def random_draw_MplPEIOwM(big_bodies):\n",
      "    Mpl = np.random.normal(scale=1.0,size=4)*big_bodies.Mplanet*0.01 + big_bodies.Mplanet\n",
      "    P = np.random.normal(scale=1.0,size=4)*big_bodies.Period*0.01 + big_bodies.Period\n",
      "    E = np.random.normal(scale=1.0,size=4)*big_bodies.E*0.1 + big_bodies.E\n",
      "    I = np.random.normal(scale=1.0,size=4)*big_bodies.I*0.01 + big_bodies.I\n",
      "    O = (np.random.normal(scale=1.0,size=4)*big_bodies.LongNode*0.1 + big_bodies.LongNode) % 360.\n",
      "    w = (np.random.normal(scale=1.0,size=4)*0.1 + big_bodies.Argument) % 360.\n",
      "    M = (np.random.normal(scale=1.0,size=4)*big_bodies.MeanAnomaly*0.01 + big_bodies.MeanAnomaly) % 360.\n",
      "    return(Mpl,P,E,I,O,w,M)"
     ],
     "language": "python",
     "metadata": {},
     "outputs": [],
     "prompt_number": 54
    },
    {
     "cell_type": "code",
     "collapsed": false,
     "input": [
      "pars = Parameters()\n",
      "#           (Name,  Value,  Vary,   Min,  Max,  Expr)\n",
      "for i in np.arange(len(big_bodies)):\n",
      "    pars.add_many(('Mpl_'+pdict[i],  big_bodies.Mplanet[i],  True, 0., None,  None),\n",
      "               ('P_'+pdict[i],   big_bodies.Period[i],  False,  None,  None,  None),\n",
      "               ('E_'+pdict[i],   big_bodies.E[i],  True,  0., 1.,  None),\n",
      "               ('I_'+pdict[i],   big_bodies.I[i],  False, 0., 90.,  None),\n",
      "               ('O_'+pdict[i],   big_bodies.LongNode[i],  True,  -180.,  180.,  None),\n",
      "               ('w_'+pdict[i],   big_bodies.Argument[i], True, 0., 360.),\n",
      "               ('M_'+pdict[i],   big_bodies.MeanAnomaly[i], True, None, None, None)) # figure out relation between w, M, tt"
     ],
     "language": "python",
     "metadata": {},
     "outputs": [],
     "prompt_number": 55
    },
    {
     "cell_type": "markdown",
     "metadata": {},
     "source": [
      "TO RUN SAMPLE PROGRAM:\n",
      "to produce (1) calculated TTVs & calculated RV at observed times and (2) predicted RV signal, run:\n",
      "(1)   ./run_TTVFast setup_file Times RV_file RV_out\n",
      "(2)   ./run_TTVFast setup_file Times RV_file2 RV_out2 \n"
     ]
    },
    {
     "cell_type": "code",
     "collapsed": false,
     "input": [
      "def run_TTV_FAST(fileid):\n",
      "    from subprocess import Popen, PIPE, STDOUT\n",
      "    \n",
      "    cmd1 = \"./run_TTVFast setup_file Times RV_file RV_out\"\n",
      "    cmd2 = \"./run_TTVFast setup_file Times RV_file2 RV_out2\"\n",
      "    final = Popen(\"{}; {}\".format(cmd1, cmd2), shell=True, stdin=PIPE, \n",
      "              stdout=PIPE, stderr=STDOUT, close_fds=True)\n",
      "    stdout, nothing = final.communicate()\n",
      "    log = open('/log', 'w')\n",
      "    log.write(stdout)\n",
      "    log.close()\n",
      "    return"
     ],
     "language": "python",
     "metadata": {},
     "outputs": [],
     "prompt_number": 56
    },
    {
     "cell_type": "code",
     "collapsed": false,
     "input": [
      "run_TTV_FAST(1)"
     ],
     "language": "python",
     "metadata": {},
     "outputs": [],
     "prompt_number": 57
    },
    {
     "cell_type": "code",
     "collapsed": false,
     "input": [
      "# Read in results from TTV Fast and observations to get chi^2\n",
      "def read_results():\n",
      "    Times = pd.read_csv('Times', header=None, names=['Planet','Epoch','Time','RSKY_AU','VSKY_AU'],sep=' ',usecols=[0,1,2,3,4])\n",
      "    RV_out = pd.read_csv('RV_out', header=None, names=['time', 'rv'],sep=' ',usecols=[0,1])\n",
      "    RV_out2 = pd.read_csv('RV_out2', header=None, names=['time', 'rv'],sep=' ',usecols=[0,1])\n",
      "    offset = 0.0\n",
      "    AU = 149597871000.0 #in meters\n",
      "    day = 3600.0*24.0 #in seconds\n",
      "    RV_out.rv = RV_out.rv*AU/day+offset\n",
      "    RV_out2.rv = RV_out2.rv*AU/day+offset\n",
      "    return Times, RV_out, RV_out2"
     ],
     "language": "python",
     "metadata": {},
     "outputs": [],
     "prompt_number": 58
    },
    {
     "cell_type": "code",
     "collapsed": false,
     "input": [
      "Times,RV_out, RV_out2 = read_results()\n",
      "RV_out = mask_rm_transit(RV_out,t_rm)\n",
      "#pd.merge(rvdata2,RV_out,on='time',how='inner')"
     ],
     "language": "python",
     "metadata": {},
     "outputs": [],
     "prompt_number": 59
    },
    {
     "cell_type": "code",
     "collapsed": false,
     "input": [
      "def rv_resid(rvdata2, RV_out):\n",
      "    return np.array(RV_out.rv) - np.array(rvdata2.rv)"
     ],
     "language": "python",
     "metadata": {},
     "outputs": [],
     "prompt_number": 60
    },
    {
     "cell_type": "code",
     "collapsed": false,
     "input": [
      "def tt_resid(ttvdata, Times, Planet=2, verbose=False):\n",
      "    dtarray = []\n",
      "    for i in arange(len(ttvdata.time)):\n",
      "        if verbose==True: print \"TT (data):\", ttvdata.time[i], type(ttvdata.time[i])\n",
      "        deltat = min(abs(Times[Times.Planet==Planet].Time - ttvdata.time[i]))\n",
      "        if verbose==True: print \"Delta T:\", deltat\n",
      "        dtarray.append(deltat)\n",
      "    dtarray = np.array(dtarray)\n",
      "    return dtarray"
     ],
     "language": "python",
     "metadata": {},
     "outputs": [],
     "prompt_number": 61
    },
    {
     "cell_type": "code",
     "collapsed": false,
     "input": [
      "#r_[tt_resid(ttvdata,Times), rv_resid(rvdata2,RV_out)]\n",
      "len(rv_resid(rvdata2,RV_out))"
     ],
     "language": "python",
     "metadata": {},
     "outputs": [
      {
       "metadata": {},
       "output_type": "pyout",
       "prompt_number": 62,
       "text": [
        "31"
       ]
      }
     ],
     "prompt_number": 62
    },
    {
     "cell_type": "code",
     "collapsed": false,
     "input": [
      "errorbar(rvdata.time, rvdata.rv,rvdata.e_rv, fmt='o',alpha=0.3,color='b')\n",
      "errorbar(rvdata2.time, rvdata2.rv,rvdata2.e_rv, fmt='o')\n",
      "scatter(RV_out.time, RV_out.rv, color='r')\n",
      "plot(RV_out2.time, RV_out2.rv, color='r', alpha = 0.5)\n",
      "xlim([100,180])\n",
      "ylim([-30,30])"
     ],
     "language": "python",
     "metadata": {},
     "outputs": [
      {
       "metadata": {},
       "output_type": "pyout",
       "prompt_number": 63,
       "text": [
        "(-30, 30)"
       ]
      },
      {
       "metadata": {},
       "output_type": "display_data",
       "png": "[encoded data removed]",
       "text": [
        "<matplotlib.figure.Figure at 0x11048d0d0>"
       ]
      }
     ],
     "prompt_number": 63
    },
    {
     "cell_type": "code",
     "collapsed": false,
     "input": [
      "#import pickle\n",
      "#finemodel = pickle.load( open(\"KOI94finemodel.p\",\"rb\"))\n",
      "#fineinit = pickle.load(open(\"KOI94model_init.p\",\"rb\"))\n",
      "#tfine = finemodel[0] - 2456000.0\n",
      "#RVfine = finemodel[1]\n",
      "#RVfine_init = fineinit[1]"
     ],
     "language": "python",
     "metadata": {},
     "outputs": [],
     "prompt_number": 69
    },
    {
     "cell_type": "code",
     "collapsed": false,
     "input": [
      "def write_pars(npl,P0,tp0=None, ecc0=None, om0=None, K0=None, tt0=None):\n",
      "    import numpy as np\n",
      "    from lmfit import minimize, Parameters, Parameter, report_fit\n",
      "    assert len(P0) == npl\n",
      "    print \"Writing parameters for %s planets...\" %npl\n",
      "#    try: P0 = sorted(P0)\n",
      "#    except: pass\n",
      "    if om0==None: om0 = np.zeros(npl) + 90.\n",
      "    if ecc0==None: ecc0 = np.zeros(npl) + 0.1\n",
      "    if tp0==None: tp0 = np.zeros(npl) + min(tarr)\n",
      "    if K0==None: K0 = np.zeros(npl) + 5.0\n",
      "    pars = Parameters()\n",
      "    pdict = {0:'b', 1:'c', 2:'d', 3:'e', 4:'f', 5:'g'}\n",
      "    for i in arange(npl):\n",
      "        pars.add_many(('P_'+str(pdict[i])    , P0[i]  , False,  None,  None,  None),\n",
      "                    ('tt_'+str(pdict[i]), tt0[i], False, None, None, None),\n",
      "                    ('om_'+str(pdict[i]), om0[i]       , True, 0., 360.,  None),\n",
      "                    ('logK_'+str(pdict[i])  , np.log(K0[i])  , True, None, None,  None),\n",
      "                    ('tp_'+str(pdict[i])    , tp0[i]  , True,  None,  None,  \n",
      "                     'compute_tp(eval(\"tt_\"+pdict[0]),0.,eval(\"P_\"+pdict[0]),eval(\"om_\"+pdict[0]))'),\n",
      "                    ('ecc_'+str(pdict[i]), ecc0[i]     , True,  0., .5,  None))\n",
      "    pars.add_many(('gamma' , 0.0 , True, None, None, None),\n",
      "                   ('dvdt'  , 0.    , False, None, None, None),\n",
      "                   ('curve', 0., False, None, None, None),\n",
      "                   ('tstar',tp0[0], False, None, None))\n",
      "    return pars\n",
      "pars = write_pars(4, P, tp0=TP, ecc0 = E, om0=OM%360, K0 = K, tt0 = TT)\n"
     ],
     "language": "python",
     "metadata": {},
     "outputs": []
    },
    {
     "cell_type": "code",
     "collapsed": false,
     "input": [
      "tfine = np.arange(0,200,0.1)\n",
      "RVfine = rv_drive(pars, tfine, verbose=True, components=True)\n",
      "len(RVfine)\n",
      "print pars['tp_b'].value, compute_tp(TT[0],0.,P[0],OM[0]%360), TP[0]\n",
      "print pars['tt_b'].value - TT[0]\n",
      "print pars['om_b'].value - OM[0]%360\n",
      "print pars['P_b'].value - P[0]\n",
      "#"
     ],
     "language": "python",
     "metadata": {},
     "outputs": [
      {
       "output_type": "stream",
       "stream": "stdout",
       "text": [
        "P_b 3.743208\n",
        "logK_b 1.3011850701\n",
        "tp_b -1035.18296177\n",
        "ecc_b 0.1\n",
        "om_b 19.5366549381\n",
        "tt_b -1035.18296177\n",
        "P_c 10.423648\n",
        "logK_c 1.35535963398\n",
        "tp_c -1028.64614005\n",
        "ecc_c 0.1\n",
        "om_c 11.9207385399\n",
        "tt_c -1028.64614005\n",
        "P_d 22.342989\n",
        "logK_d 3.01764808959\n",
        "tp_d -1014.91830016\n",
        "ecc_d 0.1\n",
        "om_d 311.633539337\n",
        "tt_d -1014.91830016\n",
        "P_e 54.32031\n",
        "logK_e 1.61353359025\n",
        "tp_e -1004.4467251\n",
        "ecc_e 0.1\n",
        "om_e 8.7174569646\n",
        "tt_e -1004.4467251\n",
        "Input oribtal elements for  4 planets...\n",
        "K : [  3.67364762   3.87815542  20.44315463   5.02052038]\n",
        "Calculating RVs now...\n",
        "Computed M..."
       ]
      },
      {
       "output_type": "stream",
       "stream": "stdout",
       "text": [
        "\n",
        "Computed E (array)..."
       ]
      },
      {
       "output_type": "stream",
       "stream": "stdout",
       "text": [
        "\n",
        "Computed f...\n",
        "Orbital params for planet b: P= 3.743208 K= 3.67364761896 ecc= 0.1 om= 19.5366549381\n",
        "Orbital params for planet c: P= 10.423648 K= 3.87815542234 ecc= 0.1 om= 11.9207385399\n",
        "Orbital params for planet d: P= 22.342989 K= 20.4431546313 ecc= 0.1 om= 311.633539337\n",
        "Orbital params for planet e: P= 54.32031 K= 5.02052038284 ecc= 0.1 om= 8.7174569646\n",
        "-1035.18296177 -1035.18296177 -1035.18296177\n",
        "0.0\n",
        "0.0\n",
        "0.0\n"
       ]
      }
     ],
     "prompt_number": 50
    },
    {
     "cell_type": "code",
     "collapsed": false,
     "input": [
      "fig = plt.figure(figsize=(14,8))\n",
      "ax = fig.add_subplot(111)\n",
      "ax.errorbar(rvdata.time, rvdata.rv,rvdata.e_rv, fmt='o',alpha=0.3,color='gray')\n",
      "ax.errorbar(rvdata2.time, rvdata2.rv,rvdata2.e_rv, fmt='o', color='gray')\n",
      "ax.scatter(RV_out.time, RV_out.rv, color='r')\n",
      "ax.plot(RV_out2.time, RV_out2.rv, color='r', alpha = 0.5, label='TTV FAST')\n",
      "ax.plot(tfine, RVfine.sum(axis=1), color='b', alpha=0.5, label='Keplerian')\n",
      "ax.set_xlim([100,180])\n",
      "ax.set_ylim([-30,30])\n",
      "ax.legend(loc='best')"
     ],
     "language": "python",
     "metadata": {},
     "outputs": [
      {
       "metadata": {},
       "output_type": "pyout",
       "prompt_number": 64,
       "text": [
        "<matplotlib.legend.Legend at 0x1104f5c90>"
       ]
      },
      {
       "metadata": {},
       "output_type": "display_data",
       "png": "[encoded data removed]",
       "text": [
        "<matplotlib.figure.Figure at 0x1102cd990>"
       ]
      }
     ],
     "prompt_number": 64
    },
    {
     "cell_type": "code",
     "collapsed": false,
     "input": [],
     "language": "python",
     "metadata": {},
     "outputs": [
      {
       "output_type": "stream",
       "stream": "stdout",
       "text": [
        "[-827.231655   -827.131655   -827.031655   ...,  488.76834623  488.86834623\n",
        "  488.96834623]\n"
       ]
      }
     ],
     "prompt_number": 52
    },
    {
     "cell_type": "code",
     "collapsed": false,
     "input": [],
     "language": "python",
     "metadata": {},
     "outputs": []
    }
   ],
   "metadata": {}
  }
 ]
}