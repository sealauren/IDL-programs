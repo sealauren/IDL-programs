{
 "metadata": {
  "name": "",
  "signature": "sha256:3c8ac31835422baa1d1e126d988b0a3250a3db7767280ee6ff6f887e52fa3a2d"
 },
 "nbformat": 3,
 "nbformat_minor": 0,
 "worksheets": [
  {
   "cells": [
    {
     "cell_type": "code",
     "collapsed": false,
     "input": [
      "%pylab inline\n",
      "import sys\n",
      "import numpy as np\n",
      "from numpy import arange, cos, sin, tan, pi\n",
      "import pandas as pd\n",
      "import datetime\n",
      "from astropy.time import Time\n",
      "import astropy.constants as const\n",
      "from astropy import units\n",
      "#sys.path.append('/Users/lweiss/Dropbox/research/')\n",
      "sys.path.append('/Users/lweiss/doppler_rvs/')\n",
      "from rv_solve import *\n",
      "#from ephemeris import *\n",
      "from scipy.io.idl import readsav\n",
      "from lmfit import minimize, Parameters, Parameter, report_fit\n",
      "pdict = {0:'b', 1:'c', 2:'d', 3:'e', 4:'f', 5:'g', 6:'h'}"
     ],
     "language": "python",
     "metadata": {},
     "outputs": [
      {
       "output_type": "stream",
       "stream": "stdout",
       "text": [
        "Populating the interactive namespace from numpy and matplotlib\n"
       ]
      },
      {
       "output_type": "stream",
       "stream": "stderr",
       "text": [
        "WARNING: pylab import has clobbered these variables: ['text', 'bench', 'plt', 'info', 'fft', 'test']\n",
        "`%matplotlib` prevents importing * from pylab and numpy\n"
       ]
      }
     ],
     "prompt_number": 18
    },
    {
     "cell_type": "raw",
     "metadata": {},
     "source": [
      "From README:\n",
      "Depending on what type of input you want to give (the options are Jacobi elements, Astrocentric elements, Astrocentric cartesian) the form of the input parameter array will be either\n",
      "For elements: \n",
      "G Mstar Mplanet Period E I LongNode Argument Mean Anomaly (at t=t0, the reference time)....\n",
      "repeated for each planet\n",
      ": 2+nplanets*7 in length\n",
      "or, for Cartesian:\n",
      "G Mstar Mplanet X Y Z VX VY VZ (at t=t0, the reference time)....\n",
      "repeated for each planet\n",
      ": 2+nplanets*7 in length\n",
      "\n",
      "G is in units of AU^3/day^2/M_sun, all masses are in units of M_sun, the Period is in units of days, and the angles are in DEGREES. Cartesian coordinates are in AU and AU/day. The coordinate system is as described in the paper text. One can use different units, as long as G is converted accordingly. "
     ]
    },
    {
     "cell_type": "code",
     "collapsed": false,
     "input": [
      "G = 0.000295994511\n",
      "Mstar = 1.277 # units of msun\n",
      "Mplanet = np.array([3.153642350811926e-05, 4.6854114926348605e-05, 0.0003183677039867277, 0.00010512141169373085]) # units of msun\n",
      "Period = np.array([3.743208e+00, 1.0423648e+01, 2.23429890e+01, 5.432031e+01])\n",
      "E = np.array([2.5e-01, 4.3e-01, 2.2e-02, 1.9e-02])\n",
      "I = np.array([8.930e+01, 8.836e+01, 8.9871e+01, 8.976e+01])\n",
      "LongNode = np.array([0.0, 0.0, 0.0, 0.0])\n",
      "Argument = np.array([1.953665493812839e+01, 1.192073853992231e+01, -4.8366460663429812e+01, 8.7174569645996609e+00])\n",
      "MeanAnomaly = np.array([0.0e+00, 1.3926806431072512e+02, 3.4190541113649533e+02, 1.636950820059154e+02])"
     ],
     "language": "python",
     "metadata": {},
     "outputs": [],
     "prompt_number": 5
    },
    {
     "cell_type": "code",
     "collapsed": false,
     "input": [
      "big_bodies = pd.DataFrame({'Mplanet':Mplanet, 'Period':Period, 'E':E, 'I':I, \n",
      "                   'LongNode':LongNode, 'Argument':Argument, 'MeanAnomaly':MeanAnomaly})"
     ],
     "language": "python",
     "metadata": {},
     "outputs": [],
     "prompt_number": 24
    },
    {
     "cell_type": "code",
     "collapsed": false,
     "input": [
      "print big_bodies"
     ],
     "language": "python",
     "metadata": {},
     "outputs": [
      {
       "output_type": "stream",
       "stream": "stdout",
       "text": [
        "    Argument      E       I  LongNode  MeanAnomaly   Mplanet     Period\n",
        "0  19.536655  0.250  89.300         0     0.000000  0.000028   3.743208\n",
        "1  11.920739  0.430  88.360         0   139.268064  0.000020  10.423648\n",
        "2 -48.366461  0.022  89.871         0   341.905411  0.000306  22.342989\n",
        "3   8.717457  0.019  89.760         0   163.695082  0.000110  54.320310\n"
       ]
      }
     ],
     "prompt_number": 32
    },
    {
     "cell_type": "code",
     "collapsed": false,
     "input": [
      "print Mplanet/Mstar"
     ],
     "language": "python",
     "metadata": {},
     "outputs": [
      {
       "output_type": "stream",
       "stream": "stdout",
       "text": [
        "[  2.46957114e-05   3.66907713e-05   2.49309087e-04   8.23190381e-05]\n"
       ]
      }
     ],
     "prompt_number": 7
    },
    {
     "cell_type": "code",
     "collapsed": false,
     "input": [
      "print 106.*mearth/msun"
     ],
     "language": "python",
     "metadata": {},
     "outputs": [
      {
       "output_type": "stream",
       "stream": "stdout",
       "text": [
        "0.000318367703987\n"
       ]
      }
     ],
     "prompt_number": 8
    },
    {
     "cell_type": "code",
     "collapsed": false,
     "input": [
      "Mplanet = np.array([9.2, 6.5, 102, 36.6]) * mearth/msun\n",
      "print Mplanet"
     ],
     "language": "python",
     "metadata": {},
     "outputs": [
      {
       "output_type": "stream",
       "stream": "stdout",
       "text": [
        "[  2.76319139e-05   1.95225479e-05   3.06353828e-04   1.09926962e-04]\n"
       ]
      }
     ],
     "prompt_number": 9
    },
    {
     "cell_type": "code",
     "collapsed": false,
     "input": [
      "def grow_text():\n",
      "    npl = len(Mplanet)\n",
      "    text=str(G)+'\\n'\n",
      "    text+=str(Mstar)+\"\\n\"\n",
      "    for j in np.arange(npl):\n",
      "        text+=str(Mplanet[j])+'\\n'\n",
      "        text+=str(Period[j])+' '\n",
      "        text+=str(E[j])+' '\n",
      "        text+=str(I[j])+' '\n",
      "        text+=str(LongNode[j])+' '\n",
      "        text+=str(Argument[j])+' '\n",
      "        text+=str(MeanAnomaly[j])+' '+\"\\n\"\n",
      "    return text\n",
      "text = grow_text()"
     ],
     "language": "python",
     "metadata": {},
     "outputs": [],
     "prompt_number": 10
    },
    {
     "cell_type": "code",
     "collapsed": false,
     "input": [
      "def write_input_file(path=\"/Users/lweiss/TTV_FAST_KOI94\", fileid='1'):\n",
      "    text_file = open(path+\"/KOI94.in.\"+fileid, \"w\")\n",
      "    text_file.write(text)\n",
      "    text_file.close()"
     ],
     "language": "python",
     "metadata": {},
     "outputs": [],
     "prompt_number": 33
    },
    {
     "cell_type": "code",
     "collapsed": false,
     "input": [
      "write_input_file()"
     ],
     "language": "python",
     "metadata": {},
     "outputs": [],
     "prompt_number": 12
    },
    {
     "cell_type": "code",
     "collapsed": false,
     "input": [
      "def write_setup_file(fileid='1'):\n",
      "    text_file = open(path+\"setup_file\", \"w\")\n",
      "    setup_text = 'KOI94.in.'+str(fileid)+'\\n'+'-1045\\n'+'0.187\\n'+'1700\\n'+'4\\n'+'0\\n'\n",
      "    setup_file.write(setup_text)\n",
      "    setup_file.close()"
     ],
     "language": "python",
     "metadata": {},
     "outputs": [],
     "prompt_number": 40
    },
    {
     "cell_type": "code",
     "collapsed": false,
     "input": [
      "def random_draw_MplPEIOwM(big_bodies):\n",
      "    Mpl = np.random.normal(scale=1.0,size=4)*big_bodies.Mplanet*0.01 + big_bodies.Mplanet\n",
      "    P = np.random.normal(scale=1.0,size=4)*big_bodies.Period*0.01 + big_bodies.Period\n",
      "    E = np.random.normal(scale=1.0,size=4)*big_bodies.E*0.1 + big_bodies.E\n",
      "    I = np.random.normal(scale=1.0,size=4)*big_bodies.I*0.01 + big_bodies.I\n",
      "    O = (np.random.normal(scale=1.0,size=4)*big_bodies.LongNode*0.1 + big_bodies.LongNode) % 360.\n",
      "    w = (np.random.normal(scale=1.0,size=4)*0.1 + big_bodies.Argument) % 360.\n",
      "    M = (np.random.normal(scale=1.0,size=4)*big_bodies.MeanAnomaly*0.01 + big_bodies.MeanAnomaly) % 360.\n",
      "    return(Mpl,P,E,I,O,w,M)"
     ],
     "language": "python",
     "metadata": {},
     "outputs": [],
     "prompt_number": 16
    },
    {
     "cell_type": "code",
     "collapsed": false,
     "input": [
      "pars = Parameters()\n",
      "#           (Name,  Value,  Vary,   Min,  Max,  Expr)\n",
      "for i in np.arange(len(big_bodies)):\n",
      "    pars.add_many(('Mpl_'+pdict[i],  big_bodies.Mplanet[i],  True, None, None,  None),\n",
      "               ('P_'+pdict[i],   big_bodies.Period[i],  True,  0.5,  2.0,  None),\n",
      "               ('E_'+pdict[i],   big_bodies.E[i],  True,  0., 1.,  None),\n",
      "               ('I_'+pdict[i],   big_bodies.I[i],  True, 0., 90.,  None),\n",
      "               ('O_'+pdict[i],   big_bodies.LongNode[i],  True,  -180.,  180.,  None),\n",
      "               ('w_'+pdict[i],   big_bodies.Argument[i], True, 0., 360.),\n",
      "               ('M_'+pdict[i],   big_bodies.MeanAnomaly[i], True, None, None, None))"
     ],
     "language": "python",
     "metadata": {},
     "outputs": [],
     "prompt_number": 31
    },
    {
     "cell_type": "markdown",
     "metadata": {},
     "source": [
      "TO RUN SAMPLE PROGRAM:\n",
      "to produce (1) calculated TTVs & calculated RV at observed times and (2) predicted RV signal, run:\n",
      "(1)   ./run_TTVFast setup_file Times RV_file RV_out\n",
      "(2)   ./run_TTVFast setup_file Times RV_file2 RV_out2 \n"
     ]
    },
    {
     "cell_type": "code",
     "collapsed": false,
     "input": [
      "def run_TTV_FAST(fileid):\n",
      "    from subprocess import Popen, PIPE, STDOUT\n",
      "    \n",
      "    cmd1 = \"./run_TTVFast setup_file Times RV_file RV_out.\"+str(fileid)\n",
      "    cmd2 = \"./run_TTVFast setup_file Times RV_file2 RV_out2.\"+str(fileid)\n",
      "    final = Popen(\"{}; {}\".format(cmd1, cmd2), shell=True, stdin=PIPE, \n",
      "              stdout=PIPE, stderr=STDOUT, close_fds=True)\n",
      "    stdout, nothing = final.communicate()\n",
      "    log = open('/log', 'w')\n",
      "    log.write(stdout)\n",
      "    log.close()\n",
      "    return"
     ],
     "language": "python",
     "metadata": {},
     "outputs": [],
     "prompt_number": 45
    },
    {
     "cell_type": "code",
     "collapsed": false,
     "input": [
      "run_TTV_FAST(1)"
     ],
     "language": "python",
     "metadata": {},
     "outputs": [],
     "prompt_number": 47
    },
    {
     "cell_type": "code",
     "collapsed": false,
     "input": [],
     "language": "python",
     "metadata": {},
     "outputs": []
    }
   ],
   "metadata": {}
  }
 ]
}