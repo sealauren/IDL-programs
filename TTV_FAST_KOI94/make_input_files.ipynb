{
 "metadata": {
  "name": ""
 },
 "nbformat": 3,
 "nbformat_minor": 0,
 "worksheets": [
  {
   "cells": [
    {
     "cell_type": "markdown",
     "metadata": {},
     "source": [
      "Get User Input"
     ]
    },
    {
     "cell_type": "code",
     "collapsed": false,
     "input": [
      "# satellite input files\n",
      "big_body_epoch = 2454964.6175 \n",
      "big_body_file = 'big_init.csv' # big bodies (i.e. planets):\n",
      "# small_body_file = 'small_init.csv' # small bodies (i.e. asteroids):\n",
      "# stellar properties\n",
      "# mstar = 1.277 # solar units\n",
      "# rstar = 1.52 # solar units\n",
      "nrun = 10 # number of random trials\n",
      "# orbital parameter ranges for big bodies\n",
      "amin, amax = 0.5, 1.5 # as a fraction of each planet's nominal input semi-major axis, log scale\n",
      "emin, emax = 1e-5, 1 # log scale\n",
      "imin, imax = 75., 90. # linear scale\n",
      "perimin, perimax = 0., 360. # linear scale\n",
      "nodemin, nodemax = 0., 360 # linear scale\n",
      "Mmin, Mmax = -60., 60. # difference from nominal mean anomaly, linear scale"
     ],
     "language": "python",
     "metadata": {},
     "outputs": [],
     "prompt_number": 185
    },
    {
     "cell_type": "code",
     "collapsed": false,
     "input": [
      "import pandas as pd\n",
      "import numpy as np\n",
      "import subprocess\n",
      "import string\n",
      "import random"
     ],
     "language": "python",
     "metadata": {},
     "outputs": [],
     "prompt_number": 186
    },
    {
     "cell_type": "markdown",
     "metadata": {},
     "source": [
      "Make Initial Input Files"
     ]
    },
    {
     "cell_type": "code",
     "collapsed": false,
     "input": [
      "\n",
      "big_bodies = pd.read_csv(big_body_file,index_col='name', delim_whitespace=False, skipinitialspace=True)\n",
      "try: small_bodies = pd.read_csv(small_body_file,index_col='name', delim_whitespace=False, skipinitialspace=True)\n",
      "except: small_bodies = None\n",
      "big_bodies"
     ],
     "language": "python",
     "metadata": {},
     "outputs": [
      {
       "html": [
        "<div style=\"max-height:1000px;max-width:1500px;overflow:auto;\">\n",
        "<table border=\"1\" class=\"dataframe\">\n",
        "  <thead>\n",
        "    <tr style=\"text-align: right;\">\n",
        "      <th></th>\n",
        "      <th>mass</th>\n",
        "      <th>density</th>\n",
        "      <th>a</th>\n",
        "      <th>e</th>\n",
        "      <th>i</th>\n",
        "      <th>peri</th>\n",
        "      <th>node</th>\n",
        "      <th>M</th>\n",
        "    </tr>\n",
        "    <tr>\n",
        "      <th>name</th>\n",
        "      <th></th>\n",
        "      <th></th>\n",
        "      <th></th>\n",
        "      <th></th>\n",
        "      <th></th>\n",
        "      <th></th>\n",
        "      <th></th>\n",
        "      <th></th>\n",
        "    </tr>\n",
        "  </thead>\n",
        "  <tbody>\n",
        "    <tr>\n",
        "      <th>KOI-94b</th>\n",
        "      <td>  10.5</td>\n",
        "      <td> 9.00</td>\n",
        "      <td> 0.05119</td>\n",
        "      <td> 0.250</td>\n",
        "      <td> 89.300</td>\n",
        "      <td> 19.536655</td>\n",
        "      <td> 0</td>\n",
        "      <td>   0.000000</td>\n",
        "    </tr>\n",
        "    <tr>\n",
        "      <th>KOI-94c</th>\n",
        "      <td>  15.0</td>\n",
        "      <td> 0.46</td>\n",
        "      <td> 0.10130</td>\n",
        "      <td> 0.430</td>\n",
        "      <td> 88.360</td>\n",
        "      <td> 11.920739</td>\n",
        "      <td> 0</td>\n",
        "      <td> 139.268064</td>\n",
        "    </tr>\n",
        "    <tr>\n",
        "      <th>KOI-94d</th>\n",
        "      <td> 111.0</td>\n",
        "      <td> 0.38</td>\n",
        "      <td> 0.16840</td>\n",
        "      <td> 0.022</td>\n",
        "      <td> 89.871</td>\n",
        "      <td>-48.366461</td>\n",
        "      <td> 0</td>\n",
        "      <td> 341.905411</td>\n",
        "    </tr>\n",
        "    <tr>\n",
        "      <th>KOI-94e</th>\n",
        "      <td>  35.0</td>\n",
        "      <td> 0.69</td>\n",
        "      <td> 0.30460</td>\n",
        "      <td> 0.019</td>\n",
        "      <td> 89.760</td>\n",
        "      <td>  8.717457</td>\n",
        "      <td> 0</td>\n",
        "      <td> 163.695082</td>\n",
        "    </tr>\n",
        "  </tbody>\n",
        "</table>\n",
        "</div>"
       ],
       "metadata": {},
       "output_type": "pyout",
       "prompt_number": 187,
       "text": [
        "          mass  density        a      e       i       peri  node           M\n",
        "name                                                                        \n",
        "KOI-94b   10.5     9.00  0.05119  0.250  89.300  19.536655     0    0.000000\n",
        "KOI-94c   15.0     0.46  0.10130  0.430  88.360  11.920739     0  139.268064\n",
        "KOI-94d  111.0     0.38  0.16840  0.022  89.871 -48.366461     0  341.905411\n",
        "KOI-94e   35.0     0.69  0.30460  0.019  89.760   8.717457     0  163.695082"
       ]
      }
     ],
     "prompt_number": 187
    },
    {
     "cell_type": "code",
     "collapsed": false,
     "input": [
      "# convert planet masses to fractions of stellar mass and add to dataframe\n",
      "from astropy import constants as const\n",
      "mmstar = big_bodies.mass/mstar * (const.M_earth/const.M_sun)\n",
      "big_bodies['mmstar'] = mmstar\n",
      "big_bodies.mmstar"
     ],
     "language": "python",
     "metadata": {},
     "outputs": [
      {
       "metadata": {},
       "output_type": "pyout",
       "prompt_number": 188,
       "text": [
        "name\n",
        "KOI-94b    0.000025\n",
        "KOI-94c    0.000035\n",
        "KOI-94d    0.000261\n",
        "KOI-94e    0.000082\n",
        "Name: mmstar, dtype: float64"
       ]
      }
     ],
     "prompt_number": 188
    },
    {
     "cell_type": "code",
     "collapsed": false,
     "input": [
      "# sample Mercury input files\n",
      "big_init_string = ''')O+_06 Big-body initial data  (WARNING: Do not delete this line!!)\n",
      ") Lines beginning with `)' are ignored.\n",
      ")---------------------------------------------------------------------\n",
      " style (Cartesian, Asteroidal, Cometary) = Asteroidal\n",
      " epoch (in days) = '''+str(big_body_epoch)+'''\n",
      ")---------------------------------------------------------------------'''\n"
     ],
     "language": "python",
     "metadata": {},
     "outputs": [],
     "prompt_number": 189
    },
    {
     "cell_type": "code",
     "collapsed": false,
     "input": [
      "def grow_big_string(big_init_string,npl,name,mass,density,a,e,i,w,O,M):\n",
      "    big_string = big_init_string\n",
      "    for j in np.arange(npl):\n",
      "        big_string+='\\n'+str(big_bodies.index[j])+' '\n",
      "        big_string+=\"m=\"+str(big_bodies.mmstar[j])+' '\n",
      "        big_string+=\"r=\"+str(1.)+' '\n",
      "        big_string+=\"d=\"+str(big_bodies.density[j])+' '\n",
      "        big_string+='\\n '+str(a[j])+' '\n",
      "        big_string+=str(e[j])+' '\n",
      "        big_string+=str(i[j])+' '\n",
      "        big_string+='\\n '+str(w[j])+' '\n",
      "        big_string+=str(O[j])+' '\n",
      "        big_string+=str(M[j])+' '\n",
      "        big_string+='\\n 0. 0. 0.'\n",
      "    return big_string"
     ],
     "language": "python",
     "metadata": {},
     "outputs": [],
     "prompt_number": 190
    },
    {
     "cell_type": "code",
     "collapsed": false,
     "input": [
      "print grow_big_string(big_init_string,len(big_bodies),big_bodies.index,big_bodies.mmstar,big_bodies.density,big_bodies.a,big_bodies.e,big_bodies.i,big_bodies.peri,big_bodies.node,big_bodies.M)"
     ],
     "language": "python",
     "metadata": {},
     "outputs": [
      {
       "output_type": "stream",
       "stream": "stdout",
       "text": [
        ")O+_06 Big-body initial data  (WARNING: Do not delete this line!!)\n",
        ") Lines beginning with `)' are ignored.\n",
        ")---------------------------------------------------------------------\n",
        " style (Cartesian, Asteroidal, Cometary) = Asteroidal\n",
        " epoch (in days) = 2454964.6175\n",
        ")---------------------------------------------------------------------\n",
        "KOI-94b m=2.46957114394e-05 r=1.0 d=9.0 \n",
        " 0.05119 0.25 89.3 \n",
        " 19.5366549381 0 0.0 \n",
        " 0. 0. 0.\n",
        "KOI-94c m=3.52795877706e-05 r=1.0 d=0.46 \n",
        " 0.1013 0.43 88.36 \n",
        " 11.9207385399 0 139.268064311 \n",
        " 0. 0. 0.\n",
        "KOI-94d m=0.000261068949502 r=1.0 d=0.38 \n",
        " 0.1684 0.022 89.871 \n",
        " -48.3664606634 0 341.905411136 \n",
        " 0. 0. 0.\n",
        "KOI-94e m=8.23190381313e-05 r=1.0 d=0.69 \n",
        " 0.3046 0.019 89.76 \n",
        " 8.7174569646 0 163.695082006 \n",
        " 0. 0. 0.\n"
       ]
      }
     ],
     "prompt_number": 191
    },
    {
     "cell_type": "code",
     "collapsed": false,
     "input": [
      "def write_bigbodies_file(path, big_string):\n",
      "    text_file = open(path+\"/big.in\", \"w\")\n",
      "    text_file.write(big_string)\n",
      "    text_file.close()\n",
      "    return"
     ],
     "language": "python",
     "metadata": {},
     "outputs": [],
     "prompt_number": 192
    },
    {
     "cell_type": "markdown",
     "metadata": {},
     "source": [
      "Make Small Bodies Input File (for asteroids)."
     ]
    },
    {
     "cell_type": "code",
     "collapsed": false,
     "input": [
      "small_init_string = \"\"\")O+_06 Small-body initial data  (WARNING: Do not delete this line!!)\n",
      ") Lines beginning with `)' are ignored.\n",
      ")---------------------------------------------------------------------\n",
      " style (Cartesian, Asteroidal, Cometary) = Ast\n",
      ")---------------------------------------------------------------------\"\"\"\n",
      "print small_init_string"
     ],
     "language": "python",
     "metadata": {},
     "outputs": [
      {
       "output_type": "stream",
       "stream": "stdout",
       "text": [
        ")O+_06 Small-body initial data  (WARNING: Do not delete this line!!)\n",
        ") Lines beginning with `)' are ignored.\n",
        ")---------------------------------------------------------------------\n",
        " style (Cartesian, Asteroidal, Cometary) = Ast\n",
        ")---------------------------------------------------------------------\n"
       ]
      }
     ],
     "prompt_number": 141
    },
    {
     "cell_type": "code",
     "collapsed": false,
     "input": [
      "def write_smallbodies_file():\n",
      "    text_file = open(\"small_init.in\", \"w\")\n",
      "    text_file.write(small_init_string)\n",
      "    text_file.close()"
     ],
     "language": "python",
     "metadata": {},
     "outputs": [],
     "prompt_number": 142
    },
    {
     "cell_type": "markdown",
     "metadata": {},
     "source": [
      "Define Functions"
     ]
    },
    {
     "cell_type": "code",
     "collapsed": false,
     "input": [
      "def random_draw_aeiwOM(big_bodies):\n",
      "    a = np.random.normal(scale=1.0,size=4)*big_bodies.a*0.01 + big_bodies.a\n",
      "    e = np.random.normal(scale=1.0,size=4)*big_bodies.e*0.1 + big_bodies.e\n",
      "    i = np.random.normal(scale=1.0,size=4)*big_bodies.i*0.01 + big_bodies.i\n",
      "    w = (np.random.normal(scale=1.0,size=4)*big_bodies.peri*0.1 + big_bodies.peri) % 360.\n",
      "    O = (np.random.normal(scale=1.0,size=4)*0.1 + big_bodies.node) % 360.\n",
      "    M = (np.random.normal(scale=1.0,size=4)*big_bodies.M*0.01 + big_bodies.M) % 360.\n",
      "    return(a,e,i,w,O,M)"
     ],
     "language": "python",
     "metadata": {},
     "outputs": [],
     "prompt_number": 193
    },
    {
     "cell_type": "code",
     "collapsed": false,
     "input": [
      "def id_generator(size=6, chars=string.ascii_uppercase + string.digits):\n",
      "    return ''.join(random.choice(chars) for x in range(size))"
     ],
     "language": "python",
     "metadata": {},
     "outputs": [],
     "prompt_number": 194
    },
    {
     "cell_type": "code",
     "collapsed": false,
     "input": [
      "def run_mercury(fileid):\n",
      "    from subprocess import Popen, PIPE, STDOUT\n",
      "    \n",
      "    cmd1 = \"cd \"+fileid\n",
      "    cmd2 = \"./mercury6\"\n",
      "    cmd3 = \"./element6\"\n",
      "#    cmd4 = \"./close6\"\n",
      "    final = Popen(\"{}; {}; {}\".format(cmd1, cmd2, cmd3), shell=True, stdin=PIPE, \n",
      "              stdout=PIPE, stderr=STDOUT, close_fds=True)\n",
      "    stdout, nothing = final.communicate()\n",
      "    log = open('/log', 'w')\n",
      "    log.write(stdout)\n",
      "    log.close()\n",
      "    return"
     ],
     "language": "python",
     "metadata": {},
     "outputs": [],
     "prompt_number": 195
    },
    {
     "cell_type": "code",
     "collapsed": false,
     "input": [
      "def setup_trial(fileid):\n",
      "    print fileid\n",
      "    subprocess.call([\"cp\", \"-R\", \"inputfiles\", fileid])\n",
      "    a, e, i, w, O, M = random_draw_aeiwOM(big_bodies)\n",
      "    while a.any < 0 or e.any < 0 or e.any > 1: \n",
      "        print \"Drew a negative value for a or e, redrawing...\"\n",
      "        a, e, i, w, O, M = random_draw_aeiwOM(big_bodies)\n",
      "    big_string = grow_big_string(big_init_string,4, big_bodies.index, big_bodies.mmstar, big_bodies.density, a, e, i, w, O, M)\n",
      "    write_bigbodies_file(fileid,big_string)\n",
      "    return"
     ],
     "language": "python",
     "metadata": {},
     "outputs": [],
     "prompt_number": 200
    },
    {
     "cell_type": "markdown",
     "metadata": {},
     "source": [
      "Rev your engines"
     ]
    },
    {
     "cell_type": "code",
     "collapsed": false,
     "input": [
      "import os,sys,time\n",
      "import numpy as np\n",
      "\n",
      "from IPython.core.display import display\n",
      "from IPython import parallel\n",
      "rc = parallel.Client()\n",
      "rc.block = True\n",
      "lview = rc.load_balanced_view()"
     ],
     "language": "python",
     "metadata": {},
     "outputs": [
      {
       "output_type": "stream",
       "stream": "stderr",
       "text": [
        "/Users/lweiss/Library/Enthought/Canopy_64bit/User/lib/python2.7/site-packages/IPython/parallel/client/client.py:444: RuntimeWarning: \n",
        "            Controller appears to be listening on localhost, but not on this machine.\n",
        "            If this is true, you should specify Client(...,sshserver='you@10.10.94.113')\n",
        "            or instruct your controller to listen on an external IP.\n",
        "  RuntimeWarning)\n"
       ]
      }
     ],
     "prompt_number": 197
    },
    {
     "cell_type": "markdown",
     "metadata": {},
     "source": [
      "Import necessary functions and libraries on your engines"
     ]
    },
    {
     "cell_type": "code",
     "collapsed": false,
     "input": [
      "%%px\n",
      "import subprocess\n",
      "#from make_input_files import random_draw_aeiwOM\n",
      "# move functions to functions.py and do: from functions import *"
     ],
     "language": "python",
     "metadata": {},
     "outputs": [],
     "prompt_number": 198
    },
    {
     "cell_type": "markdown",
     "metadata": {},
     "source": [
      "Run mercury many times in parallel"
     ]
    },
    {
     "cell_type": "code",
     "collapsed": false,
     "input": [
      "# make the directories\n",
      "id_array = [id_generator() for x in xrange(nrun)]\n",
      "# edit files to prepare for mercury run\n",
      "for fileid in id_array:\n",
      "    setup_trial(fileid)\n",
      "# farm out mercury processing in those directories to all your engines\n",
      "lview.map(run_mercury,id_array)"
     ],
     "language": "python",
     "metadata": {},
     "outputs": [
      {
       "output_type": "stream",
       "stream": "stdout",
       "text": [
        "64OXBT\n",
        "WUEZV9"
       ]
      },
      {
       "output_type": "stream",
       "stream": "stdout",
       "text": [
        "\n",
        "G1OHIO\n",
        "EU76S3\n",
        "SQMZ3J"
       ]
      },
      {
       "output_type": "stream",
       "stream": "stdout",
       "text": [
        "\n",
        "M5ZKWW\n",
        "IQQ898\n",
        "3ILEPN"
       ]
      },
      {
       "output_type": "stream",
       "stream": "stdout",
       "text": [
        "\n",
        "HS0ADI\n",
        "YCX1PF\n"
       ]
      },
      {
       "metadata": {},
       "output_type": "pyout",
       "prompt_number": 199,
       "text": [
        "[None, None, None, None, None, None, None, None, None, None]"
       ]
      }
     ],
     "prompt_number": 199
    },
    {
     "cell_type": "markdown",
     "metadata": {},
     "source": [
      "Use glob.glob to collect files and push to fornax\n",
      "Use databases instead of file i/o."
     ]
    },
    {
     "cell_type": "code",
     "collapsed": false,
     "input": [],
     "language": "python",
     "metadata": {},
     "outputs": []
    }
   ],
   "metadata": {}
  }
 ]
}